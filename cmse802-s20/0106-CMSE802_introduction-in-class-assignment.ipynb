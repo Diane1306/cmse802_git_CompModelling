{
 "cells": [
  {
   "cell_type": "markdown",
   "metadata": {},
   "source": [
    "In order to successfully complete this assignment you need to participate both individually and in groups during class on **Monday January 6**.\n",
    "\n"
   ]
  },
  {
   "cell_type": "markdown",
   "metadata": {},
   "source": [
    "# Welcome to CMSE802  - Methods in Computational Modeling\n",
    "\n",
    "\n",
    "<img src=\"https://lh4.googleusercontent.com/1ZhZ1mZrqvQb_FP6Kbqp1RxAZX8DVcqFU3p3Tm0vt4h_pQH8fuP5BXcPWwNKuZexMpFfv9juX4Mw2ajKE6rR9MGGeZBg0yPdpylbGdHIktsAGsK4juIIjsf3PeJx=w740\" alt=\"Comparison of the Taj Mahal and a shack.  Designed to be an analogy to good and bad code\">\n",
    "\n",
    "It is common for the scientist-programmers to believe they have built the “Taj Mahal” of software models: the very best approach and tool for doing science in their field. Yet, when the methods are examined from a software development point of view its structure looks more like a shack (See comparison in the above Figure)\n",
    "\n",
    "In this course we hope to teach you the modeling methods and software development techniques to move your research projects from the shack on the right to the look more like the Taj Mahal on the left. \n",
    "\n",
    "If we had to break it down, this class is equal parts software development, modeling theory and example applications in science/engineering."
   ]
  },
  {
   "cell_type": "markdown",
   "metadata": {},
   "source": [
    "### Agenda for today's class (80 minutes)\n",
    "</p>\n",
    "\n",
    "\n",
    "1. [(10 minutes) Getting Started](#Getting_Started)\n",
    "2. [(10 minutes) Background Survey](#Background_Survey)\n",
    "3. [(15 minutes) Introductions](#Introductions)\n",
    "4. [(10 minutes) The House of Science](#T4)\n",
    "5. [(25 minutes) Syllabus and Schedule](#T5)\n",
    "6. [(10 minutes) Post-class procedure (Wrap-up)](#T6)"
   ]
  },
  {
   "cell_type": "markdown",
   "metadata": {},
   "source": [
    "---\n",
    "<a name=\"Getting_Started\"></a>\n",
    "\n",
    "# 1. Getting Started"
   ]
  },
  {
   "cell_type": "markdown",
   "metadata": {},
   "source": [
    "### &#9989; Step 1 - Get out your laptop\n",
    "* Feel free to grab one of the laptops in the classroom if you do not have your own. "
   ]
  },
  {
   "cell_type": "markdown",
   "metadata": {},
   "source": [
    "### &#9989; Step 2 - Activate your engineering account \n",
    "\n",
    "When you enrolled in class you should have received an engineering login.  Go to the following URL to activate the account and set your password.\n",
    "\n",
    "https://www.egr.msu.edu/decs/myaccount/?page=activate\n",
    "\n",
    "NOTE: The Default DECS password is APID then the @ symbole. \n",
    "\n",
    "ALSO NOTE: Anyone not enrolled in the course will likely not have an account. \n"
   ]
  },
  {
   "cell_type": "markdown",
   "metadata": {},
   "source": [
    "### &#9989; Step 3 - Download this jupyter notebook\n",
    "* Go to the class <a href=\"https://d2l.msu.edu/d2l/home/912152\">D2L</a> page and download a copy of this notebook"
   ]
  },
  {
   "cell_type": "markdown",
   "metadata": {},
   "source": [
    "### &#9989; Step 4 - Log onto the Engineering JupyterHub Website\n",
    "\n",
    "http://jupyterhub.egr.msu.edu\n"
   ]
  },
  {
   "cell_type": "markdown",
   "metadata": {},
   "source": [
    "### &#9989; Step 5 - Upload this notebook to newly created folder on Jupyterhub\n",
    "\n",
    "- Create a folder called CMSE802 and upload the file there."
   ]
  },
  {
   "cell_type": "markdown",
   "metadata": {},
   "source": [
    "---\n",
    "<a name=\"Background_Survey\"></a>\n",
    "\n",
    "# 2. Background Survey\n",
    "\n",
    "Run the following cell to embed the pre-class survey into this notebook:\n",
    "[Direct Link](https://docs.google.com/forms/d/e/1FAIpQLSchjcyA_J3D5GKpixWidbdVM8FSqWkMYESQPrc9Fdx0qfTu0g/viewform)"
   ]
  },
  {
   "cell_type": "code",
   "execution_count": 1,
   "metadata": {},
   "outputs": [
    {
     "data": {
      "text/html": [
       "\n",
       "<iframe \n",
       "\tsrc=\"https://docs.google.com/forms/d/e/1FAIpQLSf-1PN_Tk99QOuQGAK8T1p_V0AeumU_rrwH1xHzMqBvULy3rg/viewform?embedded=true\" \n",
       "\twidth=\"100%\" \n",
       "\theight=\"1000px\" \n",
       "\tframeborder=\"0\" \n",
       "\tmarginheight=\"0\" \n",
       "\tmarginwidth=\"0\">\n",
       "\tLoading...\n",
       "</iframe>\n"
      ],
      "text/plain": [
       "<IPython.core.display.HTML object>"
      ]
     },
     "execution_count": 1,
     "metadata": {},
     "output_type": "execute_result"
    }
   ],
   "source": [
    "from IPython.display import HTML\n",
    "HTML(\n",
    "\"\"\"\n",
    "<iframe \n",
    "\tsrc=\"https://docs.google.com/forms/d/e/1FAIpQLSf-1PN_Tk99QOuQGAK8T1p_V0AeumU_rrwH1xHzMqBvULy3rg/viewform?embedded=true\" \n",
    "\twidth=\"100%\" \n",
    "\theight=\"1000px\" \n",
    "\tframeborder=\"0\" \n",
    "\tmarginheight=\"0\" \n",
    "\tmarginwidth=\"0\">\n",
    "\tLoading...\n",
    "</iframe>\n",
    "\"\"\"\n",
    ")"
   ]
  },
  {
   "cell_type": "markdown",
   "metadata": {},
   "source": [
    "---\n",
    "<a name=\"Introductions\"></a>\n",
    "\n",
    "# 3. Introductions"
   ]
  },
  {
   "cell_type": "markdown",
   "metadata": {},
   "source": [
    "----\n",
    "\n",
    "# 4. Storytime with Dirk\n",
    "\n",
    "This course is more about practice than lecture. However, most days I will often have short \"mini-lectures\" or stories to tell that relates to what we are learning in class. \n",
    "\n",
    "The House of Science\n"
   ]
  },
  {
   "cell_type": "markdown",
   "metadata": {},
   "source": [
    "----\n",
    "\n",
    "# 5. Syllabus and Schedule\n",
    "\n",
    "Note links to the following resources will be made avaliable at the end of every class notebook file.\n",
    "\n",
    "- [Syllabus](https://docs.google.com/document/d/e/2PACX-1vTW4OzeUNhsuG_zvh06MT4r1tguxLFXGFCiMVN49XJJRYfekb7E6LyfGLP5tyLcHqcUNJjH2Vk-Isd8/pub)\n",
    "- [Preliminary Schedule](https://docs.google.com/spreadsheets/d/e/2PACX-1vRsQcyH1nlbSD4x7zvHWAbAcLrGWRo_RqeFyt2loQPgt3MxirrI5ADVFW9IoeLGSBSu_Uo6e8BE4IQc/pubhtml?gid=2142090757&single=true)\n",
    "- [Course D2L Page](https://d2l.msu.edu/d2l/home/912152)\n",
    "- [Git Repository](https://gitlab.msu.edu/colbrydi/cmse802-s20)\n"
   ]
  },
  {
   "cell_type": "markdown",
   "metadata": {},
   "source": [
    "----\n",
    "<a name=\"T5\"></a>\n",
    "#  6. Download and review next pre-class assignment\n",
    "I will try my best to post each weeks pre-class assignments before the weekend (hopefully on Thursday before class).  Note pre-class assignments are generally due at midnight the day before class.  To get credit for the pre-class assignment you will need to do the readings, answer the questions and submit your answers to the embeded google form.\n",
    "\n",
    "Here is this Wednesday's Pre-class assignments. \n",
    "\n",
    "* [0107--AvsN-pre-class-assignment](0107--AvsN-pre-class-assignment.ipynb) \n",
    "\n",
    "**Please note** The filename an all assignments is the two digit month followed by the two digit day when a particular assignment is due.  "
   ]
  },
  {
   "cell_type": "markdown",
   "metadata": {},
   "source": [
    "-----\n",
    "### Congratulations, we're done!"
   ]
  },
  {
   "cell_type": "markdown",
   "metadata": {},
   "source": [
    "### Course Resources:\n",
    "\n",
    "- [Syllabus](https://docs.google.com/document/d/e/2PACX-1vTW4OzeUNhsuG_zvh06MT4r1tguxLFXGFCiMVN49XJJRYfekb7E6LyfGLP5tyLcHqcUNJjH2Vk-Isd8/pub)\n",
    "- [Preliminary Schedule](https://docs.google.com/spreadsheets/d/e/2PACX-1vRsQcyH1nlbSD4x7zvHWAbAcLrGWRo_RqeFyt2loQPgt3MxirrI5ADVFW9IoeLGSBSu_Uo6e8BE4IQc/pubhtml?gid=2142090757&single=true)\n",
    "- [Course D2L Page](https://d2l.msu.edu/d2l/home/912152)\n",
    "- [Git Repository](https://gitlab.msu.edu/colbrydi/cmse802-s20)"
   ]
  },
  {
   "cell_type": "markdown",
   "metadata": {},
   "source": [
    "&#169; Copyright 2020,  Michigan State University Board of Trustees"
   ]
  }
 ],
 "metadata": {
  "kernelspec": {
   "display_name": "Python 3",
   "language": "python",
   "name": "python3"
  },
  "language_info": {
   "codemirror_mode": {
    "name": "ipython",
    "version": 3
   },
   "file_extension": ".py",
   "mimetype": "text/x-python",
   "name": "python",
   "nbconvert_exporter": "python",
   "pygments_lexer": "ipython3",
   "version": "3.7.3"
  }
 },
 "nbformat": 4,
 "nbformat_minor": 2
}
