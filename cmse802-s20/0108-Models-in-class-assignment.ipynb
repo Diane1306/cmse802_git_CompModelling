{
 "cells": [
  {
   "cell_type": "markdown",
   "metadata": {},
   "source": [
    "In order to successfully complete this assignment you need to participate both individually and in groups during class on **Wednesday January 8**.\n",
    "\n"
   ]
  },
  {
   "cell_type": "markdown",
   "metadata": {},
   "source": [
    "# In-Class Assignment: Introduction to Models\n",
    "\n",
    "\n",
    "![John Von Neumann's  wisdom](http://www.azquotes.com/picture-quotes/quote-with-four-parameters-i-can-fit-an-elephant-and-with-five-i-can-make-him-wiggle-his-trunk-john-von-neumann-65-39-27.jpg)\n",
    "\n",
    "Image From: http://www.azquotes.com"
   ]
  },
  {
   "cell_type": "code",
   "execution_count": null,
   "metadata": {},
   "outputs": [],
   "source": [
    "%matplotlib inline\n",
    "\n",
    "\"\"\"\n",
    "Making von Neumann's dreams come true\n",
    "\n",
    "Author: Piotr A. Zolnierczuk (zolnierczukp at ornl dot gov)\n",
    " \n",
    "Based on a paper by:\n",
    "Drawing an elephant with four complex parameters\n",
    "Jurgen Mayer, Khaled Khairy, and Jonathon Howard,\n",
    "Am. J. Phys. 78, 648 (2010), DOI:10.1119/1.3254017\n",
    "\n",
    "https://aapt.scitation.org/doi/pdf/10.1119/1.3254017?class=pdf\n",
    "\"\"\"\n",
    "import numpy as np\n",
    "import matplotlib.pylab as plt\n",
    "\n",
    "# elephant parameters\n",
    "p1, p2, p3, p4 = (50 - 30j, 18 +  8j, 12 - 10j, -14 - 60j )\n",
    "p5 = 40 + 20j # eyepiece\n",
    " \n",
    "def fourier(t, C):\n",
    "    f = np.zeros(t.shape)\n",
    "    A, B = C.real, C.imag\n",
    "    for k in range(len(C)):\n",
    "        f = f + A[k]*np.cos(k*t) + B[k]*np.sin(k*t)\n",
    "    return f\n",
    " \n",
    "def elephant(t, p1, p2, p3, p4, p5):\n",
    "    npar = 6\n",
    "    Cx = np.zeros((npar,), dtype='complex')\n",
    "    Cy = np.zeros((npar,), dtype='complex')\n",
    " \n",
    "    Cx[1] = p1.real*1j\n",
    "    Cx[2] = p2.real*1j\n",
    "    Cx[3] = p3.real\n",
    "    Cx[5] = p4.real\n",
    " \n",
    "    Cy[1] = p4.imag + p1.imag*1j\n",
    "    Cy[2] = p2.imag*1j\n",
    "    Cy[3] = p3.imag*1j\n",
    " \n",
    "    x = np.append(fourier(t,Cx), [-p5.imag])\n",
    "    y = np.append(fourier(t,Cy), [p5.imag])\n",
    " \n",
    "    return x,y\n",
    " \n",
    "x, y = elephant(np.linspace(0,2*np.pi,1000), p1, p2, p3, p4, p5)\n",
    "plt.plot(y,-x,'.')\n",
    "plt.show()"
   ]
  },
  {
   "cell_type": "markdown",
   "metadata": {},
   "source": [
    "&#9989; <font color=red>**Bored student challenge:**</font> For more advanced students, if you are bored in class, see if you can get the elephant to wiggle it's trunk. "
   ]
  },
  {
   "cell_type": "markdown",
   "metadata": {},
   "source": [
    "### Agenda for today's class (80 minutes)\n",
    "\n",
    "</p>\n",
    "\n",
    "1. [(10 minutes) Review Pre-class assignment](#Review_Pre-class_assignment)\n",
    "2. [(30 minutes) Project Ideas](#Project_Ideas)\n",
    "2. [(10 minutes) Introduction to models](#Introduction_to_Models)\n",
    "5. [(20 minutes) Example Model](#Example_Model)"
   ]
  },
  {
   "cell_type": "markdown",
   "metadata": {},
   "source": [
    "---\n",
    "<a name=\"Review_Pre-class_assignment\"></a>\n",
    "\n",
    "# 1. Review Pre-class assignment\n",
    "\n",
    "[0107--AvsN-pre-class-assignment](0107--AvsN-pre-class-assignment.ipynb)"
   ]
  },
  {
   "cell_type": "markdown",
   "metadata": {},
   "source": [
    "---\n",
    "<a name=\"Project_Ideas\"></a>\n",
    "# 2. Project Ideas\n",
    "\n",
    "We will spend a few moments doing a \"**think-pair-share**\" exercise.  We need to get some ideas flowing for your programming projects.  Take a few moments to split up into groups, share your ideas and then we will talk about them as a class.\n",
    "\n",
    "- [0117-PROJECT_Proposal_Template](0117-PROJECT_Proposal_Template.ipynb)\n",
    "\n",
    "If you are having trouble thinking about what your project should be here are some ideas to help:\n",
    "\n",
    "- Proof of concept prototype.\n",
    "- \"Production\" code that generates publishable research data.\n",
    "- Library of methods commonly used by your group. \n",
    "- Data Workflows (data input, data conversion, data output, data exploration. visualizations).\n",
    "- Research Workflows (setting up experiments, wrapping code, scaling on the HPC, processing output).\n",
    "- Scientific Visualization (Generating complex figures or videos of your experiment).\n",
    "- Educational Materials (Introducing and explaining your research using code that can be used by students and new members of your lab). \n"
   ]
  },
  {
   "cell_type": "markdown",
   "metadata": {},
   "source": [
    "---\n",
    "<a name=\"Introduction_to_Models\"></a>\n",
    "# 3. Introduction to Models\n",
    "\n",
    "## What is a model?\n",
    "\n",
    "> * Disciplined story-telling\n",
    "> * “a precise and economical statement of a set of relationships that are sufficient to produce the phenomena in question” (Schelling).\n",
    "> * Complicated enough to explain something not so obvious or trivial, but simple enough to be intuitive once it’s explained (Schelling)\n",
    "> * A difficult tradeoff\n",
    "    \n",
    "from: https://csde.washington.edu/~handcock/simuw/Kollmantalk.pdf "
   ]
  },
  {
   "cell_type": "markdown",
   "metadata": {},
   "source": [
    "## Good models vs. bad models\n",
    "\n",
    "\n",
    "| **Complex Models**      |  **Simple Models**    |\n",
    "|-------------------------|-----------------------|\n",
    "|  Fit the observed data   |  Easy to interpret   | *PRO*\n",
    "| Don't generalize well   |     Hard to fit       | *CON*\n",
    "\n",
    "![Image of 2 models](https://upload.wikimedia.org/wikipedia/commons/6/68/Overfitted_Data.png)\n",
    "\n",
    "&#9989; <font color=red>**QUESTION:**</font>  In the above figure, the observed data is the dots, model 1 is the straight line and model 2 is the curve. Which model is better and why?"
   ]
  },
  {
   "cell_type": "markdown",
   "metadata": {},
   "source": [
    "Put your answer to the above question here."
   ]
  },
  {
   "cell_type": "markdown",
   "metadata": {},
   "source": [
    "## Different types of models\n",
    "$$\\begin{align*} \n",
    "\\text{Numerical}&\\leftrightarrow \\text{Analytical} & \\\\\n",
    "\\text{Specific}&\\leftrightarrow \\text{General}  & \\\\\n",
    "\\text{Model Estimation}&\\leftrightarrow \\text{First-principle Models}& \\\\\n",
    "\\text{Stochastic}&\\leftrightarrow \\text{Deterministic}  & \\\\\n",
    "\\text{Microscopic}&\\leftrightarrow \\text{Macroscopic}  & \\\\\n",
    "\\text{Discrete}&\\leftrightarrow \\text{Continuous}  & \\\\\n",
    "\\text{Qualitative}&\\leftrightarrow \\text{Quantitative}  & \\\\\n",
    "\\end{align*}$$\n",
    "\n",
    "From: **The Nature of Mathematical Modeling** by Neil Gershenfeld (Hardcover)"
   ]
  },
  {
   "cell_type": "markdown",
   "metadata": {},
   "source": [
    "## Taxonomy for Models:\n",
    "\n",
    "For the purpose of this course we will look at a wide variety of modles and see how they fit into the following taxonomy:\n",
    "\n",
    "* ### Analytical Models \n",
    "    * Ex. Ordinary Differencial Equations\n",
    "* ### Numrical Models\n",
    "    * Ex. Finite Element Analysis\n",
    "* ### Data Drivin Models\n",
    "    * Ex. Nural Networks"
   ]
  },
  {
   "cell_type": "markdown",
   "metadata": {},
   "source": [
    "---\n",
    "<a name=\"Example_Model\"></a>\n",
    "\n",
    "# 5. Example Model\n",
    "\n",
    "With a partner, see if you can figure out what the following code is doing. As you figure things out. Add comments and notes."
   ]
  },
  {
   "cell_type": "code",
   "execution_count": null,
   "metadata": {},
   "outputs": [],
   "source": [
    "%matplotlib inline\n",
    "import matplotlib.pylab as plt\n",
    "from IPython.display import display, clear_output\n",
    "import time\n",
    "def show_animation(delay=0.01):\n",
    "    fig = plt.gcf()\n",
    "    time.sleep(delay)       # Sleep for half a second to slow down the animation\n",
    "    clear_output(wait=True) # Clear output for dynamic display\n",
    "    display(fig)            # Reset display\n",
    "    fig.clear()             # Prevent overlapping and layered plots"
   ]
  },
  {
   "cell_type": "code",
   "execution_count": null,
   "metadata": {
    "scrolled": true
   },
   "outputs": [],
   "source": [
    "import numpy as np\n",
    "\n",
    "nx = 500;\n",
    "ny = 500;\n",
    "nt = 10000; \n",
    "frame=0;\n",
    "\n",
    "z = np.zeros([nx,ny])\n",
    "v = np.zeros([nx,ny])\n",
    "a = np.zeros([nx,ny])\n",
    "\n",
    "mx=10.0;\n",
    "mn=0.0;\n",
    "dx = (mx-mn)/(nx-1);\n",
    "dy = (mx-mn)/(ny-1);\n",
    "    \n",
    "tmax=20.0;\n",
    "dt= (tmax-0.0)/(nt-1);\n",
    "\n",
    "#Inicialize starting state\n",
    "for r in range(ny):\n",
    "    for c in range(nx):\n",
    "        x = mn+c*dx;\n",
    "        y = mn+r*dy;\n",
    "        z[r][c] = np.exp(-(np.sqrt((x-5.0)*(x-5.0)+(y-5.0)*(y-5.0))));\n",
    "        v[r][c] = 0.0;\n",
    "        a[r][c] = 0.0;\n",
    "        \n",
    "dx2inv=1.0/(dx*dx);\n",
    "dy2inv=1.0/(dy*dy);\n",
    "\n",
    "# Main Loop\n",
    "for it in range(nt-1):\n",
    "    #print(it);\n",
    "    for r in range(1,ny-1):\n",
    "        for c in range(1,nx-1):\n",
    "            ax = (z[r+1][c]+z[r-1][c]-2.0*z[r][c])*dx2inv\n",
    "            ay = (z[r][c+1]+z[r][c-1]-2.0*z[r][c])*dy2inv\n",
    "            a[r][c] = (ax+ay)/2\n",
    "    for r in range(1,ny-1):  \n",
    "        for c in range(1,nx-1):\n",
    "            v[r][c] = v[r][c] + dt*a[r][c];\n",
    "            z[r][c] = z[r][c] + dt*v[r][c];\n",
    "    if (it % 10 ==0):\n",
    "        plt.imshow(z)\n",
    "        plt.title(f'Iteration={it}')\n",
    "        print(f'print frame {it}')\n",
    "        show_animation();"
   ]
  },
  {
   "cell_type": "markdown",
   "metadata": {},
   "source": [
    "-----\n",
    "### Congratulations, we're done!"
   ]
  },
  {
   "cell_type": "markdown",
   "metadata": {},
   "source": [
    "### Course Resources:\n",
    "\n",
    "- [Syllabus](https://docs.google.com/document/d/e/2PACX-1vTW4OzeUNhsuG_zvh06MT4r1tguxLFXGFCiMVN49XJJRYfekb7E6LyfGLP5tyLcHqcUNJjH2Vk-Isd8/pub)\n",
    "- [Preliminary Schedule](https://docs.google.com/spreadsheets/d/e/2PACX-1vRsQcyH1nlbSD4x7zvHWAbAcLrGWRo_RqeFyt2loQPgt3MxirrI5ADVFW9IoeLGSBSu_Uo6e8BE4IQc/pubhtml?gid=2142090757&single=true)\n",
    "- [D2L Page](https://d2l.msu.edu/d2l/home/912152)\n",
    "- [Git Repository](https://gitlab.msu.edu/colbrydi/cmse802-s20)"
   ]
  },
  {
   "cell_type": "markdown",
   "metadata": {},
   "source": [
    "&#169; Copyright 2020,  Michigan State University Board of Trustees"
   ]
  }
 ],
 "metadata": {
  "kernelspec": {
   "display_name": "Python 3",
   "language": "python",
   "name": "python3"
  },
  "language_info": {
   "codemirror_mode": {
    "name": "ipython",
    "version": 3
   },
   "file_extension": ".py",
   "mimetype": "text/x-python",
   "name": "python",
   "nbconvert_exporter": "python",
   "pygments_lexer": "ipython3",
   "version": "3.7.3"
  }
 },
 "nbformat": 4,
 "nbformat_minor": 2
}
