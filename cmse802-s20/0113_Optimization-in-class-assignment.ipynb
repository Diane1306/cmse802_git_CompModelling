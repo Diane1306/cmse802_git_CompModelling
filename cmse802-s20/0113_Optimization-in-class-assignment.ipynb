{
 "cells": [
  {
   "cell_type": "markdown",
   "metadata": {},
   "source": [
    "In order to successfully complete this assignment you need to participate both individually and in groups during class on **Monday January 13**."
   ]
  },
  {
   "cell_type": "markdown",
   "metadata": {},
   "source": [
    "# In-Class Assignment:  Optimization\n",
    "\n",
    "<img alt=\"Picture of an optimization surface with a local and global minimum\" src=\"https://www.mathworks.com/content/dam/mathworks/videos/s/surrogate-optimization-public.mp4/_jcr_content/renditions/thumb-surrogate-optimization.png\">\n",
    "\n",
    "\n",
    "### The Power of Example Code\n",
    "\n",
    "One of the goals of this course is to teach you how to leverage the power of examples found on the Internet.  Often students, new to programming, see an code example they do not understand and immediately shut it own. Experienced programmers have learned that example code, even when not understood is a great way to learn something new.  The trick is to get comfortable playing with the code.  Here are some basic steps to try:\n",
    "\n",
    "* Copy and paste the code into a Jupyter notebook to see if you can get it working.  SOme common things to keep an eye out for include:\n",
    "    - **Python 2** examples (Keep an eye out for print statements without parentheses). These mostly easy to fix (add parentheses)\n",
    "    - **Code that uses plotting libraries** such as ```matplotlib```.  Make sure you use the ```@matplotlib inline``` option.  \n",
    "    - **Use of extermal libraries**. Although the Anaconda python distribution has a lot of libraries already included many example require some sort of ```pip``` or ```conda``` installation.  We will cover tricks for doing this in detail in class. Two easy ones are using local directory installs (ex packages) or better yet, using python virtual environments (conda environments). \n",
    "* Read and Google any debugging messages.  Always remember the three steps to debugging:\n",
    "    1. Find **WHERE** the bug is occurring.\n",
    "    2. Identify **WHAT** is causing the bug.\n",
    "    3. Figure out **HOW** to it.  \n",
    "* Once you get something running, then it is time to modify and change it to suite your needs. "
   ]
  },
  {
   "cell_type": "markdown",
   "metadata": {},
   "source": [
    "### Agenda for today's class (80 minutes)\n",
    "\n",
    "</p>\n",
    "\n",
    "\n",
    "\n",
    "1. [(20 minutes) Pre-class Assignment Review](#Pre-Class_Assignment_Review)\n",
    "1. [(20 minutes) Optimization Example](#Optimization_Example)\n",
    "1. [(20 minutes) Project Planning](#Project_Planning)\n",
    "1. [(20 minutes) Find your own example](#Find_your_own_example)"
   ]
  },
  {
   "cell_type": "markdown",
   "metadata": {},
   "source": [
    "----\n",
    "<a name=\"Pre-Class_Assignment_Review\"></a>\n",
    "\n",
    "# 1. Pre-Class Assignment Review\n",
    "\n",
    "* [0113_Optimization-in-class-assignment](0113_Optimization-in-class-assignment.ipynb)"
   ]
  },
  {
   "cell_type": "markdown",
   "metadata": {},
   "source": [
    "----\n",
    "<a name=\"Optimization_Example\"></a>\n",
    "\n",
    "# 2. Optimization Example\n",
    "\n",
    "Most of the textbook [IPython Cookbook, Second Edition (2018)](https://ipython-books.github.io/) is available for free on-line and is a great source of programming examples.  \n",
    "\n",
    "The following is a link to an optimization example from the textbook.  \n",
    "\n",
    "\n",
    "https://ipython-books.github.io/93-fitting-a-function-to-data-with-nonlinear-least-squares/\n"
   ]
  },
  {
   "cell_type": "markdown",
   "metadata": {},
   "source": [
    "&#9989; <font color=red>**DO THIS:**</font> Get example code working in a notebook (either this one or a new one) and share your results with your neighbors and be prepared to answer the questions below in class:\n"
   ]
  },
  {
   "cell_type": "markdown",
   "metadata": {},
   "source": [
    "&#9989; <font color=red>**QUESTION:**</font> What is this code doing?"
   ]
  },
  {
   "cell_type": "markdown",
   "metadata": {},
   "source": [
    "Put your answer to the above question here"
   ]
  },
  {
   "cell_type": "markdown",
   "metadata": {},
   "source": [
    "&#9989; <font color=red>**QUESTION:**</font> Where did you have the most trouble or did you get stuck? "
   ]
  },
  {
   "cell_type": "markdown",
   "metadata": {},
   "source": [
    "Put your answer to the above question here"
   ]
  },
  {
   "cell_type": "markdown",
   "metadata": {},
   "source": [
    "&#9989; <font color=red>**QUESTION:**</font> Is there anything in your own researcher that may be able to build off of this type of model? "
   ]
  },
  {
   "cell_type": "markdown",
   "metadata": {},
   "source": [
    "Put your answer to the above question here"
   ]
  },
  {
   "cell_type": "markdown",
   "metadata": {},
   "source": [
    "&#9989; <font color=red>**QUESTION:**</font> Is there anything else you learned from getting this example to work?"
   ]
  },
  {
   "cell_type": "markdown",
   "metadata": {},
   "source": [
    "Put your answer to the above question here"
   ]
  },
  {
   "cell_type": "markdown",
   "metadata": {},
   "source": [
    "----\n",
    "<a name=\"Project_Planning\"></a>\n",
    "\n",
    "# 3. Project Planning\n",
    "\n",
    "**_REMINDER_** Your project proposals are due Friday. \n",
    "\n",
    "Let's spend a few minutes today working on timelines for your projects.  Since each project is different there will be slightly different timelines. Some of you already know what how long each step will take while for others it is still ambiguous.  The goal of a timeline is to provide a best guess at what needs to be done and allows you to know if you are on track or if the timeline needs to be adjusted.  \n",
    "\n",
    "Below are a set of dates (Approx. every other Friday) that include deliverables planned for your projects. These sub-projects are designed to introduce you to useful software development tools\n",
    "\n",
    "\n",
    "- 1/17/2020 - Proposal Due\n",
    "- 1/31/2020 - Project git repository and structure due\n",
    "- 2/14/2020 - Stub functions and Example code integration (With documentation)\n",
    "- 2/28/2020 - Coding standers and Unit Test integrated into project\n",
    "- 3/1/2020 - Spring break week\n",
    "- 3/20/2020 - Code Draft (Code Review 1) \n",
    "- 4/3/2020 - Code Draft (Code Review 2) \n",
    "- 4/20/2020 - Final Project and Presentation Due\n",
    "\n",
    "\n",
    "&#9989; <font color=red>**DO THIS:**</font> - Given the above due dates and the scope of your own project create your own timeline below.  Start from the Final Presentation and work backwards.  I recommend 2-week increments and make sure you give yourself plenty of wiggle room for life happening.  "
   ]
  },
  {
   "cell_type": "markdown",
   "metadata": {},
   "source": [
    "Put your timeline here."
   ]
  },
  {
   "cell_type": "markdown",
   "metadata": {},
   "source": [
    "&#9989; <font color=red>**DO THIS:**</font> - Once you are done, add your timeline to your git repository.  Either include it in a \"Proposal\" folder as a timeline.ipynb file or just add it to your proposal document.  "
   ]
  },
  {
   "cell_type": "markdown",
   "metadata": {},
   "source": [
    "* [Journal of Open Source Science](https://joss.readthedocs.io/en/latest/submitting.html)\n",
    "\n",
    "    * PROJECT (Top git repository folder)\n",
    "        - .git (folder containing your git repository\n",
    "        - doc (folder containing your sphinx documentation files)\n",
    "        - PROJECT (folder containing your python and test code)\n",
    "        - REPORTS (folder containing your reports)\n",
    "        - setup.py (file for enabling pip install)"
   ]
  },
  {
   "cell_type": "markdown",
   "metadata": {},
   "source": [
    "----\n",
    "<a name=\"Find_your_own_example\"></a>\n",
    "\n",
    "# 4. Find your own example\n",
    "\n",
    "In the remainder of the class period, go off and find optimization libraries and examples.  Find something you can download and get up and running. Share what you found with your neighbors and the instructors. "
   ]
  },
  {
   "cell_type": "markdown",
   "metadata": {},
   "source": [
    "-----\n",
    "### Congratulations, we're done!"
   ]
  },
  {
   "cell_type": "markdown",
   "metadata": {},
   "source": [
    "### Course Resources:\n",
    "\n",
    "- [Syllabus](https://docs.google.com/document/d/e/2PACX-1vTW4OzeUNhsuG_zvh06MT4r1tguxLFXGFCiMVN49XJJRYfekb7E6LyfGLP5tyLcHqcUNJjH2Vk-Isd8/pub)\n",
    "- [Preliminary Schedule](https://docs.google.com/spreadsheets/d/e/2PACX-1vRsQcyH1nlbSD4x7zvHWAbAcLrGWRo_RqeFyt2loQPgt3MxirrI5ADVFW9IoeLGSBSu_Uo6e8BE4IQc/pubhtml?gid=2142090757&single=true)\n",
    "- [D2L Page](https://d2l.msu.edu/d2l/home/912152)\n",
    "- [Git Repository](https://gitlab.msu.edu/colbrydi/cmse802-s20)"
   ]
  },
  {
   "cell_type": "markdown",
   "metadata": {},
   "source": [
    "&#169; Copyright 2020,  Michigan State University Board of Trustees"
   ]
  }
 ],
 "metadata": {
  "kernelspec": {
   "display_name": "Python 3",
   "language": "python",
   "name": "python3"
  },
  "language_info": {
   "codemirror_mode": {
    "name": "ipython",
    "version": 3
   },
   "file_extension": ".py",
   "mimetype": "text/x-python",
   "name": "python",
   "nbconvert_exporter": "python",
   "pygments_lexer": "ipython3",
   "version": "3.7.3"
  }
 },
 "nbformat": 4,
 "nbformat_minor": 2
}
