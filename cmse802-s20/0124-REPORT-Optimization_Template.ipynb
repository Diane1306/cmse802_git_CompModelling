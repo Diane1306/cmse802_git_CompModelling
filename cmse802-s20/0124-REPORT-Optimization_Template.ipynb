{
 "cells": [
  {
   "cell_type": "markdown",
   "metadata": {},
   "source": [
    "In order to successfully complete this assignment you need to turn in a project proposal to D2L on or before **11:59pm on Friday January 24**."
   ]
  },
  {
   "cell_type": "markdown",
   "metadata": {},
   "source": [
    "# <center>Using Optimization in #your research area here#</center>\n",
    "\n",
    "<center>by #Your name#</center>"
   ]
  },
  {
   "cell_type": "markdown",
   "metadata": {},
   "source": [
    "---\n",
    "# Instructions\n",
    "\n",
    "Write a ~1-2 page report about how Optimization methods could be used in your area of research.  There are three basic forms to this report:\n",
    "\n",
    "1. Optimization methods are already used in your area of research.  Provide a summary and include references.  If possible include a short example that could be demonstrated in class. \n",
    "2. Describe how you could incorporate Optimization methods into your research domain.  What research questions might you be able to ask, improve or validate?\n",
    "3. Optimization methods can not be used in your area of research.  Explain in detail why they can't be used.  \n",
    "\n",
    "To be clear, I think 1 and 2 will be the most common reports.  If you choose 3 you need to make a very convincing and thought out argument.  Use your imaginations!  The best idea come from combining expertise in seemingly unrelated topics. \n",
    "\n",
    "Write your report in either Jupyter notebooks or Markdown. If you use Jupyter notebooks (which I tend to like) make sure you do not include these instructions. Write the report so someone outside of the course could make sense of how Optimization methods can be used in your area of research. "
   ]
  },
  {
   "cell_type": "markdown",
   "metadata": {},
   "source": [
    "---\n",
    "# References\n",
    "\n",
    "In all three example provide some references to papers you found that help illustrate your argument. I prefer references with links to papers.  \n",
    "\n",
    "\n",
    "**Side hack:** Also, I love [zotero](https://www.zotero.org/) and I really like Jupyter notebooks. I would love it if one of you got board and figured out how to cite references and build a bibliography inside notebooks.  Something like [cite2c](https://github.com/takluyver/cite2c) looks like it would be really cool but I haven't tried it."
   ]
  },
  {
   "cell_type": "markdown",
   "metadata": {},
   "source": [
    "-----\n",
    "### Congratulations, you are done!\n",
    "\n",
    "Now, you just need to submit this report by uploading it to the course <a href=\"https://d2l.msu.edu/\">Desire2Learn</a> web page for today's dropbox."
   ]
  },
  {
   "cell_type": "markdown",
   "metadata": {},
   "source": []
  }
 ],
 "metadata": {
  "anaconda-cloud": {},
  "kernelspec": {
   "display_name": "Python 3",
   "language": "python",
   "name": "python3"
  },
  "language_info": {
   "codemirror_mode": {
    "name": "ipython",
    "version": 3
   },
   "file_extension": ".py",
   "mimetype": "text/x-python",
   "name": "python",
   "nbconvert_exporter": "python",
   "pygments_lexer": "ipython3",
   "version": "3.7.3"
  }
 },
 "nbformat": 4,
 "nbformat_minor": 1
}
