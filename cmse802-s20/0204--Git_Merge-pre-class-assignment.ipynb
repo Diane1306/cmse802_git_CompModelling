{
 "cells": [
  {
   "cell_type": "markdown",
   "metadata": {},
   "source": [
    "In order to successfully complete this assignment you must do the required reading, watch the provided videos and complete all instructions.  The embedded Google form must be entirely filled out and submitted on or before **11:59pm on Tuesday February 4**.  Students must come to class the next day prepared to discuss the material covered in this assignment. answer"
   ]
  },
  {
   "cell_type": "markdown",
   "metadata": {},
   "source": [
    "# Pre-Class Assignment: More on using Git"
   ]
  },
  {
   "cell_type": "markdown",
   "metadata": {},
   "source": [
    "### Goals for today's pre-class assignment \n",
    "\n",
    "</p>\n",
    "\n",
    "4. [Git Merge Video](#Git_Merge_Video)\n",
    "2. [Version control mini-bootcamp using Git](#Version_control_mini-bootcamp_using_Git)\n",
    "5. [Assignment wrap-up](#Assignment_wrap-up)"
   ]
  },
  {
   "cell_type": "markdown",
   "metadata": {},
   "source": [
    "----\n",
    "<a name=\"Git_Merge_Video\"></a>\n",
    "# 1. Git Merge Video\n",
    "\n",
    "One of my pet peves for git is that there are multiple commands with different names that do basically the same thing.  \n",
    "\n",
    "For example the \"git Merge\" command is one of the most important mechanisms\n",
    "\n",
    "Git core secret to git is understanding merging two branches in git.  Actually one of my pet peves is that there are a lot of commands in get but they are just special cases of the merge command.  \n",
    "\n",
    "For example, git pull is a mer\n",
    "\n",
    "Another longer video about git merge.  "
   ]
  },
  {
   "cell_type": "code",
   "execution_count": null,
   "metadata": {},
   "outputs": [],
   "source": [
    "from IPython.display import YouTubeVideo\n",
    "YouTubeVideo(\"0iuqXh0oojo\",width=640,height=360)"
   ]
  },
  {
   "cell_type": "markdown",
   "metadata": {},
   "source": [
    "----\n",
    "<a name=\"Version_control_mini-bootcamp_using_Git\"></a>\n",
    "# 2.  Version control mini-bootcamp using Git\n",
    "\n",
    "#### Created by Devin W. Silvia (January 2018)\n",
    "\n",
    "> The following \"mini-bootcamp\" was created by Dr. Devin W. Silvia in January of 2018 for CMSE202.  No changes have been made to the instructions. Please read though them and see if they make sense.  Pay particular attention to the last few instructions that discuss merging.\n",
    "\n",
    "Before we get  started, note that any  line that follow \"\\$\"  will be a\n",
    "command that you enter on the command line.\n",
    "\n",
    "With that said, let's begin.\n",
    "\n",
    "### PART ONE: Creating and maintaining a local repository\n",
    "\n",
    "First, let's get create a \"code\" directory on our machine so that we\n",
    "can set up a new repository for testing out git. Once we create it, we\n",
    "jump into that directory\n",
    "\n",
    "Navigate to the directory where you want to store your code and then:\n",
    "\n",
    "`$ mkdir code`\n",
    "\n",
    "`$ cd code`\n",
    "\n",
    "Now, create a new directory to use for testing git and move into it:\n",
    "\n",
    "`$ mkdir git_test`\n",
    "\n",
    "`$ cd git_test`\n",
    "\n",
    "Git is called  using the command \"git\".   To see what you  can do with\n",
    "git, you can run \"git help\".\n",
    "\n",
    "Now, let's we need to initialize our repository:\n",
    "\n",
    "`$ git init`\n",
    "\n",
    "This creates a special hidden directory  called \".git\", you can see it\n",
    "by running \"ls  -a\".  In this directory, git  stores information about\n",
    "the repository  and tracks changes.   Generally, you won't have  to do\n",
    "anything inside this directory.\n",
    "\n",
    "By default,  the repository won't  track any  files until you  tell it\n",
    "to. Files that  exist in the directory, but haven't  been added to the\n",
    "repo (short for repository) will be marked as an \"untracked file\" when\n",
    "you type \"git status\".   To see the full list of  markers used by \"git\n",
    "status\",  run \"git  help status\".  Note, \"git  status\" will  only show\n",
    "information  about files  that have  been added,  changed, or  removed\n",
    "since the last time a commit was made to the repository.\n",
    "\n",
    "Now, let's create a file and then  add it to the repo (while running a\n",
    "few other commands along the way):\n",
    "\n",
    "`$ touch dummy_file.txt`\n",
    "\n",
    "(Note: \"touch\" is just an easy way to create an empty file)\n",
    "\n",
    "`$ git status`\n",
    "\n",
    "`$ git add dummy_file.txt`\n",
    "\n",
    "`$ git status`\n",
    "\n",
    "`$ git commit`\n",
    "\n",
    "You'll  get an  editor  window that  expects you  to  record a  commit\n",
    "message. *NOTE*: You may not  be familiar  with the editor  window that\n",
    "pops up! The common default is vi/vim. If you're not familiar with how\n",
    "to use this, you  might have to google how to use  vi/vim. If you want\n",
    "to  change you  default editor  to something  you're more  comfortable\n",
    "with, you  can run one  of the  following commands, depending  on what\n",
    "editor you want to use:\n",
    "\n",
    "To use nano:\n",
    "\n",
    "`$ git config --global core.editor \"nano\"`\n",
    "\n",
    "To use Atom:\n",
    "\n",
    "`$ git config --global core.editor \"atom --wait\"`\n",
    "\n",
    "To use Emacs:\n",
    "\n",
    "`$ git config --global core.editor \"emacs -nw\"`\n",
    "\n",
    "It is  important to understand that  you must have these  text editors\n",
    "installed on your computer for these to work. If you don't want to use\n",
    "any of these you'll want to do a search to figure out how to correctly\n",
    "set the editor to the one that you want.\n",
    "\n",
    "Commit messages are very important for keeping track of what\n",
    "changes when into a particular commit. Even though it is very tempting\n",
    "to be lazy with commit messages, detailed commit messages will be more\n",
    "useful to you  down to the road than something  along the lines \"added\n",
    "more stuff to the repo\".\n",
    "\n",
    "**USE QUALITY COMMIT MESSAGES.**\n",
    "\n",
    "For example, I might put something like:\n",
    "\n",
    ">\n",
    ">\"Added the first file to the repository.\n",
    ">\n",
    ">This file is a dummy file that contains no information but was created\n",
    "for the purpose of testing out git.\"\n",
    "\n",
    "Note, it is  useful to put a short, yet  descriptive, one-liner at the\n",
    "beginning  of  a commit  and  then  put  a more  detailed  explanation\n",
    "below. The first line  will be used by git in the  output of \"git log\"\n",
    "and can useful for keeping the log short but informative.\n",
    "\n",
    "As I just  suggested, to see the  current history of the  repo, we can\n",
    "run:\n",
    "\n",
    "`$ git log`\n",
    "\n",
    "As the number  of commits build up,  the ouptut of \"git  log\" will get\n",
    "long.  Since log  output revision information from the  most recent to\n",
    "the least recent, looking at the most recent changesets often involves\n",
    "having to  scroll up in your  terminal window adding \"|  less\" to your\n",
    "\"git log\"  call will  allow you to  step through the  log at  your own\n",
    "pace.\n",
    "\n",
    "Revision numbers are  useful for moving between  different versions of\n",
    "the code, we'll see an example of that in a bit.\n",
    "\n",
    "Just to  make sure we've locked  down the basics of  committing, let's\n",
    "add another  file, but this  time, open  it using your  preferred text\n",
    "editor (again, I'll be using emacs) and put in some information:\n",
    "\n",
    "`$ emacs not_just_a_dummy_file.txt`\n",
    "\n",
    "(write a couple  sentences and then save  and exit  the file)\n",
    "\n",
    "`$ git add not_just_a_dummy_file.txt`\n",
    "\n",
    "`$ git commit`\n",
    "\n",
    "`$ git log | less`\n",
    "\n",
    "At this point, we can see the commits we've made and everything should\n",
    "be looking  good.  Now, let's open  up that file we  just commited and\n",
    "change something:\n",
    "\n",
    "`$ emacs  not_just_a_dummy_file.txt`\n",
    "\n",
    "(Add, remove, or  edit something in the file. Save and exit)\n",
    "\n",
    "`$ git status`\n",
    "\n",
    "Git is showing that we've modified  that file.  That's great, but what\n",
    "if we  want to see exactly  what we changed?  That's  where \"git diff\"\n",
    "comes in:\n",
    "\n",
    "`$ git diff`\n",
    "\n",
    "Git shows us what files in the  repo have been changed and how they've\n",
    "been changed -- very useful!\n",
    "\n",
    "If I'm happy with the changes, I  can go ahead and commit the modified\n",
    "file.\n",
    "\n",
    "`$ git commit -a (Make sure to put a useful commit message!)`\n",
    "\n",
    "(Note: the -a tell git to stage the file and commit the change\n",
    " at the same time.)\n",
    "\n",
    "`$ git log | less`\n",
    "\n",
    "OK, great, we're making and tracking changes.  What else can we do?\n",
    "\n",
    "Thanks to version  control, not only do we have  access to the history\n",
    "of our repository, but we can also  go back to any previous version of\n",
    "the code.\n",
    "\n",
    "Let's say  we wanted  to see what  the code was  like before  our last\n",
    "commit.   Using \"git  log\",  we can  get the  revision  number of  the\n",
    "previous commit and then \"checkout\" the version of that code.\n",
    "\n",
    "`$ git checkout [first 6 digits of revision number]`\n",
    "\n",
    "(Note:  the first  6 digits of  the revision number are in the \"git log\" file)\n",
    "\n",
    "Git tells us that we are in a detached HEAD state, meaning that we are\n",
    "at a previous version of the repository, specifically the version we\n",
    "requested. It also provides useful information about what we can do\n",
    "from here. Take a look at not\\_just\\_a\\_dummy\\_file.txt. It should look\n",
    "like the version you committed before you made your change.\n",
    "\n",
    "It is important to keep in mind that we have moved to a past version\n",
    "of the code, if we were to make a change now and commit it, we would\n",
    "be changing that old version and the commit process would create a new\n",
    "\"HEAD\" of sorts. We could then later save this code development as a\n",
    "new branch, if we wanted. You’ll learn more about heads as you work\n",
    "with repositories more, but for now let's just get back to the most\n",
    "current version of the code:\n",
    "\n",
    "`$ git checkout master`\n",
    "\n",
    "By specifying \"master\" we jump back to the HEAD of the master branch,\n",
    "which is the most recent version of the code. As an aside, it is also\n",
    "possible to check out the previous version of a specific file. While\n",
    "checking out a previous version of the entire code base doesn't change\n",
    "the code, checking out the prior state of a specific file does, so be\n",
    "aware of this.\n",
    "\n",
    "Now, let's make  a couple more changes  to the code.  We'll  add a new\n",
    "file with some text in it and edit not\\_just\\_a\\_dummy\\_file.txt:\n",
    "\n",
    "`$ emacs another_file.txt`\n",
    "\n",
    "(write a couple things in the file, save, and exit)\n",
    "\n",
    "`$ git add another_file.txt`\n",
    "\n",
    "`$ emacs not_just_a_dummy_file.txt`\n",
    "\n",
    "(make a change or two, save, and exit)\n",
    "\n",
    "`$ git status`\n",
    "\n",
    "Now, we can see that we added another\\_file.txt and modified\n",
    "not\\_just\\_a\\_dummy\\_file.txt (thought it's technically not staged for\n",
    "commit).\n",
    "\n",
    "Let's say we think about the state of our code for a bit and we decide\n",
    "we don't like the changes me made to not\\_just\\_a\\_dummy\\_file.txt, but we\n",
    "don't want to go  back in by hand and change it back,  in this case we\n",
    "need to \"revert\" the file to the state it was in at our last commit:\n",
    "\n",
    "`$ git checkout -- not_just_a_dummy_file.txt`\n",
    "\n",
    "`$ git status`\n",
    "\n",
    "Now we see that we still have the added file and\n",
    "not\\_just\\_a\\_dummy\\_file.txt is no longer marked as \"modified\". If we're\n",
    "happy with the current state of our repo, we can go ahead and commit\n",
    "again:\n",
    "\n",
    "`$ git commit`\n",
    "\n",
    "Finally, let's say  we've gotten a little carried away  with all these\n",
    "files we've generated and we want to thin things out by getting rid of\n",
    "dummy_file.txt.  We could try doing:\n",
    "\n",
    "`$ rm dummy_file.txt`\n",
    "\n",
    "`$ git status`\n",
    "\n",
    "Uh oh, dummy\\_file.txt is now marked with as \"deleted\". This indicates\n",
    "that the file was deleted, but not with a git command, so it is still\n",
    "being tracked. We need to actually properly deleted the file and then\n",
    "commit the change using \"git rm\":\n",
    "\n",
    "`$ git rm dummy_file.txt`\n",
    "\n",
    "`$ git commit`\n",
    "\n",
    "That's it for exploring what you  can do with a local repository.  The\n",
    "next section will  walk you through how to interact  with a web-hosted\n",
    "repository, specifically the one we will be using for this course.\n"
   ]
  },
  {
   "cell_type": "markdown",
   "metadata": {},
   "source": [
    "----\n",
    "<a name=\"Assignment_wrap-up)\"></a>\n",
    "# 3. Assignment wrap-up\n",
    "\n",
    "Please fill out the form that appears when you run the code below.  **You must completely fill this out in order to receive credit for the assignment!**\n",
    "\n",
    "[Direct Link to Google Form](https://cmse.msu.edu/cmse802-pc-survey)\n",
    "\n",
    "\n",
    "If you have trouble with the embedded form, please make sure you log on with your MSU google account at [googleapps.msu.edu](https://googleapps.msu.edu) and then click on the direct link above."
   ]
  },
  {
   "cell_type": "markdown",
   "metadata": {},
   "source": [
    "&#9989; <font color=red>**Assignment-Specific QUESTION:**</font> There is no Assignment specific question for this notebook. You can just say \"none\"."
   ]
  },
  {
   "cell_type": "markdown",
   "metadata": {},
   "source": [
    "Put your answer to the above question here"
   ]
  },
  {
   "cell_type": "markdown",
   "metadata": {},
   "source": [
    "&#9989; <font color=red>**QUESTION:**</font>  Summarize what you did in this assignment."
   ]
  },
  {
   "cell_type": "markdown",
   "metadata": {},
   "source": [
    "Put your answer to the above question here"
   ]
  },
  {
   "cell_type": "markdown",
   "metadata": {},
   "source": [
    "&#9989; <font color=red>**QUESTION:**</font>  What questions do you have, if any, about any of the topics discussed in this assignment after working through the jupyter notebook?"
   ]
  },
  {
   "cell_type": "markdown",
   "metadata": {},
   "source": [
    "Put your answer to the above question here"
   ]
  },
  {
   "cell_type": "markdown",
   "metadata": {},
   "source": [
    "&#9989; <font color=red>**QUESTION:**</font>  How well do you feel this assignment helped you to achieve a better understanding of the above mentioned topic(s)?"
   ]
  },
  {
   "cell_type": "markdown",
   "metadata": {},
   "source": [
    "Put your answer to the above question here"
   ]
  },
  {
   "cell_type": "markdown",
   "metadata": {},
   "source": [
    "&#9989; <font color=red>**QUESTION:**</font> What was the **most** challenging part of this assignment for you? "
   ]
  },
  {
   "cell_type": "markdown",
   "metadata": {},
   "source": [
    "Put your answer to the above question here"
   ]
  },
  {
   "cell_type": "markdown",
   "metadata": {},
   "source": [
    "&#9989; <font color=red>**QUESTION:**</font> What was the **least** challenging part of this assignment for you? "
   ]
  },
  {
   "cell_type": "markdown",
   "metadata": {},
   "source": [
    "Put your answer to the above question here"
   ]
  },
  {
   "cell_type": "markdown",
   "metadata": {},
   "source": [
    "&#9989; <font color=red>**QUESTION:**</font>  What kind of additional questions or support, if any, do you feel you need to have a better understanding of the content in this assignment?"
   ]
  },
  {
   "cell_type": "markdown",
   "metadata": {},
   "source": [
    "Put your answer to the above question here"
   ]
  },
  {
   "cell_type": "markdown",
   "metadata": {},
   "source": [
    "&#9989; <font color=red>**QUESTION:**</font>  Do you have any further questions or comments about this material, or anything else that's going on in class?"
   ]
  },
  {
   "cell_type": "markdown",
   "metadata": {},
   "source": [
    "Put your answer to the above question here"
   ]
  },
  {
   "cell_type": "markdown",
   "metadata": {},
   "source": [
    "&#9989; <font color=red>**QUESTION:**</font> Approximately how long did this pre-class assignment take?"
   ]
  },
  {
   "cell_type": "markdown",
   "metadata": {},
   "source": [
    "Put your answer to the above question here"
   ]
  },
  {
   "cell_type": "code",
   "execution_count": null,
   "metadata": {},
   "outputs": [],
   "source": [
    "from IPython.display import HTML\n",
    "HTML(\n",
    "\"\"\"\n",
    "<iframe \n",
    "\tsrc=\"https://cmse.msu.edu/cmse802-pc-survey?embedded=true\" \n",
    "\twidth=\"100%\" \n",
    "\theight=\"1200px\" \n",
    "\tframeborder=\"0\" \n",
    "\tmarginheight=\"0\" \n",
    "\tmarginwidth=\"0\">\n",
    "\tLoading...\n",
    "</iframe>\n",
    "\"\"\"\n",
    ")"
   ]
  },
  {
   "cell_type": "markdown",
   "metadata": {},
   "source": [
    "---------\n",
    "### Congratulations, we're done!\n",
    "\n",
    "To get credit for this assignment you must fill out and submit the above Google From on or before the assignment due date."
   ]
  },
  {
   "cell_type": "markdown",
   "metadata": {},
   "source": [
    "### Course Resources:\n",
    "\n",
    "- [Syllabus](https://docs.google.com/document/d/e/2PACX-1vTW4OzeUNhsuG_zvh06MT4r1tguxLFXGFCiMVN49XJJRYfekb7E6LyfGLP5tyLcHqcUNJjH2Vk-Isd8/pub)\n",
    "- [Preliminary Schedule](https://docs.google.com/spreadsheets/d/e/2PACX-1vRsQcyH1nlbSD4x7zvHWAbAcLrGWRo_RqeFyt2loQPgt3MxirrI5ADVFW9IoeLGSBSu_Uo6e8BE4IQc/pubhtml?gid=2142090757&single=true)\n",
    "- [Course D2L Page](https://d2l.msu.edu/d2l/home/912152)"
   ]
  },
  {
   "cell_type": "markdown",
   "metadata": {},
   "source": [
    "&#169; Copyright 2020,  Michigan State University Board of Trustees"
   ]
  }
 ],
 "metadata": {
  "anaconda-cloud": {},
  "kernelspec": {
   "display_name": "Python 3",
   "language": "python",
   "name": "python3"
  },
  "language_info": {
   "codemirror_mode": {
    "name": "ipython",
    "version": 3
   },
   "file_extension": ".py",
   "mimetype": "text/x-python",
   "name": "python",
   "nbconvert_exporter": "python",
   "pygments_lexer": "ipython3",
   "version": "3.7.3"
  }
 },
 "nbformat": 4,
 "nbformat_minor": 2
}
