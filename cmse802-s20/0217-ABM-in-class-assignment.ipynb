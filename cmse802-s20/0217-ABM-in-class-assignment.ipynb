{
 "cells": [
  {
   "cell_type": "markdown",
   "metadata": {},
   "source": [
    "In order to successfully complete this assignment you need to participate both individually and in groups during class on **Monday February 17**.\n",
    "\n"
   ]
  },
  {
   "cell_type": "markdown",
   "metadata": {},
   "source": [
    "# In-class assignment: Agent-Based Modeling and Object Oriented Programming \n",
    "\n",
    "<img src='https://media.giphy.com/media/v0oAfoeYyvbnq/giphy.gif' alt=\"drawing\" width=600 align=\"center\">\n",
    "\n",
    "Image obtained from https://giphy.com/"
   ]
  },
  {
   "cell_type": "markdown",
   "metadata": {},
   "source": [
    "### Agenda for today's class (80 minutes)\n",
    "\n",
    "</p>\n",
    "\n",
    "\n",
    "\n",
    "1. [(30 minutes) Project Code Review](#Project_Code_Review)\n",
    "1. [(20 minutes) Pre-class Review](#Pre-class_Review)\n",
    "1. [(30 minutes) Write Ant Agent Based Model](#Write_Ant_Agent_Based_Model)"
   ]
  },
  {
   "cell_type": "markdown",
   "metadata": {},
   "source": [
    "----\n",
    "\n",
    "<a name=\"Project_Code_Review\"></a>\n",
    "\n",
    "# 1. Project Code Review\n",
    "\n",
    "Let's practice some git cloning again.  Break up into groups.  Create a directory called ```Testing``` and clone each of your groups git repository into your directory.\n",
    "\n",
    "Discuss your project documentation, organization and any troubles you have sharing your repositories.  The documentation should be complete enough for you to understand what is going on. If not, provide suggestions to the author.  Make sure you help each other out. \n",
    "\n",
    "Be prepared to discuss what you learned with the entire class."
   ]
  },
  {
   "cell_type": "markdown",
   "metadata": {},
   "source": [
    "---\n",
    "<a name=\"Pre-class_Review\"></a>\n",
    "\n",
    "# 2. Pre-class Review\n",
    "\n",
    "[0216-Unit_Testing-pre-class-assignment](0216-Unit_Testing-pre-class-assignment.ipynb)"
   ]
  },
  {
   "cell_type": "markdown",
   "metadata": {},
   "source": [
    "---\n",
    "<a name = \"Write_Ant_Agent_Based_Model\"></a>\n",
    "# 3. Write Ant Agent Based Model\n",
    "\n",
    "Previously, we have discussed and sketched the structure of ant-foraging model in class. The pre-class assignment gave a linear programming example of the ant-foraging model. Now let's see how far we can get designing and building an Object oriented version of the model.  \n",
    "\n",
    "Some things to consider:\n",
    "\n",
    "- What are our data objects, classes and functions?\n",
    "- How much of the pre-class do we want to use and how much do we want to rewrite?\n",
    "- How will we test the code?\n",
    "- How will we make the code modular and robust?\n",
    "- How can we split up the work?\n",
    "- How do we want to share our code?\n",
    "- What scientific question(s) we hope to answer with this code?"
   ]
  },
  {
   "cell_type": "markdown",
   "metadata": {},
   "source": [
    "-----\n",
    "### Congratulations, we're done!"
   ]
  },
  {
   "cell_type": "markdown",
   "metadata": {},
   "source": [
    "### Course Resources:\n",
    "\n",
    "- [Syllabus](https://docs.google.com/document/d/e/2PACX-1vTW4OzeUNhsuG_zvh06MT4r1tguxLFXGFCiMVN49XJJRYfekb7E6LyfGLP5tyLcHqcUNJjH2Vk-Isd8/pub)\n",
    "- [Preliminary Schedule](https://docs.google.com/spreadsheets/d/e/2PACX-1vRsQcyH1nlbSD4x7zvHWAbAcLrGWRo_RqeFyt2loQPgt3MxirrI5ADVFW9IoeLGSBSu_Uo6e8BE4IQc/pubhtml?gid=2142090757&single=true)\n",
    "- [D2L Page](https://d2l.msu.edu/d2l/home/912152)\n",
    "- [Git Repository](https://gitlab.msu.edu/colbrydi/cmse802-s20)"
   ]
  },
  {
   "cell_type": "markdown",
   "metadata": {},
   "source": [
    "&#169; Copyright 2020,  Michigan State University Board of Trustees"
   ]
  }
 ],
 "metadata": {
  "kernelspec": {
   "display_name": "Python 3",
   "language": "python",
   "name": "python3"
  },
  "language_info": {
   "codemirror_mode": {
    "name": "ipython",
    "version": 3
   },
   "file_extension": ".py",
   "mimetype": "text/x-python",
   "name": "python",
   "nbconvert_exporter": "python",
   "pygments_lexer": "ipython3",
   "version": "3.7.3"
  }
 },
 "nbformat": 4,
 "nbformat_minor": 2
}
