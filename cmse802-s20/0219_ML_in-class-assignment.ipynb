{
 "cells": [
  {
   "cell_type": "markdown",
   "metadata": {},
   "source": [
    "In order to successfully complete this assignment you need to participate both individually and in groups during class on **Wednesday February 19**."
   ]
  },
  {
   "cell_type": "markdown",
   "metadata": {},
   "source": [
    "# In-Class Assignment: Instructor template\n",
    "\n",
    "\n",
    "<img alt=\"Flow diagram of thypical classification workflow\" src=\"https://www.researchgate.net/profile/Inigo_Goiri/publication/221561415/figure/fig1/AS:393974662615051@1470942287791/Supervised-Machine-Learning-Schema.png\">\n",
    "\n",
    "Figure From: https://www.researchgate.net/publication/221561415_Towards_energy-aware_scheduling_in_data_centers_using_machine_learning"
   ]
  },
  {
   "cell_type": "markdown",
   "metadata": {},
   "source": [
    "### Agenda for today's class (80 minutes)\n",
    "\n",
    "</p>\n",
    "\n",
    "\n",
    "\n",
    "1. [(20 minutes) Anthill Review](#anthill)\n",
    "1. [(20 minutes) Pre-class Assignment Review](#class_Assignment_Review)\n",
    "2. [(20 minutes) Machine Learning Rules of thumb](#Machine_Learning_Rules_of_thumb)\n",
    "3. [(20 minutes) Example Application: The Skin Cancer data set](#The_cancer_data_set)"
   ]
  },
  {
   "cell_type": "markdown",
   "metadata": {},
   "source": [
    "---\n",
    "<a name=\"anthill\"></a>\n",
    "# 1. Anthill Review\n",
    "\n",
    "git clone https://gitlab.msu.edu/colbrydi/anthill.git\n",
    "\n"
   ]
  },
  {
   "cell_type": "markdown",
   "metadata": {},
   "source": [
    "----\n",
    "<a name=\"Pre-class_Assignment_Review\"></a>\n",
    "# 2. Pre-class Assignment Review\n",
    "\n",
    "\n",
    "* [0218--ML-pre-class-assignment](0218--ML-pre-class-assignment.ipynb)\n"
   ]
  },
  {
   "cell_type": "markdown",
   "metadata": {},
   "source": [
    "---\n",
    "<a name=\"Machine_Learning_Rules_of_thumb\"></a>\n",
    "\n",
    "\n",
    "# 3. Machine Learning Rules of thumb\n",
    "\n",
    "- [Ugly duckling Theorem](https://en.wikipedia.org/wiki/Ugly_duckling_theorem)\n",
    "- [Curse of Dimentionality](https://en.wikipedia.org/wiki/Curse_of_dimensionality)\n"
   ]
  },
  {
   "cell_type": "markdown",
   "metadata": {},
   "source": [
    "&#9989; **<font color=red>DO THIS:</font>** The above two properties can dominate how machine learning can be used. Briefly review both and discuss with your group how you think they relate to Machine Learning. Be prepaired to discuss with the rest of the class. "
   ]
  },
  {
   "cell_type": "markdown",
   "metadata": {},
   "source": [
    "---\n",
    "<a name=\"The_cancer_data_set\"></a>\n",
    "\n",
    "# 4. Example Application: The Skin Cancer data set\n",
    "\n",
    "In this example we will do the same calculation steps but using different dataset provided by scikit learn called the \"cancer\" dataset.  \n",
    "\n",
    "\n",
    "The following commands loads a dataset of measurements computed from a digitized image of a fine needle aspirate (FNA) of a breast mass.  "
   ]
  },
  {
   "cell_type": "code",
   "execution_count": null,
   "metadata": {},
   "outputs": [],
   "source": [
    "%matplotlib inline \n",
    "import matplotlib.pylab as plt\n",
    "import numpy as np\n",
    "import sympy as sym\n",
    "sym.init_printing()"
   ]
  },
  {
   "cell_type": "code",
   "execution_count": null,
   "metadata": {},
   "outputs": [],
   "source": [
    "from sklearn.datasets import load_breast_cancer\n",
    "cancer = load_breast_cancer()\n",
    "data = cancer.data\n",
    "target = cancer.target\n",
    "data.shape\n",
    "\n",
    "# Variables used for plotting\n",
    "labels=cancer.target\n",
    "cdict={0:'red',1:'green'}\n",
    "labl={0:'Malignant',1:'Benign'}\n",
    "marker={0:'*',1:'o'}\n",
    "alpha={0:.5, 1:.5}"
   ]
  },
  {
   "cell_type": "code",
   "execution_count": null,
   "metadata": {
    "scrolled": false
   },
   "outputs": [],
   "source": [
    "print(cancer.DESCR)"
   ]
  },
  {
   "cell_type": "markdown",
   "metadata": {},
   "source": [
    "## Step A: Feature Extraction\n",
    "\n",
    "The Following is a plot of just the first two features:"
   ]
  },
  {
   "cell_type": "code",
   "execution_count": null,
   "metadata": {},
   "outputs": [],
   "source": [
    "plt.scatter(data[:,0],data[:,1], c=labels, s=30, cmap=plt.cm.rainbow);"
   ]
  },
  {
   "cell_type": "markdown",
   "metadata": {},
   "source": [
    "## Step B: Splitting the dataset for model into training and testing sets\n",
    "&#9989; **<font color=red>DO THIS:</font>** Split the iris data into a training and testing set like we did in the previous example:"
   ]
  },
  {
   "cell_type": "code",
   "execution_count": null,
   "metadata": {},
   "outputs": [],
   "source": [
    "##Put your code here"
   ]
  },
  {
   "cell_type": "markdown",
   "metadata": {},
   "source": [
    "## Step C: Select and train a Classifier using the training dataset\n",
    "\n",
    "&#9989; **<font color=red>DO THIS:</font>** Use the train_vectors set and train_labels to train a Support Vector Machine. *Hint:* You should be able to use the same code and parameters we used in the previous example: \n"
   ]
  },
  {
   "cell_type": "code",
   "execution_count": null,
   "metadata": {},
   "outputs": [],
   "source": [
    "##Put your code here"
   ]
  },
  {
   "cell_type": "markdown",
   "metadata": {},
   "source": [
    "## Step D. Show the results of the classification on the testing dataset\n",
    "\n",
    "&#9989; **<font color=red>DO THIS:</font>** Test the predictive capabilities of your SVM using the test_vectors and compare the predicted labels to the actual labels. "
   ]
  },
  {
   "cell_type": "code",
   "execution_count": null,
   "metadata": {},
   "outputs": [],
   "source": [
    "##Put your code here"
   ]
  },
  {
   "cell_type": "markdown",
   "metadata": {},
   "source": [
    "-----\n",
    "### Congratulations, we're done!"
   ]
  },
  {
   "cell_type": "markdown",
   "metadata": {},
   "source": [
    "### Course Resources:\n",
    "\n",
    "- [Syllabus](https://docs.google.com/document/d/e/2PACX-1vTW4OzeUNhsuG_zvh06MT4r1tguxLFXGFCiMVN49XJJRYfekb7E6LyfGLP5tyLcHqcUNJjH2Vk-Isd8/pub)\n",
    "- [Preliminary Schedule](https://docs.google.com/spreadsheets/d/e/2PACX-1vRsQcyH1nlbSD4x7zvHWAbAcLrGWRo_RqeFyt2loQPgt3MxirrI5ADVFW9IoeLGSBSu_Uo6e8BE4IQc/pubhtml?gid=2142090757&single=true)\n",
    "- [D2L Page](https://d2l.msu.edu/d2l/home/912152)\n",
    "- [Git Repository](https://gitlab.msu.edu/colbrydi/cmse802-s20)"
   ]
  },
  {
   "cell_type": "markdown",
   "metadata": {},
   "source": [
    "&#169; Copyright 2020,  Michigan State University Board of Trustees"
   ]
  }
 ],
 "metadata": {
  "kernelspec": {
   "display_name": "Python 3",
   "language": "python",
   "name": "python3"
  },
  "language_info": {
   "codemirror_mode": {
    "name": "ipython",
    "version": 3
   },
   "file_extension": ".py",
   "mimetype": "text/x-python",
   "name": "python",
   "nbconvert_exporter": "python",
   "pygments_lexer": "ipython3",
   "version": "3.7.3"
  }
 },
 "nbformat": 4,
 "nbformat_minor": 2
}
