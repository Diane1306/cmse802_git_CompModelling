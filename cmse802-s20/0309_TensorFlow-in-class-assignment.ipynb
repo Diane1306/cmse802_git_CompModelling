{
 "cells": [
  {
   "cell_type": "markdown",
   "metadata": {},
   "source": [
    "In order to successfully complete this assignment you need to participate both individually and in groups during class on **Monday March 9**.\n",
    "\n"
   ]
  },
  {
   "cell_type": "markdown",
   "metadata": {},
   "source": [
    "# In-Class Assignment: Tensorflow\n",
    "\n",
    "<img src=\"https://upload.wikimedia.org/wikipedia/commons/thumb/1/11/TensorFlowLogo.svg/2000px-TensorFlowLogo.svg.png\" width=50%>"
   ]
  },
  {
   "cell_type": "markdown",
   "metadata": {},
   "source": [
    "### Agenda for today's class (80 minutes)\n",
    "\n",
    "</p>\n",
    "\n",
    "1. [(20 minutes) Pre-class Review](#Pre-class_Review)\n",
    "1. [(10 minutes) GetExamples](#GetExamples)\n",
    "1. [(20 minutes) Understanding your PATH](#Understanding_the_PATH)\n",
    "2. [(20 minutes) Installing Tensorflow](#Installing_Tensorflow)\n"
   ]
  },
  {
   "cell_type": "markdown",
   "metadata": {},
   "source": [
    "---\n",
    "<a name=\"Pre-class_Review\"></a>\n",
    "# 1. Pre-class Review\n",
    "\n",
    "\n",
    "[0308--HPC_Software-pre-class-assignment](0308--HPC_Software-pre-class-assignment.ipynb)\n",
    "\n",
    "Where you able to get Anaconda installed?  Where did you get stuck?  How do you know if it worked?\n",
    "\n",
    "* Try listing the contents of your home directory and see if you have an ```anaconda``` folder?\n",
    "* Try using the ```which python``` command\n",
    "* Use the ```cat .bashrc``` command to see if it is modifying your system ```PATH``` variable.\n",
    "\n",
    "Talk to the other people at your table and help each other out getting anaconda python to install.\n",
    "\n",
    "**NOTE:** Software installation is a bit of an art.  Practice helps so we will do a few examples. "
   ]
  },
  {
   "cell_type": "markdown",
   "metadata": {},
   "source": [
    "---\n",
    "<a name=\"GetExamples\"></a>\n",
    "\n",
    "# 2. GetExamples\n",
    "\n",
    "On a development node, execute the following commands:\n",
    "\n",
    "```\n",
    "moudle load powertools\n",
    "getexample\n",
    "```\n",
    "\n",
    "This should create a list of examples installed ont the HPC.  \n",
    "\n",
    "\n",
    "&#9989; **<font color=red>DO THIS:</font>**  Find an example for some software you may want to use and run the following command to load the example into your current directory:\n",
    "\n",
    "```\n",
    "getexample EXAMPLE_NAME\n",
    "```\n",
    "\n",
    "this will create a directory based on the EXAMPLE_NAME. Now you just change to that directory and look for a readme file to tell you how to get the example up and running.\n",
    "\n",
    "\n",
    "**NOTE:** the ```getexample``` command is specific to the MSU HPC. You will likely not find this command on other systems.  \n",
    "\n"
   ]
  },
  {
   "cell_type": "markdown",
   "metadata": {},
   "source": [
    "---\n",
    "<a name=\"Understanding_the_PATH\"></a>\n",
    "# 3. Understanding the PATH\n",
    "\n",
    "It is always important to know which python you are using.  You can always check your system ```PATH```. We may load files by modules or we may use something different. "
   ]
  },
  {
   "cell_type": "markdown",
   "metadata": {},
   "source": [
    "&#9989; **<font color=red>DO THIS:</font>**   Use the `which` and ```python --version``` command to figure out which python installation you are currently using on the HPC."
   ]
  },
  {
   "cell_type": "markdown",
   "metadata": {},
   "source": [
    "&#9989; **<font color=red>QUESTION:</font>**  Did you get your anaconda install working? Is"
   ]
  },
  {
   "cell_type": "markdown",
   "metadata": {},
   "source": [
    "Command we may use:\n",
    "\n",
    "```\n",
    "which python\n",
    "python --version\n",
    "module spider python\n",
    "virtualenv\n",
    "module load python\n",
    "```"
   ]
  },
  {
   "cell_type": "markdown",
   "metadata": {},
   "source": [
    "conda init bash\n",
    "exit\n",
    "ssh dev-intel16\n",
    "conda activate ./tensorflow_env"
   ]
  },
  {
   "cell_type": "markdown",
   "metadata": {},
   "source": [
    "---\n",
    "<a name=\"Installing_Tensorflow\"></a>\n",
    "\n",
    "# 4.  Installing Tensorflow\n",
    "\n",
    "The following instructions can be used to install tensorflow on the HPCC (Similar instructions can be used on your local machine).  To install tensorflow we are going use a conda environment. These instructions assume we already have anaconda python installed in our home directory.  We are also going to use the \"GPU\" Version of Tensorflow\n",
    "\n",
    "1. Log into the HPCC and ssh to a development node (ex. dev-intel14-k40)\n",
    "2. Run the following commands to create the conda environment\n",
    "```bash\n",
    "conda create --prefix ./tensorflow_env tensorflow-gpu keras pytorch\n",
    "conda init bash\n",
    "exit\n",
    "```\n",
    "\n",
    "\n"
   ]
  },
  {
   "cell_type": "markdown",
   "metadata": {},
   "source": [
    "\n",
    "# 5.  Testing Tensorflow\n",
    "\n",
    "Lets now try to see if we use the above "
   ]
  },
  {
   "cell_type": "markdown",
   "metadata": {},
   "source": [
    "The final step is to see if this thing works:\n",
    "\n",
    "```bash\n",
    "cp /mnt/scratch/colbrydi/convolutional.py .\n",
    "conda activate ./tensorflow-env\n",
    "module load CUDA\n",
    "time python convolutional.py\n",
    "```"
   ]
  },
  {
   "cell_type": "markdown",
   "metadata": {},
   "source": [
    "---\n",
    "\n",
    "<a name=\"Linting_Practice\"></a>\n",
    "\n",
    "# 2. Linting Practice\n",
    "\n",
    "Lets review the noaa_scraper code"
   ]
  },
  {
   "cell_type": "markdown",
   "metadata": {},
   "source": [
    "&#9989; **<font color=red>DO THIS:</font>** Let's look more closely at the code.  Run the folloing ```pylint``` command and figure out what the output is telling you (Hint: use the Internet)"
   ]
  },
  {
   "cell_type": "code",
   "execution_count": null,
   "metadata": {
    "scrolled": false
   },
   "outputs": [],
   "source": [
    "!pylint noaa_scraper"
   ]
  },
  {
   "cell_type": "markdown",
   "metadata": {},
   "source": [
    "&#9989; **<font color=red>DO THIS:</font>** Install and run ```autopep8``` library. There are two options depending on your setup:"
   ]
  },
  {
   "cell_type": "markdown",
   "metadata": {},
   "source": [
    "Install ```autopep8```globally or in an environment:"
   ]
  },
  {
   "cell_type": "code",
   "execution_count": null,
   "metadata": {},
   "outputs": [],
   "source": [
    "#!pip install autopep8"
   ]
  },
  {
   "cell_type": "code",
   "execution_count": null,
   "metadata": {},
   "outputs": [],
   "source": [
    "#autopep8 noaa_scraper.py > noaa_scraper2.py"
   ]
  },
  {
   "cell_type": "markdown",
   "metadata": {},
   "source": [
    "Install ```autopep8``` in a local packages folder:"
   ]
  },
  {
   "cell_type": "code",
   "execution_count": null,
   "metadata": {},
   "outputs": [],
   "source": [
    "#!pip install -t packages autopep8"
   ]
  },
  {
   "cell_type": "code",
   "execution_count": null,
   "metadata": {},
   "outputs": [],
   "source": [
    "#Use this if autopep8 was installed locally\n",
    "#python ./packages/autopep8.py noaa_scraper.py  > noaa_scraper2.py"
   ]
  },
  {
   "cell_type": "code",
   "execution_count": null,
   "metadata": {},
   "outputs": [],
   "source": [
    "!pylint noaa_scraper2"
   ]
  },
  {
   "cell_type": "markdown",
   "metadata": {},
   "source": [
    "&#9989; **<font color=red>DO THIS:</font>** In your group discuss the ```pylint``` and ```autopep8``` commands.  We will be using these commands in an upcoming Project assignment. What do they do? Is this useful or does it just add more work?  Be prepared to discuss your answers with the rest of class. "
   ]
  },
  {
   "cell_type": "markdown",
   "metadata": {},
   "source": [
    "Put your discussion notes here. "
   ]
  },
  {
   "cell_type": "markdown",
   "metadata": {},
   "source": [
    "----\n",
    "\n",
    "<a name=\"Running_from_the_command_line\"></a>\n",
    "\n",
    "# 3. Running from the command line\n",
    "\n",
    "Although most of this course has been taught using jupyter notebooks.  They can be very limited. In this class we will talk and practice a little about how to make python files. All ```*.py``` files can run as either scripts or libraries. We already know how to run them as a library. For example, the following code will import the ```noaa_scraper.py``` file as a library:\n",
    "\n",
    "```Python\n",
    "import noaa_scraper\n",
    "```\n",
    "\n",
    "To run the same file as a script you need to call it using python on the command line:\n",
    "\n",
    "```bash\n",
    "python noaa_scraper.py\n",
    "```\n",
    "&#9989; **<font color=red>DO THIS:</font>** inspect the noaa_scraper code again.  What does it do if we run it from the command line? Share your findings with your neighbor and be prepared to discuss with the class. "
   ]
  },
  {
   "cell_type": "markdown",
   "metadata": {},
   "source": [
    "Put your notes here"
   ]
  },
  {
   "cell_type": "markdown",
   "metadata": {},
   "source": [
    "&#9989; **<font color=red>DO THIS:</font>**  modify hte ```noaa_scraper.py``` file in your currenct directory and add the following line to the very end of the file.  Import the file as a library and then run then import the file from the command line.  Notice that the ```__name__``` variable is different in each case:"
   ]
  },
  {
   "cell_type": "code",
   "execution_count": null,
   "metadata": {
    "scrolled": true
   },
   "outputs": [],
   "source": [
    "print(f\"running as {__name__}\")"
   ]
  },
  {
   "cell_type": "code",
   "execution_count": null,
   "metadata": {},
   "outputs": [],
   "source": [
    "!python noaa_scraper.py"
   ]
  },
  {
   "cell_type": "code",
   "execution_count": null,
   "metadata": {},
   "outputs": [],
   "source": [
    "import noaa_scraper"
   ]
  },
  {
   "cell_type": "markdown",
   "metadata": {},
   "source": [
    "Programmers use the ```__name__``` variable to determine if a file is running as a script or a library.  This is typically done with an ```if``` statment so that code within the if is only run if the file is run as a script\n",
    "\n",
    "**DO THIS:** replace the print statment in your ```noaa_scraper.py``` file with the following:"
   ]
  },
  {
   "cell_type": "code",
   "execution_count": null,
   "metadata": {},
   "outputs": [],
   "source": [
    "if __name__ == \"__main__\":\n",
    "    print('running as main')"
   ]
  },
  {
   "cell_type": "markdown",
   "metadata": {},
   "source": [
    "-----\n",
    "### Congratulations, we're done!"
   ]
  },
  {
   "cell_type": "markdown",
   "metadata": {},
   "source": [
    "### Course Resources:\n",
    "\n",
    "- [Syllabus](https://docs.google.com/document/d/e/2PACX-1vTW4OzeUNhsuG_zvh06MT4r1tguxLFXGFCiMVN49XJJRYfekb7E6LyfGLP5tyLcHqcUNJjH2Vk-Isd8/pub)\n",
    "- [Preliminary Schedule](https://docs.google.com/spreadsheets/d/e/2PACX-1vRsQcyH1nlbSD4x7zvHWAbAcLrGWRo_RqeFyt2loQPgt3MxirrI5ADVFW9IoeLGSBSu_Uo6e8BE4IQc/pubhtml?gid=2142090757&single=true)\n",
    "- [D2L Page](https://d2l.msu.edu/d2l/home/912152)\n",
    "- [Git Repository](https://gitlab.msu.edu/colbrydi/cmse802-s20)"
   ]
  },
  {
   "cell_type": "markdown",
   "metadata": {},
   "source": [
    "&#169; Copyright 2020,  Michigan State University Board of Trustees"
   ]
  }
 ],
 "metadata": {
  "kernelspec": {
   "display_name": "Python 3",
   "language": "python",
   "name": "python3"
  },
  "language_info": {
   "codemirror_mode": {
    "name": "ipython",
    "version": 3
   },
   "file_extension": ".py",
   "mimetype": "text/x-python",
   "name": "python",
   "nbconvert_exporter": "python",
   "pygments_lexer": "ipython3",
   "version": "3.7.3"
  }
 },
 "nbformat": 4,
 "nbformat_minor": 2
}
