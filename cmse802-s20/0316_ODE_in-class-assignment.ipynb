{
 "cells": [
  {
   "cell_type": "markdown",
   "metadata": {},
   "source": [
    "In order to successfully complete this assignment you need to participate both individually and in groups during class on **Monday March 16**.\n",
    "\n"
   ]
  },
  {
   "cell_type": "markdown",
   "metadata": {},
   "source": [
    "# In-Class Assignment: Ordinary Differential Equations (ODEs)\n",
    "\n",
    "<img src=\"https://img.zeit.de/news/2020-01/16/chinesisches-coronavirus-auch-in-japan-nachgewiesen-image.jpeg/wide__1300x731\" alt=\"microscopic image of the cronovirus\" width=50%>\n",
    "\n",
    "Image from: [Teller Report](https://www.tellerreport.com/news/2020-01-16---tested-positive--chinese-corona-virus-also-detected-in-japan-.rJGhWTrTe8.html)\n",
    "\n",
    "\n"
   ]
  },
  {
   "cell_type": "markdown",
   "metadata": {},
   "source": [
    "### Agenda for today's class (80 minutes)\n",
    "\n",
    "</p>\n",
    "\n",
    "1. [(20 minutes) Pre-class questions](#Pre-class_Questions)\n",
    "2. [(20 minutes) SRI Examples](#SRI_Examples)\n",
    "4. [(20 minutes) Forest Fires Examples](#Forest_Fires_Examples)"
   ]
  },
  {
   "cell_type": "markdown",
   "metadata": {},
   "source": [
    "---\n",
    "<a name=\"Pre-class_Questions\"></a>\n",
    "\n",
    "# 1. Pre-class Questions\n",
    "\n",
    "[0315--ODE-pre-class-assignment](0315--ODE-pre-class-assignment.ipynb)\n"
   ]
  },
  {
   "cell_type": "markdown",
   "metadata": {},
   "source": [
    "----\n",
    "<a name=\"SRI_Examples\"></a>\n",
    "# 2. Modeling how thing change (More ODE Examples)\n",
    "\n",
    "In this activity I want you to copy some ODE examples from the Internet.  \n",
    "\n",
    "## SRI model for infection propagation:\n",
    "\n",
    "* [SIR Model from Learning Scientific Programming with Python](https://scipython.com/book/chapter-8-scipy/additional-examples/the-sir-epidemic-model/)"
   ]
  },
  {
   "cell_type": "code",
   "execution_count": 1,
   "metadata": {},
   "outputs": [],
   "source": [
    "#Copy and paste the example here"
   ]
  },
  {
   "cell_type": "markdown",
   "metadata": {},
   "source": [
    "&#9989; **<font color=red>QUESTIONS:</font>**  Did you have any problems or errors getting the code to work? How did you overcome these problems?"
   ]
  },
  {
   "cell_type": "markdown",
   "metadata": {},
   "source": [
    "Put your answer to the above question here."
   ]
  },
  {
   "cell_type": "markdown",
   "metadata": {},
   "source": [
    "&#9989; **<font color=red>DO THIS:</font>**  Talk though this code with your neighbor.  Does the model make sense to you? What happens when you change the Contact rate and mean recovery rate?"
   ]
  },
  {
   "cell_type": "markdown",
   "metadata": {},
   "source": [
    "Put your notes from your discussion here."
   ]
  },
  {
   "cell_type": "markdown",
   "metadata": {},
   "source": [
    "---\n",
    "<a name=\"Forest_Fires_Examples\"></a>\n",
    "\n",
    "# 3. Forest Fires Examples\n",
    "\n",
    "* [Forest Fire model from Learning Scientific Programming with Python](https://scipython.com/blog/the-forest-fire-model)\n",
    "\n",
    "**HINT:** Google how to get ```matplotlib.animations``` working in jupyter notebooks. Also, this simulation takes a long time to get started. "
   ]
  },
  {
   "cell_type": "code",
   "execution_count": 3,
   "metadata": {},
   "outputs": [],
   "source": [
    "# Copy and paste the example code here."
   ]
  },
  {
   "cell_type": "markdown",
   "metadata": {},
   "source": [
    "&#9989; **<font color=red>QUESTIONS:</font>**  Did you have any problems or errors getting the code to work? How did you overcome these problems?"
   ]
  },
  {
   "cell_type": "markdown",
   "metadata": {},
   "source": [
    "Put your answer to the above question here."
   ]
  },
  {
   "cell_type": "markdown",
   "metadata": {},
   "source": [
    "&#9989; **<font color=red>DO THIS:</font>**  Talk though this code with your neighbor.  Does the model make sense to you? What happens when you change the probabilities?"
   ]
  },
  {
   "cell_type": "markdown",
   "metadata": {},
   "source": [
    "Put your notes from your discussion here."
   ]
  },
  {
   "cell_type": "markdown",
   "metadata": {},
   "source": [
    "-----\n",
    "### Congratulations, we're done!"
   ]
  },
  {
   "cell_type": "markdown",
   "metadata": {},
   "source": [
    "### Course Resources:\n",
    "\n",
    "- [Syllabus](https://docs.google.com/document/d/e/2PACX-1vTW4OzeUNhsuG_zvh06MT4r1tguxLFXGFCiMVN49XJJRYfekb7E6LyfGLP5tyLcHqcUNJjH2Vk-Isd8/pub)\n",
    "- [Preliminary Schedule](https://docs.google.com/spreadsheets/d/e/2PACX-1vRsQcyH1nlbSD4x7zvHWAbAcLrGWRo_RqeFyt2loQPgt3MxirrI5ADVFW9IoeLGSBSu_Uo6e8BE4IQc/pubhtml?gid=2142090757&single=true)\n",
    "- [D2L Page](https://d2l.msu.edu/d2l/home/912152)\n",
    "- [Git Repository](https://gitlab.msu.edu/colbrydi/cmse802-s20)"
   ]
  },
  {
   "cell_type": "markdown",
   "metadata": {},
   "source": [
    "&#169; Copyright 2020,  Michigan State University Board of Trustees"
   ]
  }
 ],
 "metadata": {
  "kernelspec": {
   "display_name": "Python 3",
   "language": "python",
   "name": "python3"
  },
  "language_info": {
   "codemirror_mode": {
    "name": "ipython",
    "version": 3
   },
   "file_extension": ".py",
   "mimetype": "text/x-python",
   "name": "python",
   "nbconvert_exporter": "python",
   "pygments_lexer": "ipython3",
   "version": "3.7.3"
  }
 },
 "nbformat": 4,
 "nbformat_minor": 2
}
