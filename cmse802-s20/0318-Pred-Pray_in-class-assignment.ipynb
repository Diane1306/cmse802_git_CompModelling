{
 "cells": [
  {
   "cell_type": "markdown",
   "metadata": {},
   "source": [
    "In order to successfully complete this assignment you need to participate both individually and in groups during class on **Wednesday March 18**."
   ]
  },
  {
   "cell_type": "markdown",
   "metadata": {},
   "source": [
    "# In-Class Assignment: Preditor-Pray Data Fitting\n",
    "\n",
    "\n",
    "<img src=\"https://cdn.pixabay.com/photo/2016/06/14/15/46/cat-1456878_1280.png\" width=75%>\n",
    "\n",
    "Image from [pixabay](https://pixabay.com/)"
   ]
  },
  {
   "cell_type": "markdown",
   "metadata": {},
   "source": [
    "### Agenda for today's class (80 minutes)\n",
    "\n",
    "\n",
    "\n",
    "1. [(20 minutes) Review pre-class Assignment](#Review_pre-class_assignment)\n",
    "1. [(20 minutes) ODE Parameter Fitting](#ODE_Parameter_Fitting)\n",
    "1. [(20 minutes) Timing Brute Force Search](#Timing_Brute_force_search)\n",
    "1. [(20 minutes) Unrolling Loops on the HPC using Job Arrays](#Unrolling_Loops)\n"
   ]
  },
  {
   "cell_type": "markdown",
   "metadata": {},
   "source": [
    "----\n",
    "<a name=\"Review_pre-class_assignment\"></a>\n",
    "\n",
    "# 1. Review pre-class Assignment\n",
    "\n",
    "- [0317--ARGV-pre-class-assignment](0317--ARGV-pre-class-assignment.ipynb)"
   ]
  },
  {
   "cell_type": "markdown",
   "metadata": {},
   "source": [
    "----\n",
    "<a name=\"ODE_Parameter_Fitting\"></a>\n",
    "\n",
    "# 2. Population Data\n",
    "\n",
    "The following example example data comes from https://mathematica.stackexchange.com/questions/34761/find-parameters-of-odes-to-fit-solution-data and represents some experimental data ```time```, ```x``` and ```y```.\n",
    "\n",
    "&#9989; **<font color=red>DO THIS:</font>** Run the following code and plot the data.\n"
   ]
  },
  {
   "cell_type": "code",
   "execution_count": 47,
   "metadata": {},
   "outputs": [
    {
     "data": {
      "image/png": "[encoded data removed]",
      "text/plain": [
       "<Figure size 432x288 with 1 Axes>"
      ]
     },
     "metadata": {
      "needs_background": "light"
     },
     "output_type": "display_data"
    }
   ],
   "source": [
    "# (* The first column is time 't', the second column is coordinate 'x', and the last column is coordinate 'y'. *)\n",
    "%matplotlib inline\n",
    "import matplotlib.pylab as plt\n",
    "import numpy as np\n",
    "\n",
    "data=[[11,45.79,41.4],\n",
    "      [12,53.03,38.9],[13,64.05,36.78],\n",
    "      [14,75.4,36.04],[15,90.36,33.78],\n",
    "      [16,107.14,35.4],[17,127.79,34.68],\n",
    "      [18,150.77,36.61], [19,179.65,37.71],\n",
    "      [20,211.82,41.98],[21,249.91,45.72],\n",
    "      [22,291.31,53.1],[23,334.95,65.44],\n",
    "      [24,380.67,83.],[25,420.28,108.74],\n",
    "      [26,445.56,150.01],[27,447.63,205.61],\n",
    "      [28,414.04,281.6],[29,347.04,364.56],\n",
    "      [30,265.33,440.3],[31,187.57,489.68],\n",
    "      [32,128.,512.95],[33,85.25,510.01],\n",
    "      [34,57.17,491.06],[35,39.96,462.22],\n",
    "      [36,29.22,430.15],[37,22.3,396.95],\n",
    "      [38,16.52,364.87],[39,14.41,333.16],\n",
    "      [40,11.58,304.97],[41,10.41,277.73],\n",
    "      [42,10.17,253.16],[43,7.86,229.66],\n",
    "      [44,9.23,209.53],[45,8.22,190.07],\n",
    "      [46,8.76,173.58],[47,7.9,156.4],\n",
    "      [48,8.38,143.05],[49,9.53,130.75],\n",
    "      [50,9.33,117.49],[51,9.72,108.16],\n",
    "      [52,10.55,98.08],[53,13.05,88.91],\n",
    "      [54,13.58,82.28],[55,16.31,75.42],\n",
    "      [56,17.75,69.58],[57,20.11,62.58],\n",
    "      [58,23.98,59.22],[59,28.51,54.91],\n",
    "      [60,31.61,49.79],[61,37.13,45.94],\n",
    "      [62,45.06,43.41],[63,53.4,41.3],\n",
    "      [64,62.39,40.28],[65,72.89,37.71],\n",
    "      [66,86.92,36.58],[67,103.32,36.98],\n",
    "      [68,121.7,36.65],[69,144.86,37.87],\n",
    "      [70,171.92,39.63],[71,202.51,42.97],\n",
    "      [72,237.69,46.95],[73,276.77,54.93],\n",
    "      [74,319.76,64.61],[75,362.05,81.28],\n",
    "      [76,400.11,105.5],[77,427.79,143.03],\n",
    "      [78,434.56,192.45],[79,410.31,260.84],\n",
    "      [80,354.18,339.39],[81,278.49,413.79],\n",
    "      [82,203.72,466.94],[83,141.06,494.72],\n",
    "      [84,95.08,499.37],[85,66.76,484.58],\n",
    "      [86,45.41,460.63],[87,33.13,429.79],\n",
    "      [88,25.89,398.77],[89,20.51,366.49],\n",
    "      [90,17.11,336.56],[91,12.69,306.39],\n",
    "      [92,11.76,279.53],[93,11.22,254.95],\n",
    "      [94,10.29,233.5],[95,8.82,212.74],\n",
    "      [96,9.51,193.61],[97,8.69,175.01],\n",
    "      [98,9.53,160.59],[99,8.68,146.12],[100,10.82,131.85]]\n",
    "data = np.array(data)\n",
    "t = data[:,0]\n",
    "x = data[:,1]\n",
    "y = data[:,2]\n",
    "plt.scatter(t,x)\n",
    "plt.scatter(t,y)\n",
    "plt.legend(('prey', 'preditor'))\n",
    "plt.xlabel('Time')\n",
    "plt.title('Population');"
   ]
  },
  {
   "cell_type": "markdown",
   "metadata": {},
   "source": [
    "This data seems to fit the classic Lotka-Volterra Predator-prey:\n",
    "\n",
    "https://en.wikipedia.org/wiki/Lotka%E2%80%93Volterra_equationsResearchers \n",
    "\n",
    "$$dx = \\alpha x - \\beta xy$$\n",
    "$$dy' = -\\gamma y + \\delta xy$$\n",
    "\n",
    "These equations can be representied by the simple ODE function"
   ]
  },
  {
   "cell_type": "code",
   "execution_count": 49,
   "metadata": {},
   "outputs": [],
   "source": [
    "from scipy.integrate import odeint\n",
    "\n",
    "# The above ODE model sutiable for ODEINT\n",
    "def deriv(position,t,a,b,c,d):\n",
    "    x = position[0]\n",
    "    y = position[1]\n",
    "    dx = a*x - b*x*y\n",
    "    dy = -c*y + d*x*y\n",
    "    return (dx,dy)\n",
    "\n",
    "# Initial conditions vector\n",
    "x0 = data[0,1]\n",
    "y0 = data[0,2]\n",
    "\n",
    "#Time Vector \n",
    "t = data[:,0]"
   ]
  },
  {
   "cell_type": "markdown",
   "metadata": {},
   "source": [
    "The trick is we don't know the values for ```a,b,c,``` and ```d``` ($\\alpha, \\beta, \\gamma, \\delta$). Lets say we know that variables ```a,c``` are in the range [0,1] and ```b,d``` are in the range [0,0.01].  Here is a guess that works okay:"
   ]
  },
  {
   "cell_type": "code",
   "execution_count": 51,
   "metadata": {},
   "outputs": [],
   "source": [
    "a = 0.2\n",
    "b = 0.001\n",
    "c = 0.1\n",
    "d = 0.001"
   ]
  },
  {
   "cell_type": "code",
   "execution_count": 52,
   "metadata": {},
   "outputs": [],
   "source": [
    "##ANSWSER##\n",
    "##Brute force solution\n",
    "a,b,c,d = 0.22222222222222224, 0.0013131313131313131, 0.10101010101010102, 0.0009090909090909091\n",
    "##ANSWER##"
   ]
  },
  {
   "cell_type": "code",
   "execution_count": 53,
   "metadata": {
    "scrolled": true
   },
   "outputs": [
    {
     "data": {
      "image/png": "[encoded data removed]",
      "text/plain": [
       "<Figure size 432x288 with 1 Axes>"
      ]
     },
     "metadata": {
      "needs_background": "light"
     },
     "output_type": "display_data"
    }
   ],
   "source": [
    "# Integrate equations over the time grid, t.\n",
    "ret = odeint(deriv, (x0,y0), t, args=(a,b,c,d))\n",
    "\n",
    "#Plot the model on the data\n",
    "plt.plot(t,ret)\n",
    "plt.scatter(t, data[:,1])\n",
    "plt.scatter(t, data[:,2]);\n",
    "plt.legend(('x est', 'y est', 'x', 'y'))\n",
    "plt.xlabel('Time');"
   ]
  },
  {
   "cell_type": "markdown",
   "metadata": {},
   "source": [
    "Eyeballing a graph is fine but it is generally better to use some for of measureable error:"
   ]
  },
  {
   "cell_type": "code",
   "execution_count": 54,
   "metadata": {},
   "outputs": [],
   "source": [
    "def rmse(a,b):\n",
    "    return np.sqrt(np.mean((a-b)**2))"
   ]
  },
  {
   "cell_type": "code",
   "execution_count": 55,
   "metadata": {},
   "outputs": [
    {
     "data": {
      "text/plain": [
       "23.467733125498725"
      ]
     },
     "execution_count": 55,
     "metadata": {},
     "output_type": "execute_result"
    }
   ],
   "source": [
    "rmse(data[:,1], ret[:,0])+ rmse(data[:,2], ret[:,1])"
   ]
  },
  {
   "cell_type": "markdown",
   "metadata": {},
   "source": [
    "&#9989; **<font color=red>DO THIS:</font>** Modifiy ```a,b,c,d``` above and find a better fit for the model. Be prepared to share your results with the class."
   ]
  },
  {
   "cell_type": "markdown",
   "metadata": {},
   "source": [
    "$${\\displaystyle A^{+}=(A^{*}A)^{-1}A^{*}.}$$"
   ]
  },
  {
   "cell_type": "markdown",
   "metadata": {},
   "source": [
    "---\n",
    "<a name=\"Timing_Brute_force_search\"></a>\n",
    "\n",
    "# 3. Timing Brute Force Search"
   ]
  },
  {
   "cell_type": "markdown",
   "metadata": {},
   "source": [
    "Now lets try to solve the problem using brute force. Here is a simple nested loop:"
   ]
  },
  {
   "cell_type": "code",
   "execution_count": null,
   "metadata": {},
   "outputs": [],
   "source": [
    "%%time \n",
    "minerr = 9999999\n",
    "mina,minb,minc,mind = 0,0,0,0\n",
    "for a in np.linspace(0,1,10):\n",
    "    print(a)\n",
    "    for b in np.linspace(0,0.01, 10):\n",
    "        for c in np.linspace(0,1,10):\n",
    "            for d in np.linspace(0,0.01,10):\n",
    "                ret = odeint(deriv, (x0,y0), t, args=(a,b,c,d))\n",
    "                err = rmse(data[:,1], ret[:,0]) + rmse(data[:,2], ret[:,1])\n",
    "                if err < minerr:\n",
    "                    minerr = err\n",
    "                    mina, minb,minc,mind = a,b,c,d\n",
    "print(f\"Current Best: {minerr} ({a}, {b}, {c}, {d})\")   \n",
    "\n",
    "#See our model so far\n",
    "ret = odeint(deriv, (x0,y0), t, args=(mina,minb,minc,mind))\n",
    "print(rmse(data[:,1], ret[:,0])+ rmse(data[:,2], ret[:,1]))\n",
    "\n",
    "plt.plot(t,ret)\n",
    "plt.scatter(t, data[:,1])\n",
    "plt.scatter(t, data[:,2]);\n",
    "plt.legend(('x est', 'y est', 'x', 'y'))\n",
    "plt.xlabel('Time');"
   ]
  },
  {
   "cell_type": "markdown",
   "metadata": {},
   "source": [
    "The above result is a little better but what if we tried all possible values for ```a,b,c,d```?  The following script tries 100 values for variables ```a,b,c,d```?  "
   ]
  },
  {
   "cell_type": "code",
   "execution_count": null,
   "metadata": {},
   "outputs": [],
   "source": [
    "%%writefile bruteforce.py\n",
    "import numpy as np\n",
    "from scipy.integrate import odeint\n",
    "\n",
    "data=[[11,45.79,41.4],\n",
    "      [12,53.03,38.9],[13,64.05,36.78],\n",
    "      [14,75.4,36.04],[15,90.36,33.78],\n",
    "      [16,107.14,35.4],[17,127.79,34.68],\n",
    "      [18,150.77,36.61], [19,179.65,37.71],\n",
    "      [20,211.82,41.98],[21,249.91,45.72],\n",
    "      [22,291.31,53.1],[23,334.95,65.44],\n",
    "      [24,380.67,83.],[25,420.28,108.74],\n",
    "      [26,445.56,150.01],[27,447.63,205.61],\n",
    "      [28,414.04,281.6],[29,347.04,364.56],\n",
    "      [30,265.33,440.3],[31,187.57,489.68],\n",
    "      [32,128.,512.95],[33,85.25,510.01],\n",
    "      [34,57.17,491.06],[35,39.96,462.22],\n",
    "      [36,29.22,430.15],[37,22.3,396.95],\n",
    "      [38,16.52,364.87],[39,14.41,333.16],\n",
    "      [40,11.58,304.97],[41,10.41,277.73],\n",
    "      [42,10.17,253.16],[43,7.86,229.66],\n",
    "      [44,9.23,209.53],[45,8.22,190.07],\n",
    "      [46,8.76,173.58],[47,7.9,156.4],\n",
    "      [48,8.38,143.05],[49,9.53,130.75],\n",
    "      [50,9.33,117.49],[51,9.72,108.16],\n",
    "      [52,10.55,98.08],[53,13.05,88.91],\n",
    "      [54,13.58,82.28],[55,16.31,75.42],\n",
    "      [56,17.75,69.58],[57,20.11,62.58],\n",
    "      [58,23.98,59.22],[59,28.51,54.91],\n",
    "      [60,31.61,49.79],[61,37.13,45.94],\n",
    "      [62,45.06,43.41],[63,53.4,41.3],\n",
    "      [64,62.39,40.28],[65,72.89,37.71],\n",
    "      [66,86.92,36.58],[67,103.32,36.98],\n",
    "      [68,121.7,36.65],[69,144.86,37.87],\n",
    "      [70,171.92,39.63],[71,202.51,42.97],\n",
    "      [72,237.69,46.95],[73,276.77,54.93],\n",
    "      [74,319.76,64.61],[75,362.05,81.28],\n",
    "      [76,400.11,105.5],[77,427.79,143.03],\n",
    "      [78,434.56,192.45],[79,410.31,260.84],\n",
    "      [80,354.18,339.39],[81,278.49,413.79],\n",
    "      [82,203.72,466.94],[83,141.06,494.72],\n",
    "      [84,95.08,499.37],[85,66.76,484.58],\n",
    "      [86,45.41,460.63],[87,33.13,429.79],\n",
    "      [88,25.89,398.77],[89,20.51,366.49],\n",
    "      [90,17.11,336.56],[91,12.69,306.39],\n",
    "      [92,11.76,279.53],[93,11.22,254.95],\n",
    "      [94,10.29,233.5],[95,8.82,212.74],\n",
    "      [96,9.51,193.61],[97,8.69,175.01],\n",
    "      [98,9.53,160.59],[99,8.68,146.12],[100,10.82,131.85]]\n",
    "data = np.array(data)\n",
    "\n",
    "x0 = data[0,1]\n",
    "y0 = data[0,2]\n",
    "t = data[:,0]\n",
    "\n",
    "# The SIR model differential equations.\n",
    "def deriv(position,t,a,b,c,d):\n",
    "    x = position[0]\n",
    "    y = position[1]\n",
    "    dx = a*x - b*x*y\n",
    "    dy = -c*y + d*x*y\n",
    "    return (dx,dy)\n",
    "\n",
    "def rmse(a,b):\n",
    "    return np.sqrt(np.mean((a-b)**2))\n",
    "\n",
    "minerr = 9999999\n",
    "mina,minb,minc,mind = 0,0,0,0\n",
    "\n",
    "for a in np.linspace(0,1,100):\n",
    "    print(a)\n",
    "    for b in np.linspace(0,0.01, 100):\n",
    "        for c in np.linspace(0,1,100):\n",
    "            for d in np.linspace(0,0.01,100):\n",
    "                ret = odeint(deriv, (x0,y0), t, args=(a,b,c,d))\n",
    "                err = rmse(data[:,1], ret[:,0]) + rmse(data[:,2], ret[:,1])\n",
    "                if err < minerr:\n",
    "                    minerr = err\n",
    "                    mina, minb,minc,mind = a,b,c,d\n",
    "    print(f\"Current Best: {minerr} : ({mina}, {minb}, {minc}, {mind})\")\n"
   ]
  },
  {
   "cell_type": "markdown",
   "metadata": {},
   "source": [
    "This script can be run on the command line by typing ```python bruteforce.py```. "
   ]
  },
  {
   "cell_type": "markdown",
   "metadata": {},
   "source": [
    "&#9989; **<font color=red>QUESTION:</font>** Given the time estimate above, estimate how long will this script take to run? Be prepaired to share your estimate with the class."
   ]
  },
  {
   "cell_type": "code",
   "execution_count": null,
   "metadata": {},
   "outputs": [],
   "source": [
    "# Put your estimation code here."
   ]
  },
  {
   "cell_type": "markdown",
   "metadata": {},
   "source": [
    "---\n",
    "<a name=\"Unrolling_Loops\"></a>\n",
    "\n",
    "# 4. Unrolling Loops on the HPC using Job Arrays"
   ]
  },
  {
   "cell_type": "markdown",
   "metadata": {},
   "source": [
    "Clearly the above brute force method will take a long time. We can \"unroll one of the loops\" and run the system in parallel on the HPC.  Rewrite the above script to remove the loop over ```a``` and instead pass in an index from 0-100.  "
   ]
  },
  {
   "cell_type": "markdown",
   "metadata": {},
   "source": [
    "&#9989; **<font color=red>QUESTION:</font>** How long will this new script take to run for a single value of ```a```?"
   ]
  },
  {
   "cell_type": "markdown",
   "metadata": {},
   "source": [
    "We can run all of 100 different indexes for a using the following HPC submission script:"
   ]
  },
  {
   "cell_type": "code",
   "execution_count": null,
   "metadata": {},
   "outputs": [],
   "source": [
    "%%writefile hpc_bruteforce.sb\n",
    "#!/bin/bash --login\n",
    "#SBATCH -c 1\n",
    "#SBATCH -n 1\n",
    "#SBATCH --time=2:00:00\n",
    "#SBATCH --mem=2gb\n",
    "#SBATCH --array 1-100\n",
    "#SBATCH --mail-type=END\n",
    "\n",
    "#Log a copy of this script in the output file\n",
    "cat $0\n",
    "\n",
    "#Run BruteForce Script on a single value for variabe a\n",
    "srun --unbuffered python bruteforce.py ${SLURM_ARRAY_TASK_ID} \n",
    "\n",
    "module load powertools\n",
    "js -j $SLURM_JOB_ID\n",
    "\n",
    "echo \"Done\"\n",
    "\n",
    "############################"
   ]
  },
  {
   "cell_type": "markdown",
   "metadata": {},
   "source": [
    "&#9989; **<font color=red>DO THIS:</font>** Copy the unrolled ```bruteforce.py``` and the following ```hpc_bruteforce.sb``` scripts to the HPC.  Run the script using the following command on a development node:\n",
    "\n",
    "\n",
    "```bash\n",
    "sbatch hpc_bruteforce.sb\n",
    "```"
   ]
  },
  {
   "cell_type": "markdown",
   "metadata": {},
   "source": [
    "You can monitor the status of your jobs using the ```sq``` command. If everything went correctly there should be 100 jobs in your queue.  "
   ]
  },
  {
   "cell_type": "markdown",
   "metadata": {},
   "source": [
    "&#9989; **<font color=red>DO THIS:</font>** Assuming the above works, we will have 100 files starting with the word ```slurm```. Each one represents the output of each of the 100 scripts.  We can find the best result using some simple bash commands:\n",
    "\n",
    "```bash\n",
    "grep -a -e \"Current Best\" slurm* | cut -d \":\" -f 3 | sort -n | head -n 1\n",
    "```\n",
    "\n",
    "The above bash command uses arguments to \"pip\" together multiple commands into one. Here is a summary for what it does:\n",
    "\n",
    "1. Uses grep (regular expressions) to search all files (-a) that start with \"slurm\" for the expression (-e) \"Current Best\"\n",
    "\n",
    "2. Take the output of the above and pipe (|) it into ```cut``` which will divide each line using the \":\" deliminator (-d) and only return the second field (-f). (This should be just the RMSE values)\n",
    "\n",
    "3. Sort the values numerically (-n)\n",
    "\n",
    "4. Take the head of the previous output and output exactly 1 number of lines (-n) (smallest sorted value)\n"
   ]
  },
  {
   "cell_type": "markdown",
   "metadata": {},
   "source": [
    "&#9989; **<font color=red>DO THIS:</font>** Once you know what is the best RMSE use ```grep``` again to get the rest of the line.  \n",
    "```bash\n",
    "grep -a -e \"Current Best\" slurm* | grep <<REPLACE_WITH_YOUR_BEST_RMSE>>\n",
    "```\n"
   ]
  },
  {
   "cell_type": "markdown",
   "metadata": {},
   "source": [
    "&#9989; **<font color=red>DO THIS:</font>** Using the current best ```a,b,c,d``` values. Rerun the above model and verify it is working."
   ]
  },
  {
   "cell_type": "markdown",
   "metadata": {},
   "source": [
    "-----\n",
    "### Congratulations, we're done!"
   ]
  },
  {
   "cell_type": "markdown",
   "metadata": {},
   "source": [
    "### Course Resources:\n",
    "\n",
    "- [Syllabus](https://docs.google.com/document/d/e/2PACX-1vTW4OzeUNhsuG_zvh06MT4r1tguxLFXGFCiMVN49XJJRYfekb7E6LyfGLP5tyLcHqcUNJjH2Vk-Isd8/pub)\n",
    "- [Preliminary Schedule](https://docs.google.com/spreadsheets/d/e/2PACX-1vRsQcyH1nlbSD4x7zvHWAbAcLrGWRo_RqeFyt2loQPgt3MxirrI5ADVFW9IoeLGSBSu_Uo6e8BE4IQc/pubhtml?gid=2142090757&single=true)\n",
    "- [D2L Page](https://d2l.msu.edu/d2l/home/912152)\n",
    "- [Git Repository](https://gitlab.msu.edu/colbrydi/cmse802-s20)"
   ]
  },
  {
   "cell_type": "markdown",
   "metadata": {},
   "source": [
    "&#169; Copyright 2020,  Michigan State University Board of Trustees"
   ]
  }
 ],
 "metadata": {
  "kernelspec": {
   "display_name": "Python 3",
   "language": "python",
   "name": "python3"
  },
  "language_info": {
   "codemirror_mode": {
    "name": "ipython",
    "version": 3
   },
   "file_extension": ".py",
   "mimetype": "text/x-python",
   "name": "python",
   "nbconvert_exporter": "python",
   "pygments_lexer": "ipython3",
   "version": "3.7.3"
  }
 },
 "nbformat": 4,
 "nbformat_minor": 2
}
