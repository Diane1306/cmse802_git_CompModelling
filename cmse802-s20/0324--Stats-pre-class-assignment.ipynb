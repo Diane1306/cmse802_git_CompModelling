{
 "cells": [
  {
   "cell_type": "markdown",
   "metadata": {},
   "source": [
    "In order to successfully complete this assignment you must do the required reading, watch the provided videos and complete all instructions.  The embedded Google form must be entirely filled out and submitted on or before **11:59pm on Tuesday March 24**.  Students must come to class the next day prepared to discuss the material covered in this assignment. answer"
   ]
  },
  {
   "cell_type": "markdown",
   "metadata": {},
   "source": [
    "# Pre-Class Assignment: Statistical Models"
   ]
  },
  {
   "cell_type": "markdown",
   "metadata": {},
   "source": [
    "### Goals for today's pre-class assignment \n",
    "\n",
    "</p>\n",
    "\n",
    "\n",
    "\n",
    "1. [Where to start?](#Where_to_start)\n",
    "1. [Statistics in Numpy ](#Statistics_in_Numpy)\n",
    "2. [Statistics in Pandas ](#Statistics_in_Pandas)\n",
    "3. [Statistics in Scipy ](#Statistics_in_SciPy)\n",
    "5. [Statsmodels](#statsmodels)\n",
    "6. [ANOVA](#ANOVA)\n",
    "4. [Assignment wrap-up](#Assignment_wrap-up)"
   ]
  },
  {
   "cell_type": "markdown",
   "metadata": {},
   "source": [
    "----\n",
    "<a name=\"Where_to_start\"></a>\n",
    "\n",
    "# 1. Where to start?\n",
    "\n",
    "Lets pretend we have been asked to do some statistical analysis of some data by our advsor.  The question is where do we start?  First, lets grab some data we can use for testing.  Why don't we use the ```noaa_scraper.py``` funciton"
   ]
  },
  {
   "cell_type": "code",
   "execution_count": 1,
   "metadata": {},
   "outputs": [
    {
     "data": {
      "application/vnd.jupyter.widget-view+json": {
       "model_id": "61da7878905048a5a61decd74aa5c434",
       "version_major": 2,
       "version_minor": 0
      },
      "text/plain": [
       "FloatProgress(value=0.0, max=13.0)"
      ]
     },
     "metadata": {},
     "output_type": "display_data"
    },
    {
     "name": "stdout",
     "output_type": "stream",
     "text": [
      "reading... ./data/CRNS0101-05-2007-MI_Gaylord_9_SSW.txt\n",
      "reading... ./data/CRNS0101-05-2008-MI_Gaylord_9_SSW.txt\n",
      "reading... ./data/CRNS0101-05-2009-MI_Gaylord_9_SSW.txt\n",
      "reading... ./data/CRNS0101-05-2010-MI_Gaylord_9_SSW.txt\n",
      "reading... ./data/CRNS0101-05-2011-MI_Gaylord_9_SSW.txt\n",
      "reading... ./data/CRNS0101-05-2012-MI_Gaylord_9_SSW.txt\n",
      "reading... ./data/CRNS0101-05-2013-MI_Gaylord_9_SSW.txt\n",
      "reading... ./data/CRNS0101-05-2014-MI_Gaylord_9_SSW.txt\n",
      "reading... ./data/CRNS0101-05-2015-MI_Gaylord_9_SSW.txt\n",
      "reading... ./data/CRNS0101-05-2016-MI_Gaylord_9_SSW.txt\n",
      "reading... ./data/CRNS0101-05-2017-MI_Gaylord_9_SSW.txt\n",
      "reading... ./data/CRNS0101-05-2018-MI_Gaylord_9_SSW.txt\n",
      "reading... ./data/CRNS0101-05-2019-MI_Gaylord_9_SSW.txt\n"
     ]
    }
   ],
   "source": [
    "import noaa_scraper\n",
    "data = noaa_scraper.get_airtemperature_from_files()"
   ]
  },
  {
   "cell_type": "code",
   "execution_count": 2,
   "metadata": {
    "scrolled": true
   },
   "outputs": [
    {
     "data": {
      "text/plain": [
       "[<matplotlib.lines.Line2D at 0x7f553a07e710>]"
      ]
     },
     "execution_count": 2,
     "metadata": {},
     "output_type": "execute_result"
    },
    {
     "data": {
      "image/png": "[encoded data removed]",
      "text/plain": [
       "<Figure size 432x288 with 1 Axes>"
      ]
     },
     "metadata": {
      "needs_background": "light"
     },
     "output_type": "display_data"
    }
   ],
   "source": [
    "%matplotlib inline\n",
    "import matplotlib.pylab as plt\n",
    "\n",
    "plt.plot(data)"
   ]
  },
  {
   "cell_type": "markdown",
   "metadata": {},
   "source": [
    "Now what do we do?  A quick google shows there are a lot of python libraries that have statistical capabilites.  Instead of randomly trying one. Lets look at what is installed with anaconda.  The anaconda project tries to select only the most common scientific libraries.  The following command lists all of the conda installed packages that come with anaconda:"
   ]
  },
  {
   "cell_type": "code",
   "execution_count": 3,
   "metadata": {},
   "outputs": [
    {
     "name": "stdout",
     "output_type": "stream",
     "text": [
      "# packages in environment at /opt/anaconda3:\r\n",
      "#\r\n",
      "# Name                    Version                   Build  Channel\r\n",
      "_anaconda_depends         2019.03                  py37_0  \r\n",
      "_ipyw_jlab_nb_ext_conf    0.1.0                    py37_0  \r\n",
      "_libgcc_mutex             0.1                        main  \r\n",
      "alabaster                 0.7.12                   py37_0  \r\n",
      "anaconda                  custom                   py37_1  \r\n",
      "anaconda-client           1.7.2                    py37_0  \r\n",
      "anaconda-navigator        1.9.7                    py37_0  \r\n",
      "anaconda-project          0.8.4                      py_0  \r\n",
      "asn1crypto                1.2.0                    py37_0  \r\n",
      "astroid                   2.3.2                    py37_0  \r\n",
      "astropy                   3.2.3            py37h7b6447c_0  \r\n",
      "atomicwrites              1.3.0                    py37_1  \r\n",
      "attrs                     19.3.0                     py_0  \r\n",
      "autobahn                  19.11.1                  pypi_0    pypi\r\n",
      "babel                     2.7.0                      py_0  \r\n",
      "backcall                  0.1.0                    py37_0  \r\n",
      "backports                 1.0                        py_2  \r\n",
      "backports.os              0.1.1                    py37_0  \r\n",
      "backports.shutil_get_terminal_size 1.0.0                    py37_2  \r\n",
      "bash-kernel               0.7.2                    pypi_0    pypi\r\n",
      "beautifulsoup4            4.8.1                    py37_0  \r\n",
      "bitarray                  1.0.1            py37h7b6447c_0  \r\n",
      "bkcharts                  0.2                      py37_0  \r\n",
      "blas                      1.0                         mkl  \r\n",
      "bleach                    3.1.0                    py37_0  \r\n",
      "blosc                     1.16.3               hd408876_0  \r\n",
      "bokeh                     1.4.0                    py37_0  \r\n",
      "boto                      2.49.0                   py37_0  \r\n",
      "bottleneck                1.2.1            py37h035aef0_1  \r\n",
      "bzip2                     1.0.8                h7b6447c_0  \r\n",
      "ca-certificates           2019.9.11            hecc5488_0    conda-forge\r\n",
      "cairo                     1.14.12              h8948797_3  \r\n",
      "certifi                   2019.9.11                py37_0    conda-forge\r\n",
      "cffi                      1.13.1           py37h2e261b9_0  \r\n",
      "chardet                   3.0.4                 py37_1003  \r\n",
      "click                     7.0                      py37_0  \r\n",
      "cloudpickle               1.2.2                      py_0  \r\n",
      "clyent                    1.2.2                    py37_1  \r\n",
      "colorama                  0.4.1                    py37_0  \r\n",
      "conda                     4.7.12                   py37_0    conda-forge\r\n",
      "conda-build               3.17.8                   py37_0  \r\n",
      "conda-env                 2.6.0                         1  \r\n",
      "conda-package-handling    1.6.0            py37h7b6447c_0  \r\n",
      "conda-verify              3.1.1                    py37_0  \r\n",
      "contextlib2               0.6.0                      py_0  \r\n",
      "cryptography              2.8              py37h1ba5d50_0  \r\n",
      "curl                      7.65.3               hbc83047_0  \r\n",
      "cycler                    0.10.0                   py37_0  \r\n",
      "cython                    0.29.13          py37he6710b0_0  \r\n",
      "cytoolz                   0.10.0           py37h7b6447c_0  \r\n",
      "dask                      2.6.0                      py_0  \r\n",
      "dask-core                 2.6.0                      py_0  \r\n",
      "dbus                      1.13.12              h746ee38_0  \r\n",
      "decorator                 4.4.1                      py_0  \r\n",
      "defusedxml                0.6.0                      py_0  \r\n",
      "distributed               2.6.0                      py_0  \r\n",
      "docutils                  0.15.2                   py37_0  \r\n",
      "entrypoints               0.3                      py37_0  \r\n",
      "environment-kernels       1.1.1                    pypi_0    pypi\r\n",
      "et_xmlfile                1.0.1                    py37_0  \r\n",
      "expat                     2.2.6                he6710b0_0  \r\n",
      "fastcache                 1.1.0            py37h7b6447c_0  \r\n",
      "filelock                  3.0.12                     py_0  \r\n",
      "flask                     1.1.1                      py_0  \r\n",
      "fontconfig                2.13.0               h9420a91_0  \r\n",
      "freetype                  2.9.1                h8a8886c_1  \r\n",
      "fribidi                   1.0.5                h7b6447c_0  \r\n",
      "fsspec                    0.5.2                      py_0  \r\n",
      "future                    0.17.1                   py37_0  \r\n",
      "get_terminal_size         1.0.0                haa9412d_0  \r\n",
      "gevent                    1.4.0            py37h7b6447c_0  \r\n",
      "glib                      2.63.1               h5a9c865_0  \r\n",
      "glob2                     0.7                        py_0  \r\n",
      "gmp                       6.1.2                h6c8ec71_1  \r\n",
      "gmpy2                     2.0.8            py37h10f8cd9_2  \r\n",
      "graphite2                 1.3.13               h23475e2_0  \r\n",
      "greenlet                  0.4.15           py37h7b6447c_0  \r\n",
      "gst-plugins-base          1.14.0               hbbd80ab_1  \r\n",
      "gstreamer                 1.14.0               hb453b48_1  \r\n",
      "h5py                      2.9.0            py37h7918eee_0  \r\n",
      "harfbuzz                  1.8.8                hffaf4a1_0  \r\n",
      "hdf5                      1.10.4               hb1b8bf9_0  \r\n",
      "heapdict                  1.0.1                      py_0  \r\n",
      "html5lib                  1.0.1                    py37_0  \r\n",
      "icu                       58.2                 h9c2bf20_1  \r\n",
      "idna                      2.8                      py37_0  \r\n",
      "imageio                   2.6.1                    py37_0  \r\n",
      "imagesize                 1.1.0                    py37_0  \r\n",
      "importlib_metadata        0.23                     py37_0  \r\n",
      "intel-openmp              2019.4                      243  \r\n",
      "ipykernel                 5.1.3            py37h39e3cac_0  \r\n",
      "ipyparallel               6.2.4                    py37_0  \r\n",
      "ipython                   7.9.0            py37h39e3cac_0  \r\n",
      "ipython_genutils          0.2.0                    py37_0  \r\n",
      "ipywidgets                7.5.1                      py_0  \r\n",
      "isort                     4.3.21                   py37_0  \r\n",
      "itsdangerous              1.1.0                    py37_0  \r\n",
      "jbig                      2.1                  hdba287a_0  \r\n",
      "jdcal                     1.4.1                      py_0  \r\n",
      "jedi                      0.15.1                   py37_0  \r\n",
      "jeepney                   0.4.1                      py_0  \r\n",
      "jinja2                    2.10.3                     py_0  \r\n",
      "joblib                    0.13.2                   py37_0  \r\n",
      "jpeg                      9b                   h024ee3a_2  \r\n",
      "json5                     0.8.5                      py_0  \r\n",
      "jsonschema                3.1.1                    py37_0  \r\n",
      "jupyter                   1.0.0                    py37_7  \r\n",
      "jupyter_client            5.3.4                    py37_0  \r\n",
      "jupyter_console           6.0.0                    py37_0  \r\n",
      "jupyter_contrib_core      0.3.3                      py_2    conda-forge\r\n",
      "jupyter_contrib_nbextensions 0.5.1                    py37_0    conda-forge\r\n",
      "jupyter_core              4.6.1                    py37_0  \r\n",
      "jupyter_highlight_selected_word 0.2.0                 py37_1000    conda-forge\r\n",
      "jupyter_latex_envs        1.4.4                 py37_1000    conda-forge\r\n",
      "jupyter_nbextensions_configurator 0.4.1                    py37_0    conda-forge\r\n",
      "jupyterlab                1.1.4              pyhf63ae98_0  \r\n",
      "jupyterlab_server         1.0.6                      py_0  \r\n",
      "keyring                   18.0.0                   py37_0  \r\n",
      "kiwisolver                1.1.0            py37he6710b0_0  \r\n",
      "krb5                      1.16.1               h173b8e3_7  \r\n",
      "lazy-object-proxy         1.4.2            py37h7b6447c_0  \r\n",
      "libarchive                3.3.3                h5d8350f_5  \r\n",
      "libcurl                   7.65.3               h20c2e04_0  \r\n",
      "libedit                   3.1.20181209         hc058e9b_0  \r\n",
      "libffi                    3.2.1                hd88cf55_4  \r\n",
      "libgcc-ng                 9.1.0                hdf63c60_0  \r\n",
      "libgfortran-ng            7.3.0                hdf63c60_0  \r\n",
      "liblief                   0.9.0                h7725739_2  \r\n",
      "libpng                    1.6.37               hbc83047_0  \r\n",
      "libsodium                 1.0.16               h1bed415_0  \r\n",
      "libssh2                   1.8.2                h1ba5d50_0  \r\n",
      "libstdcxx-ng              9.1.0                hdf63c60_0  \r\n",
      "libtiff                   4.0.10               h2733197_2  \r\n",
      "libtool                   2.4.6                h7b6447c_5  \r\n",
      "libuuid                   1.0.3                h1bed415_2  \r\n",
      "libxcb                    1.13                 h1bed415_1  \r\n",
      "libxml2                   2.9.9                hea5a465_1  \r\n",
      "libxslt                   1.1.33               h7d1a2b0_0  \r\n",
      "llvmlite                  0.30.0           py37hd408876_0  \r\n",
      "locket                    0.2.0                    py37_1  \r\n",
      "lxml                      4.4.1            py37hefd8a0e_0  \r\n",
      "lz4-c                     1.8.1.2              h14c3975_0  \r\n",
      "lzo                       2.10                 h49e0be7_2  \r\n",
      "markupsafe                1.1.1            py37h7b6447c_0  \r\n",
      "matplotlib                3.1.1            py37h5429711_0  \r\n",
      "mccabe                    0.6.1                    py37_1  \r\n",
      "metakernel                0.24.3                     py_0    conda-forge\r\n",
      "mistune                   0.8.4            py37h7b6447c_0  \r\n",
      "mkl                       2019.4                      243  \r\n",
      "mkl-service               2.3.0            py37he904b0f_0  \r\n",
      "mkl_fft                   1.0.15           py37ha843d7b_0  \r\n",
      "mkl_random                1.1.0            py37hd6b4f25_0  \r\n",
      "mock                      3.0.5                    py37_0  \r\n",
      "more-itertools            7.2.0                    py37_0  \r\n",
      "mpc                       1.1.0                h10f8cd9_1  \r\n",
      "mpfr                      4.0.1                hdf1c602_3  \r\n",
      "mpmath                    1.1.0                    py37_0  \r\n",
      "msgpack-python            0.6.1            py37hfd86e86_1  \r\n",
      "multipledispatch          0.6.0                    py37_0  \r\n",
      "navigator-updater         0.2.1                    py37_0  \r\n",
      "nb_conda                  2.2.1                    py37_2    conda-forge\r\n",
      "nb_conda_kernels          2.2.2                    py37_0    conda-forge\r\n",
      "nbconvert                 5.6.1                    py37_0  \r\n",
      "nbformat                  4.4.0                    py37_0  \r\n",
      "ncurses                   6.1                  he6710b0_1  \r\n",
      "networkx                  2.4                        py_0  \r\n",
      "nltk                      3.4.5                    py37_0  \r\n",
      "nose                      1.3.7                    py37_2  \r\n",
      "notebook                  6.0.1                    py37_0  \r\n",
      "numba                     0.46.0           py37h962f231_0  \r\n",
      "numexpr                   2.7.0            py37h9e4a6bb_0  \r\n",
      "numpy                     1.17.3           py37hd14ec0e_0  \r\n",
      "numpy-base                1.17.3           py37hde5b4d6_0  \r\n",
      "numpydoc                  0.9.1                      py_0  \r\n",
      "octave_kernel             0.31.0                     py_0    conda-forge\r\n",
      "olefile                   0.46                     py37_0  \r\n",
      "openpyxl                  3.0.0                      py_0  \r\n",
      "openssl                   1.1.1d               h516909a_0    conda-forge\r\n",
      "packaging                 19.2                       py_0  \r\n",
      "pandas                    0.25.2           py37he6710b0_0  \r\n",
      "pandoc                    2.2.3.2                       0  \r\n",
      "pandocfilters             1.4.2                    py37_1  \r\n",
      "pango                     1.42.4               h049681c_0  \r\n",
      "parso                     0.5.1                      py_0  \r\n",
      "partd                     1.0.0                      py_0  \r\n",
      "patchelf                  0.9                  he6710b0_3  \r\n",
      "path.py                   12.0.1                     py_0  \r\n",
      "pathlib2                  2.3.5                    py37_0  \r\n",
      "patsy                     0.5.1                    py37_0  \r\n",
      "pcre                      8.43                 he6710b0_0  \r\n",
      "pep8                      1.7.1                    py37_0  \r\n",
      "perl                      5.26.2            h516909a_1006    conda-forge\r\n",
      "pexpect                   4.7.0                    py37_0  \r\n",
      "pickleshare               0.7.5                    py37_0  \r\n",
      "pillow                    6.2.1            py37h34e0f95_0  \r\n",
      "pip                       19.3.1                   pypi_0    pypi\r\n",
      "pixman                    0.38.0               h7b6447c_0  \r\n",
      "pkginfo                   1.5.0.1                  py37_0  \r\n",
      "pluggy                    0.13.0                   py37_0  \r\n",
      "ply                       3.11                     py37_0  \r\n",
      "portalocker               1.5.1                    py37_0    conda-forge\r\n",
      "prometheus_client         0.7.1                      py_0  \r\n",
      "prompt_toolkit            2.0.10                     py_0  \r\n",
      "psutil                    5.6.3            py37h7b6447c_0  \r\n",
      "ptyprocess                0.6.0                    py37_0  \r\n",
      "py                        1.8.0                    py37_0  \r\n",
      "py-lief                   0.9.0            py37h7725739_2  \r\n",
      "pycodestyle               2.5.0                    py37_0  \r\n",
      "pycosat                   0.6.3            py37h14c3975_0  \r\n",
      "pycparser                 2.19                     py37_0  \r\n",
      "pycrypto                  2.6.1            py37h14c3975_9  \r\n",
      "pycurl                    7.43.0.3         py37h1ba5d50_0  \r\n",
      "pyflakes                  2.1.1                    py37_0  \r\n",
      "pygments                  2.4.2                      py_0  \r\n",
      "pylint                    2.4.3                    py37_0  \r\n",
      "pyodbc                    4.0.27           py37he6710b0_0  \r\n",
      "pyopenssl                 19.0.0                   py37_0  \r\n",
      "pyparsing                 2.4.2                      py_0  \r\n",
      "pyqt                      5.9.2            py37h05f1152_2  \r\n",
      "pyrsistent                0.15.4           py37h7b6447c_0  \r\n",
      "pysocks                   1.7.1                    py37_0  \r\n",
      "pytables                  3.5.2            py37h71ec239_1  \r\n",
      "pytest                    5.2.2                    py37_0  \r\n",
      "pytest-arraydiff          0.3              py37h39e3cac_0  \r\n",
      "pytest-astropy            0.5.0                    py37_0  \r\n",
      "pytest-doctestplus        0.4.0                      py_0  \r\n",
      "pytest-openfiles          0.4.0                      py_0  \r\n",
      "pytest-remotedata         0.3.2                    py37_0  \r\n",
      "python                    3.7.3                h0371630_0  \r\n",
      "python-dateutil           2.8.0                    py37_0  \r\n",
      "python-libarchive-c       2.8                     py37_13  \r\n",
      "pytz                      2019.3                     py_0  \r\n",
      "pywavelets                1.1.1            py37h7b6447c_0  \r\n",
      "pyyaml                    5.1.2            py37h7b6447c_0  \r\n",
      "pyzmq                     18.1.0           py37he6710b0_0  \r\n",
      "qt                        5.9.7                h5867ecd_1  \r\n",
      "qtawesome                 0.6.0                      py_0  \r\n",
      "qtconsole                 4.5.5                      py_0  \r\n",
      "qtpy                      1.9.0                      py_0  \r\n",
      "readline                  7.0                  h7b6447c_5  \r\n",
      "requests                  2.22.0                   py37_0  \r\n",
      "rope                      0.14.0                     py_0  \r\n",
      "ruamel_yaml               0.15.46          py37h14c3975_0  \r\n",
      "scikit-image              0.15.0           py37he6710b0_0  \r\n",
      "scikit-learn              0.21.3           py37hd81dba3_0  \r\n",
      "scipy                     1.3.1            py37h7c811a0_0  \r\n",
      "seaborn                   0.9.0                    py37_0  \r\n",
      "secretstorage             3.1.1                    py37_0  \r\n",
      "send2trash                1.5.0                    py37_0  \r\n",
      "setuptools                41.6.0                   py37_0  \r\n",
      "simplegeneric             0.8.1                    py37_2  \r\n",
      "singledispatch            3.4.0.3                  py37_0  \r\n",
      "sip                       4.19.8           py37hf484d3e_0  \r\n",
      "six                       1.12.0                   py37_0  \r\n",
      "snappy                    1.1.7                hbae5bb6_3  \r\n",
      "snowballstemmer           2.0.0                      py_0  \r\n",
      "sortedcollections         1.1.2                    py37_0  \r\n",
      "sortedcontainers          2.1.0                    py37_0  \r\n",
      "soupsieve                 1.9.3                    py37_0  \r\n",
      "sphinx                    2.2.1                      py_0  \r\n",
      "sphinxcontrib             1.0                      py37_1  \r\n",
      "sphinxcontrib-applehelp   1.0.1                      py_0  \r\n",
      "sphinxcontrib-devhelp     1.0.1                      py_0  \r\n",
      "sphinxcontrib-htmlhelp    1.0.2                      py_0  \r\n",
      "sphinxcontrib-jsmath      1.0.1                      py_0  \r\n",
      "sphinxcontrib-qthelp      1.0.2                      py_0  \r\n",
      "sphinxcontrib-serializinghtml 1.1.3                      py_0  \r\n",
      "sphinxcontrib-websupport  1.1.2                      py_0  \r\n",
      "spyder                    3.3.6                    py37_0  \r\n",
      "spyder-kernels            0.5.2                    py37_0  \r\n",
      "sqlalchemy                1.3.10           py37h7b6447c_0  \r\n",
      "sqlite                    3.30.1               h7b6447c_0  \r\n",
      "statsmodels               0.10.1           py37hdd07704_0  \r\n",
      "sympy                     1.4                      py37_0  \r\n",
      "tbb                       2019.8               hfd86e86_0  \r\n",
      "tblib                     1.4.0                      py_0  \r\n",
      "terminado                 0.8.2                    py37_0  \r\n",
      "testpath                  0.4.2                    py37_0  \r\n",
      "texinfo                   6.7             pl526h46ee950_0    conda-forge\r\n",
      "tk                        8.6.8                hbc83047_0  \r\n",
      "toolz                     0.10.0                     py_0  \r\n",
      "tornado                   6.0.3            py37h7b6447c_0  \r\n",
      "tqdm                      4.36.1                     py_0  \r\n",
      "traitlets                 4.3.3                    py37_0  \r\n",
      "txaio                     18.8.1                   pypi_0    pypi\r\n",
      "unicodecsv                0.14.1                   py37_0  \r\n",
      "unixodbc                  2.3.7                h14c3975_0  \r\n",
      "urllib3                   1.24.2                   py37_0  \r\n",
      "vpnotebook                0.1.3                    pypi_0    pypi\r\n",
      "vpython                   7.5.1                    pypi_0    pypi\r\n",
      "wcwidth                   0.1.7                    py37_0  \r\n",
      "webencodings              0.5.1                    py37_1  \r\n",
      "werkzeug                  0.16.0                     py_0  \r\n",
      "wheel                     0.33.6                   py37_0  \r\n",
      "widgetsnbextension        3.5.1                    py37_0  \r\n",
      "wrapt                     1.11.2           py37h7b6447c_0  \r\n",
      "wurlitzer                 1.0.3                    py37_0  \r\n",
      "xlrd                      1.2.0                    py37_0  \r\n",
      "xlsxwriter                1.2.2                      py_0  \r\n",
      "xlwt                      1.3.0                    py37_0  \r\n",
      "xz                        5.2.4                h14c3975_4  \r\n",
      "yaml                      0.1.7                had09818_2  \r\n",
      "zeromq                    4.3.1                he6710b0_3  \r\n",
      "zict                      1.0.0                      py_0  \r\n",
      "zipp                      0.6.0                      py_0  \r\n",
      "zlib                      1.2.11               h7b6447c_3  \r\n",
      "zstd                      1.3.7                h0b5b093_0  \r\n"
     ]
    }
   ],
   "source": [
    "!conda list"
   ]
  },
  {
   "cell_type": "markdown",
   "metadata": {},
   "source": [
    "Based on this list and a quick google I see that Numpy, Pandas and Scipy all have some level of statistical support.  There is also one I have never heard of called Statsmodels which I found by doing a search (Control-f) for \"stats\" after running the above command.\n",
    "\n",
    "Lets look at each one of these in turn."
   ]
  },
  {
   "cell_type": "markdown",
   "metadata": {},
   "source": [
    "----\n",
    "<a name=\"Statistics_in_Numpy\"></a>\n",
    "# 2. Statistics in Numpy \n",
    "\n",
    "NumPy has quite a few useful statistical functions for finding minimum, maximum, percentile standard deviation and variance, etc. from the given elements in the array."
   ]
  },
  {
   "cell_type": "markdown",
   "metadata": {},
   "source": [
    "&#9989; **<font color=red>DO THIS:</font>** Using numpy find the max, min, mean and average for the temperature data."
   ]
  },
  {
   "cell_type": "code",
   "execution_count": null,
   "metadata": {},
   "outputs": [],
   "source": [
    "#Put your answer here"
   ]
  },
  {
   "cell_type": "markdown",
   "metadata": {},
   "source": [
    "&#9989; **<font color=red>QUESTION:</font>** What other statistical function does numpy provide? "
   ]
  },
  {
   "cell_type": "code",
   "execution_count": null,
   "metadata": {},
   "outputs": [],
   "source": [
    "#Put your answer here"
   ]
  },
  {
   "cell_type": "markdown",
   "metadata": {},
   "source": [
    "----\n",
    "<a name=\"Statistics_in_Pandas\"></a>\n",
    "# 3. Statistics in Pandas\n",
    "The pandas library does a good job with statistics as well. In pandas, everything is organized into a DataFrame object. One of my favorit pandas function is ```describe```.  "
   ]
  },
  {
   "cell_type": "code",
   "execution_count": 4,
   "metadata": {},
   "outputs": [
    {
     "data": {
      "text/html": [
       "<div>\n",
       "<style scoped>\n",
       "    .dataframe tbody tr th:only-of-type {\n",
       "        vertical-align: middle;\n",
       "    }\n",
       "\n",
       "    .dataframe tbody tr th {\n",
       "        vertical-align: top;\n",
       "    }\n",
       "\n",
       "    .dataframe thead th {\n",
       "        text-align: right;\n",
       "    }\n",
       "</style>\n",
       "<table border=\"1\" class=\"dataframe\">\n",
       "  <thead>\n",
       "    <tr style=\"text-align: right;\">\n",
       "      <th></th>\n",
       "      <th>temp</th>\n",
       "    </tr>\n",
       "  </thead>\n",
       "  <tbody>\n",
       "    <tr>\n",
       "      <th>count</th>\n",
       "      <td>1.291992e+06</td>\n",
       "    </tr>\n",
       "    <tr>\n",
       "      <th>mean</th>\n",
       "      <td>4.299736e+01</td>\n",
       "    </tr>\n",
       "    <tr>\n",
       "      <th>std</th>\n",
       "      <td>2.030674e+01</td>\n",
       "    </tr>\n",
       "    <tr>\n",
       "      <th>min</th>\n",
       "      <td>-2.272000e+01</td>\n",
       "    </tr>\n",
       "    <tr>\n",
       "      <th>25%</th>\n",
       "      <td>2.732000e+01</td>\n",
       "    </tr>\n",
       "    <tr>\n",
       "      <th>50%</th>\n",
       "      <td>4.316000e+01</td>\n",
       "    </tr>\n",
       "    <tr>\n",
       "      <th>75%</th>\n",
       "      <td>5.972000e+01</td>\n",
       "    </tr>\n",
       "    <tr>\n",
       "      <th>max</th>\n",
       "      <td>9.338000e+01</td>\n",
       "    </tr>\n",
       "  </tbody>\n",
       "</table>\n",
       "</div>"
      ],
      "text/plain": [
       "               temp\n",
       "count  1.291992e+06\n",
       "mean   4.299736e+01\n",
       "std    2.030674e+01\n",
       "min   -2.272000e+01\n",
       "25%    2.732000e+01\n",
       "50%    4.316000e+01\n",
       "75%    5.972000e+01\n",
       "max    9.338000e+01"
      ]
     },
     "execution_count": 4,
     "metadata": {},
     "output_type": "execute_result"
    }
   ],
   "source": [
    "import pandas as pd\n",
    "df = pd.DataFrame()\n",
    "df['temp'] = data\n",
    "df.describe()"
   ]
  },
  {
   "cell_type": "markdown",
   "metadata": {},
   "source": [
    "&#9989; **<font color=red>QUESTION:</font>** What other statistical function does pandas provide? "
   ]
  },
  {
   "cell_type": "code",
   "execution_count": null,
   "metadata": {},
   "outputs": [],
   "source": [
    "#Put your answer here"
   ]
  },
  {
   "cell_type": "markdown",
   "metadata": {},
   "source": [
    "----\n",
    "<a name=\"Statistics_in_SciPy\"></a>\n",
    "\n",
    "# 4. Statistics in SciPy\n",
    "\n",
    "Finnally Scipy has a wonderful range of statistics that many people can use.  Most of the are located in ```scipy.stats```:\n",
    "\n",
    "[Link to descriptions of scipy statistical function](https://docs.scipy.org/doc/scipy/reference/stats.html)"
   ]
  },
  {
   "cell_type": "markdown",
   "metadata": {},
   "source": [
    "&#9989; **<font color=red>QUESTION:</font>** Find a scipy function or group of functions that look interesting. See if you can figure out how they wrok.  Come to class prepared to talk about what you learned."
   ]
  },
  {
   "cell_type": "markdown",
   "metadata": {},
   "source": [
    "Write down your notes from the above exploration here."
   ]
  },
  {
   "cell_type": "markdown",
   "metadata": {},
   "source": [
    "----\n",
    "<a name=\"statsmodels\"></a>\n",
    "\n",
    "# 5. Statsmodels"
   ]
  },
  {
   "cell_type": "markdown",
   "metadata": {},
   "source": [
    "&#9989; **<font color=red>QUESTION:</font>** Review the Statsmoels documentation and see if you can find anything interesting. Write down notes of what you found so you can share them with the class. "
   ]
  },
  {
   "cell_type": "markdown",
   "metadata": {},
   "source": [
    "Write down your notes from the above exploration here."
   ]
  },
  {
   "cell_type": "code",
   "execution_count": null,
   "metadata": {},
   "outputs": [],
   "source": [
    "import statsmodels.api as sm"
   ]
  },
  {
   "cell_type": "markdown",
   "metadata": {},
   "source": [
    "---\n",
    "<a name=\"ANOVA\"></a>\n",
    "# 6. ANOVA\n",
    "\n",
    "Now let us assume that your advisor wants you to run an ANOVA analsyis.  "
   ]
  },
  {
   "cell_type": "markdown",
   "metadata": {
    "scrolled": true
   },
   "source": [
    "&#9989; **<font color=red>QUESTION:</font>** What is an ANOVA analysis? (either describe in your own words or provide a reference with a description you find and like)"
   ]
  },
  {
   "cell_type": "markdown",
   "metadata": {},
   "source": [
    "Put your answer to the above question here"
   ]
  },
  {
   "cell_type": "markdown",
   "metadata": {},
   "source": [
    "&#9989; **<font color=red>QUESTION:</font>** There are typically three assumptions that need to be made in order to use an ANOVA anlysis to compare populations. What are those three assumptions?"
   ]
  },
  {
   "cell_type": "markdown",
   "metadata": {},
   "source": [
    "Put your answer to the above question here"
   ]
  },
  {
   "cell_type": "markdown",
   "metadata": {},
   "source": [
    "&#9989; **<font color=red>DO THIS:</font>** Find and test some example code that will run an ANOVA experiment.  Feel free to use any of the above libraries (Or find your own)."
   ]
  },
  {
   "cell_type": "code",
   "execution_count": null,
   "metadata": {},
   "outputs": [],
   "source": [
    "#Put your ANOVA exmaple code here."
   ]
  },
  {
   "cell_type": "markdown",
   "metadata": {},
   "source": [
    "----\n",
    "<a name=\"Assignment_wrap-up\"></a>\n",
    "# 7. Assignment wrap-up\n",
    "\n",
    "Please fill out the form that appears when you run the code below.  **You must completely fill this out in order to receive credit for the assignment!**\n",
    "\n",
    "[Direct Link to Google Form](https://cmse.msu.edu/cmse802-pc-survey)\n",
    "\n",
    "\n",
    "If you have trouble with the embedded form, please make sure you log on with your MSU google account at [googleapps.msu.edu](https://googleapps.msu.edu) and then click on the direct link above."
   ]
  },
  {
   "cell_type": "markdown",
   "metadata": {},
   "source": [
    "&#9989; **<font color=red>Assignment-Specific QUESTION:</font>** Where you able to find and get an ANOVA example working? If so, what library did you use? If not, where did you get stuck?"
   ]
  },
  {
   "cell_type": "markdown",
   "metadata": {},
   "source": [
    "Put your answer to the above question here"
   ]
  },
  {
   "cell_type": "markdown",
   "metadata": {},
   "source": [
    "&#9989; **<font color=red>QUESTION:</font>**  Summarize what you did in this assignment."
   ]
  },
  {
   "cell_type": "markdown",
   "metadata": {},
   "source": [
    "Put your answer to the above question here"
   ]
  },
  {
   "cell_type": "markdown",
   "metadata": {},
   "source": [
    "&#9989; **<font color=red>QUESTION:</font>**  What questions do you have, if any, about any of the topics discussed in this assignment after working through the jupyter notebook?"
   ]
  },
  {
   "cell_type": "markdown",
   "metadata": {},
   "source": [
    "Put your answer to the above question here"
   ]
  },
  {
   "cell_type": "markdown",
   "metadata": {},
   "source": [
    "&#9989; **<font color=red>QUESTION:</font>**  How well do you feel this assignment helped you to achieve a better understanding of the above mentioned topic(s)?"
   ]
  },
  {
   "cell_type": "markdown",
   "metadata": {},
   "source": [
    "Put your answer to the above question here"
   ]
  },
  {
   "cell_type": "markdown",
   "metadata": {},
   "source": [
    "&#9989; **<font color=red>QUESTION:</font>** What was the **most** challenging part of this assignment for you? "
   ]
  },
  {
   "cell_type": "markdown",
   "metadata": {},
   "source": [
    "Put your answer to the above question here"
   ]
  },
  {
   "cell_type": "markdown",
   "metadata": {},
   "source": [
    "&#9989; **<font color=red>QUESTION:</font>** What was the **least** challenging part of this assignment for you? "
   ]
  },
  {
   "cell_type": "markdown",
   "metadata": {},
   "source": [
    "Put your answer to the above question here"
   ]
  },
  {
   "cell_type": "markdown",
   "metadata": {},
   "source": [
    "&#9989; **<font color=red>QUESTION:</font>**  What kind of additional questions or support, if any, do you feel you need to have a better understanding of the content in this assignment?"
   ]
  },
  {
   "cell_type": "markdown",
   "metadata": {},
   "source": [
    "Put your answer to the above question here"
   ]
  },
  {
   "cell_type": "markdown",
   "metadata": {},
   "source": [
    "&#9989; **<font color=red>QUESTION:</font>**  Do you have any further questions or comments about this material, or anything else that's going on in class?"
   ]
  },
  {
   "cell_type": "markdown",
   "metadata": {},
   "source": [
    "Put your answer to the above question here"
   ]
  },
  {
   "cell_type": "markdown",
   "metadata": {},
   "source": [
    "&#9989; **<font color=red>QUESTION:</font>** Approximately how long did this pre-class assignment take?"
   ]
  },
  {
   "cell_type": "markdown",
   "metadata": {},
   "source": [
    "Put your answer to the above question here"
   ]
  },
  {
   "cell_type": "code",
   "execution_count": null,
   "metadata": {},
   "outputs": [],
   "source": [
    "from IPython.display import HTML\n",
    "HTML(\n",
    "\"\"\"\n",
    "<iframe \n",
    "\tsrc=\"https://cmse.msu.edu/cmse802-pc-survey?embedded=true\" \n",
    "\twidth=\"100%\" \n",
    "\theight=\"1200px\" \n",
    "\tframeborder=\"0\" \n",
    "\tmarginheight=\"0\" \n",
    "\tmarginwidth=\"0\">\n",
    "\tLoading...\n",
    "</iframe>\n",
    "\"\"\"\n",
    ")"
   ]
  },
  {
   "cell_type": "markdown",
   "metadata": {},
   "source": [
    "---------\n",
    "### Congratulations, we're done!\n",
    "\n",
    "To get credit for this assignment you must fill out and submit the above Google From on or before the assignment due date."
   ]
  },
  {
   "cell_type": "markdown",
   "metadata": {},
   "source": [
    "### Course Resources:\n",
    "\n",
    "- [Syllabus](https://docs.google.com/document/d/e/2PACX-1vTW4OzeUNhsuG_zvh06MT4r1tguxLFXGFCiMVN49XJJRYfekb7E6LyfGLP5tyLcHqcUNJjH2Vk-Isd8/pub)\n",
    "- [Preliminary Schedule](https://docs.google.com/spreadsheets/d/e/2PACX-1vRsQcyH1nlbSD4x7zvHWAbAcLrGWRo_RqeFyt2loQPgt3MxirrI5ADVFW9IoeLGSBSu_Uo6e8BE4IQc/pubhtml?gid=2142090757&single=true)\n",
    "- [Course D2L Page](https://d2l.msu.edu/d2l/home/912152)"
   ]
  },
  {
   "cell_type": "markdown",
   "metadata": {},
   "source": [
    "&#169; Copyright 2020,  Michigan State University Board of Trustees"
   ]
  }
 ],
 "metadata": {
  "anaconda-cloud": {},
  "kernelspec": {
   "display_name": "Python 3",
   "language": "python",
   "name": "python3"
  },
  "language_info": {
   "codemirror_mode": {
    "name": "ipython",
    "version": 3
   },
   "file_extension": ".py",
   "mimetype": "text/x-python",
   "name": "python",
   "nbconvert_exporter": "python",
   "pygments_lexer": "ipython3",
   "version": "3.7.3"
  }
 },
 "nbformat": 4,
 "nbformat_minor": 2
}
