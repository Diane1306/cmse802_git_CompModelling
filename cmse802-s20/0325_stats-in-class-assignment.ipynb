{
 "cells": [
  {
   "cell_type": "markdown",
   "metadata": {},
   "source": [
    "In order to successfully complete this assignment you need to participate both individually and in groups during class on **Wednesday March 25**."
   ]
  },
  {
   "cell_type": "markdown",
   "metadata": {},
   "source": [
    "# In-Class Assignment: Statistical Models\n",
    "\n",
    "<img alt=\"Short video of a tool that demonstrates the natrual occurace of gaussian curves using a plico toy\" src=\"https://i1.wp.com/psychbrief.com/wp-content/uploads/2017/12/normal-distribution-2.gif?resize=444%2C250&ssl=1\">\n",
    "\n",
    "Image From: https://en.wikipedia.org/wiki/Hydra"
   ]
  },
  {
   "cell_type": "markdown",
   "metadata": {},
   "source": [
    "### Agenda for today's class (80 minutes)\n",
    "\n",
    "</p>\n",
    "\n",
    "\n",
    "\n",
    "1. [(20 minutes) pre-class_review](#pre-class_review)\n",
    "1. [(20 minutes) Moving window methods](#Moving_window_methods)\n",
    "2. [(20 minutes) Speedtest Example](#Speedtest_Example)"
   ]
  },
  {
   "cell_type": "markdown",
   "metadata": {},
   "source": [
    "----\n",
    "<a name=\"pre-class_review\"></a>\n",
    "# 1. Pre-class assignment review\n",
    "\n",
    "\n",
    "* [0324--Stats-pre-class-assignment](0324--Stats-pre-class-assignment.ipynb)"
   ]
  },
  {
   "cell_type": "markdown",
   "metadata": {},
   "source": [
    "---\n",
    "<a name=\"Moving_window_methods\"></a>\n",
    "# 2. Moving window methods\n",
    "\n",
    "We are going to explore \"moving windows methods\" used a lot in signal processing and data anlaysis to \"clean up\" noise in your data. \n",
    "\n",
    "&#9989; **<font color=red>DO THIS:</font>** First lets download the noaa example again:"
   ]
  },
  {
   "cell_type": "code",
   "execution_count": null,
   "metadata": {},
   "outputs": [],
   "source": [
    "%matplotlib inline\n",
    "import matplotlib.pylab as plt\n",
    "import noaa_scraper\n",
    "\n",
    "data = noaa_scraper.get_airtemperature_from_files()"
   ]
  },
  {
   "cell_type": "code",
   "execution_count": null,
   "metadata": {},
   "outputs": [],
   "source": [
    "plt.plot(data)"
   ]
  },
  {
   "cell_type": "markdown",
   "metadata": {},
   "source": [
    "The following code makes a histogram of values within the noaa data. Notice the bimodal nature of this example:"
   ]
  },
  {
   "cell_type": "code",
   "execution_count": null,
   "metadata": {},
   "outputs": [],
   "source": [
    "h = plt.hist(data, 100, density=True);\n",
    "plt.xlabel('Temperature (deg F)')\n",
    "plt.ylabel('Number of measurements');"
   ]
  },
  {
   "cell_type": "markdown",
   "metadata": {},
   "source": [
    "We are going to explore \"moving windows methods\" used a lot in signal processing and data anlaysis to \"clean up\" noise in your data.   \n",
    "\n",
    "In this example we use a window size of 300 data points.  Each point new point is an average of the a window around the original data.\n"
   ]
  },
  {
   "cell_type": "code",
   "execution_count": null,
   "metadata": {},
   "outputs": [],
   "source": [
    "import numpy as np\n",
    "data = np.array(data)"
   ]
  },
  {
   "cell_type": "code",
   "execution_count": null,
   "metadata": {},
   "outputs": [],
   "source": [
    "#moving average code from https://stackoverflow.com/questions/13728392/moving-average-or-running-mean\n",
    "N = 300\n",
    "totals, moving_aves = [0], []\n",
    "for i, x in enumerate(data, 1):\n",
    "    totals.append(totals[i-1] + x)\n",
    "    if i>=N:\n",
    "        moving_ave = (totals[i] - totals[i-N])/N\n",
    "        #can do stuff with moving_ave here\n",
    "        moving_aves.append(moving_ave)\n",
    "        "
   ]
  },
  {
   "cell_type": "markdown",
   "metadata": {},
   "source": [
    "We then plot the new values here:"
   ]
  },
  {
   "cell_type": "code",
   "execution_count": null,
   "metadata": {
    "scrolled": true
   },
   "outputs": [],
   "source": [
    "plt.plot(moving_aves)"
   ]
  },
  {
   "cell_type": "code",
   "execution_count": null,
   "metadata": {},
   "outputs": [],
   "source": [
    "h = plt.hist(moving_aves, 100, density=True);\n",
    "plt.xlabel('Temperature (deg F)')\n",
    "plt.ylabel('Number of measurements');"
   ]
  },
  {
   "cell_type": "markdown",
   "metadata": {},
   "source": [
    "&#9989; **<font color=red>DO THIS:</font>** Modify the above answer to use larger and larger window sizes. Try chaning orders of magnitude (ex: 300, 3000, 30000).  "
   ]
  },
  {
   "cell_type": "markdown",
   "metadata": {},
   "source": [
    "&#9989; **<font color=red>DO THIS:</font>** Make an animated gif or mpeg video suitable for showing in a powerpoit presentation how smoothing changes when you change window size. Use a logrithmic sale for the window size $N$. I recommend $N$ in [10,100,1000,10000,100000]:"
   ]
  },
  {
   "cell_type": "markdown",
   "metadata": {},
   "source": [
    "----\n",
    "<a name=\"Speedtest_Example\"></a>\n",
    "# 3. Speedtest Data\n",
    "\n",
    "Now lets look at some more statistical modeling.  In the last git commit, I included a ```speedtest.dat``` file. (Note: this data was collected using this [python script in gist](https://gist.github.com/colbrydi/027a4b95399a8543b2a7c0cadb88bb0c)).  The data are comma seperated values  that can easily be uploaded using the following code:"
   ]
  },
  {
   "cell_type": "code",
   "execution_count": null,
   "metadata": {
    "scrolled": true
   },
   "outputs": [],
   "source": [
    "import pandas\n",
    "from IPython.display import display\n",
    "\n",
    "filename = 'speedtest.dat'\n",
    "data = pandas.read_csv(filename)\n",
    "data['download'] = data['download']/1000000\n",
    "data['upload'] = data['upload']/1000000\n",
    "display(data)"
   ]
  },
  {
   "cell_type": "code",
   "execution_count": null,
   "metadata": {},
   "outputs": [],
   "source": [
    "%matplotlib inline\n",
    "ax = data.plot.bar(x = 'location', y=['download'])"
   ]
  },
  {
   "cell_type": "markdown",
   "metadata": {},
   "source": [
    "See if you can generate a bar chart that is averaged based on a location group.  (Hint: if you get stuck this code is in the gist file)"
   ]
  },
  {
   "cell_type": "markdown",
   "metadata": {},
   "source": [
    "-----\n",
    "### Congratulations, we're done!"
   ]
  },
  {
   "cell_type": "markdown",
   "metadata": {},
   "source": [
    "### Course Resources:\n",
    "\n",
    "- [Syllabus](https://docs.google.com/document/d/e/2PACX-1vTW4OzeUNhsuG_zvh06MT4r1tguxLFXGFCiMVN49XJJRYfekb7E6LyfGLP5tyLcHqcUNJjH2Vk-Isd8/pub)\n",
    "- [Preliminary Schedule](https://docs.google.com/spreadsheets/d/e/2PACX-1vRsQcyH1nlbSD4x7zvHWAbAcLrGWRo_RqeFyt2loQPgt3MxirrI5ADVFW9IoeLGSBSu_Uo6e8BE4IQc/pubhtml?gid=2142090757&single=true)\n",
    "- [D2L Page](https://d2l.msu.edu/d2l/home/912152)\n",
    "- [Git Repository](https://gitlab.msu.edu/colbrydi/cmse802-s20)"
   ]
  },
  {
   "cell_type": "markdown",
   "metadata": {},
   "source": [
    "&#169; Copyright 2020,  Michigan State University Board of Trustees"
   ]
  }
 ],
 "metadata": {
  "kernelspec": {
   "display_name": "Python 3",
   "language": "python",
   "name": "python3"
  },
  "language_info": {
   "codemirror_mode": {
    "name": "ipython",
    "version": 3
   },
   "file_extension": ".py",
   "mimetype": "text/x-python",
   "name": "python",
   "nbconvert_exporter": "python",
   "pygments_lexer": "ipython3",
   "version": "3.7.3"
  }
 },
 "nbformat": 4,
 "nbformat_minor": 2
}
