{
 "cells": [
  {
   "cell_type": "markdown",
   "metadata": {},
   "source": [
    "In order to successfully complete this assignment you need to turn in a project proposal to D2L on or before **11:59pm on Friday March 27**."
   ]
  },
  {
   "cell_type": "markdown",
   "metadata": {},
   "source": [
    "# <center>Using Ordinary Differential Equations (ODEs) in #your research area here#</center>\n",
    "\n",
    "<center>by #Your name#</center>"
   ]
  },
  {
   "cell_type": "markdown",
   "metadata": {},
   "source": [
    "---\n",
    "# Instructions\n",
    "\n",
    "Write a ~1-2 page report about how ODE Models could be used in your area of research.  There are three basic forms to this report:\n",
    "\n",
    "1. ODEs are already used in your area of research.  Provide a summary and include references.  If possible include a short example that could be demonstrated in class. \n",
    "2. Describe how you could incorporate ODE models into your research domain.  What research questions might you be able to ask, improve or validate?\n",
    "3. ODEs can not be used in your area of research.  Explain in detail why they can't be used.  \n",
    "\n",
    "To be clear, I think 1 and 2 will be the most common reports.  If you choose 3 you need to make a very convincing and thought out argument. \n",
    "\n",
    "You can write your report in any tool you want. I recommend Jupyter notebooks but Word, Latex, Google docs are all fine. If you use Jupyter notebooks (which I tend to like) make sure you do not include these instructions. Write the report so someone outside of the course could make sense of how ODEs can be used."
   ]
  },
  {
   "cell_type": "markdown",
   "metadata": {},
   "source": [
    "---\n",
    "# References\n",
    "\n",
    "In all three example provide some references to papers you found that help illustrate your argument. I prefer references with links to papers.  \n",
    "\n",
    "\n",
    "**Side hack:** Also, I love [zotero](https://www.zotero.org/) and I really like Jupyter notebooks. I would love it if one of you got board and figured out how to cite references and build a bibliography inside notebooks.  Something like [cite2c](https://github.com/takluyver/cite2c) looks like it would be really cool but I haven't tried it."
   ]
  },
  {
   "cell_type": "markdown",
   "metadata": {},
   "source": [
    "-----\n",
    "\n",
    "### Congratulations, you are done!\n",
    "\n",
    "Now, you just need to commit and push this report to your project git repository. "
   ]
  }
 ],
 "metadata": {
  "anaconda-cloud": {},
  "kernelspec": {
   "display_name": "Python 3",
   "language": "python",
   "name": "python3"
  },
  "language_info": {
   "codemirror_mode": {
    "name": "ipython",
    "version": 3
   },
   "file_extension": ".py",
   "mimetype": "text/x-python",
   "name": "python",
   "nbconvert_exporter": "python",
   "pygments_lexer": "ipython3",
   "version": "3.7.3"
  }
 },
 "nbformat": 4,
 "nbformat_minor": 1
}
