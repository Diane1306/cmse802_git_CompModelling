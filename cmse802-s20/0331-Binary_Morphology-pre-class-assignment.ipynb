{
 "cells": [
  {
   "cell_type": "markdown",
   "metadata": {},
   "source": [
    "In order to successfully complete this assignment you must do the required reading, watch the provided videos and complete all instructions.  The embedded Google form must be entirely filled out and submitted on or before **11:59pm on Tuesday March 31**.  Students must come to class the next day prepared to discuss the material covered in this assignment. answer"
   ]
  },
  {
   "cell_type": "markdown",
   "metadata": {
    "slideshow": {
     "slide_type": "-"
    }
   },
   "source": [
    "# Pre-Class Assignment: Binary Morphology\n",
    "In this pre-class assignment we will use binary image morphology to improve our ability to do image segmentation."
   ]
  },
  {
   "cell_type": "markdown",
   "metadata": {
    "slideshow": {
     "slide_type": "-"
    }
   },
   "source": [
    "### Goals for today's pre-class assignment\n",
    "\n",
    "1. [Color Thresholding](#Color_Thresholding)\n",
    "1. [Dilation and Erosion](#Dilation_and_Erosion)\n",
    "1. [Other Binary Morphology functions](#Other_Binary_Morphology_Operations)\n",
    "1. [Over the sholder example](#Over_the_sholder_example)\n",
    "1. [Assignment_wrap-up](#Assignment_wrap-up)"
   ]
  },
  {
   "cell_type": "markdown",
   "metadata": {},
   "source": [
    "----\n",
    "<a name=\"Color_Thresholding\"></a>\n",
    "# 1. Color Thresholding\n",
    "\n",
    "The following code tries to color segment an image"
   ]
  },
  {
   "cell_type": "code",
   "execution_count": null,
   "metadata": {},
   "outputs": [],
   "source": [
    "#The following code snip-it reads any file from the internet and saves it to your local directory.\n",
    "from urllib.request import urlopen, urlretrieve\n",
    "from imageio import imread, imsave\n",
    "%matplotlib inline\n",
    "import matplotlib.pylab as plt\n",
    "import numpy as np\n",
    "\n",
    "url = 'https://goo.gl/g4wdeF'\n",
    "file = 'Chameleon.jpg'\n",
    "urlretrieve(url, file);\n",
    "\n",
    "\n",
    "im = imread(file)\n",
    "plt.imshow(im);"
   ]
  },
  {
   "cell_type": "code",
   "execution_count": null,
   "metadata": {},
   "outputs": [],
   "source": [
    "#Use Logical operators for each RGB Color channel\n",
    "r_threshold = im[:,:,0] < 100\n",
    "g_threshold = im[:,:,1] > 90\n",
    "b_threshold = im[:,:,2] < 100"
   ]
  },
  {
   "cell_type": "code",
   "execution_count": null,
   "metadata": {},
   "outputs": [],
   "source": [
    "#Use Logical to combine results of each channel\n",
    "binary_image = np.logical_and(r_threshold,g_threshold)\n",
    "binary_image = np.logical_and(binary_image,b_threshold)"
   ]
  },
  {
   "cell_type": "code",
   "execution_count": null,
   "metadata": {
    "scrolled": true
   },
   "outputs": [],
   "source": [
    "#display the binary image result from color segmentation\n",
    "plt.figure(figsize = (10,5))\n",
    "plt.imshow(binary_image, cmap='gray',vmin=0,vmax=1);"
   ]
  },
  {
   "cell_type": "markdown",
   "metadata": {},
   "source": [
    "---\n",
    "<a name=\"Dilation_and_Erosion\"></a>\n",
    "# 2. Dilation and Erosion\n",
    "How can we make the above images look better?  We will use two \"Binary Image Morphology\" operators called Dilation and Erosion that can \"grow\" and \"shrink\" the \"true\" regions in our above image.  Watch the following video on dilation:"
   ]
  },
  {
   "cell_type": "code",
   "execution_count": null,
   "metadata": {
    "scrolled": false
   },
   "outputs": [],
   "source": [
    "#Dilation\n",
    "from IPython.display import YouTubeVideo\n",
    "YouTubeVideo(\"xO3ED27rMHs\",width=640,height=360)"
   ]
  },
  {
   "cell_type": "markdown",
   "metadata": {},
   "source": [
    "The following python snipit in the ndimage package uses a square structure element (3x3) to dilate the image. You can change the iterations input option to increase the number of times the structure element is applied:"
   ]
  },
  {
   "cell_type": "code",
   "execution_count": null,
   "metadata": {},
   "outputs": [],
   "source": [
    "from scipy import ndimage\n",
    "\n",
    "#Example of Dialation using ndimage in scipy\n",
    "after_dialation = ndimage.binary_dilation(binary_image, iterations=3)\n",
    "f, (ax1, ax2) = plt.subplots(1, 2,figsize=(20,10))\n",
    "ax1.imshow(binary_image, cmap='gray')\n",
    "ax1.set_title(\"Before Dilation\")\n",
    "\n",
    "ax2.imshow(after_dialation, cmap='gray')\n",
    "ax2.set_title(\"After Dilation\")"
   ]
  },
  {
   "cell_type": "markdown",
   "metadata": {},
   "source": [
    "Notice how more of the chameleon is included in this expanded image\n",
    "\n",
    "Now consider the following video on **Erosion**:"
   ]
  },
  {
   "cell_type": "code",
   "execution_count": null,
   "metadata": {
    "scrolled": true
   },
   "outputs": [],
   "source": [
    "#Erosion\n",
    "from IPython.display import YouTubeVideo\n",
    "YouTubeVideo(\"fmyE7DiaIYQ\",width=640,height=360)"
   ]
  },
  {
   "cell_type": "markdown",
   "metadata": {},
   "source": [
    "The following python snipit in the ndimage package uses a square structure element (3x3) to erode the image. You can change the iterations input option to increase the number of times the structure element is applied:"
   ]
  },
  {
   "cell_type": "code",
   "execution_count": null,
   "metadata": {
    "scrolled": true
   },
   "outputs": [],
   "source": [
    "from scipy import ndimage\n",
    "\n",
    "after_erosion = ndimage.binary_erosion(binary_image, iterations=3)\n",
    "f, (ax1, ax2) = plt.subplots(1, 2,figsize=(20,10))\n",
    "ax1.imshow(binary_image, cmap='gray')\n",
    "ax1.set_title(\"Before Erosion\")\n",
    "\n",
    "ax2.imshow(after_erosion, cmap='gray')\n",
    "ax2.set_title(\"After Erosion\")"
   ]
  },
  {
   "cell_type": "markdown",
   "metadata": {},
   "source": [
    "Notice that the small pixel \"noise\" has been removed from the image.  "
   ]
  },
  {
   "cell_type": "markdown",
   "metadata": {},
   "source": [
    "&#9989; **Do This:** Think about how you could combine erosion and dilation to do a better job at segmentation of the chameleon.  The goal is to find a combination and sequence of dilation and erosion that only provides the entire chameleon and eliminates all of the background.\n",
    "\n",
    "Modify the following code to try to best segment out the chameleon.  Feel free to change the order of the algorithms or add your own logic:"
   ]
  },
  {
   "cell_type": "code",
   "execution_count": null,
   "metadata": {},
   "outputs": [],
   "source": [
    "bw1 = ndimage.binary_erosion(binary_image, iterations=5)\n",
    "bw2 = ndimage.binary_dilation(bw1, iterations=7)"
   ]
  },
  {
   "cell_type": "code",
   "execution_count": null,
   "metadata": {},
   "outputs": [],
   "source": [
    "f, (ax1, ax2) = plt.subplots(1, 2,figsize=(20,10))\n",
    "im2 = im.copy()\n",
    "ax1.imshow(bw1, cmap='gray')\n",
    "ax1.set_title(\"Just Erosion\")\n",
    "\n",
    "im2 = im.copy()\n",
    "ax2.imshow(bw2,cmap='gray')\n",
    "ax2.set_title(\"Erosion and then Dilagion\")"
   ]
  },
  {
   "cell_type": "markdown",
   "metadata": {},
   "source": [
    "----\n",
    "<a name=\"Other_Binary_Morphology_Operations\"></a>\n",
    "# 3.  Other Binary Morphology Operations\n",
    "\n",
    "Both **Dilation** and **Erosion** come from a class of algorithms called \"binary morphology\".  These algorithms all take binary images as inputs and return modified binary images as outputs.  Because the inputs are the same as the outputs you can string them together. "
   ]
  },
  {
   "cell_type": "markdown",
   "metadata": {},
   "source": [
    "**&#9989;  DO THIS** review the functions available in the ```ndimage``` python class related to morphology:\n",
    "\n",
    "https://docs.scipy.org/doc/scipy/reference/ndimage.html"
   ]
  },
  {
   "cell_type": "markdown",
   "metadata": {},
   "source": [
    "**Question:** Which of these functions sound like they may be useful to help better segment the chameleon and why? "
   ]
  },
  {
   "cell_type": "markdown",
   "metadata": {},
   "source": [
    "<font size=8 color=\"#009600\">&#9998;</font> Do This - Erase the contents of this cell and replace it with your answer to the above question!  (double-click on this text to edit this cell, and hit shift+enter to save the text)"
   ]
  },
  {
   "cell_type": "markdown",
   "metadata": {},
   "source": [
    "The following operation uses one of the other morphology functions.  We can use the function as an \"index\" into the original image.  Notice the lines in the following code that remove the background from the image by setting all values corresponding to \"false\" in the binary images equal to zero."
   ]
  },
  {
   "cell_type": "code",
   "execution_count": null,
   "metadata": {},
   "outputs": [],
   "source": [
    "bw1 = ndimage.binary_erosion(binary_image, iterations=5)\n",
    "bw2 = ndimage.binary_dilation(bw1, iterations=7)\n",
    "bw3 = ndimage.binary_closing(bw2, iterations=20)\n",
    "\n",
    "f, (ax1, ax2) = plt.subplots(1, 2,figsize=(20,10))\n",
    "ax1.imshow(im)\n",
    "ax1.set_title(\"Original Image\")\n",
    "\n",
    "im2 = im.copy()\n",
    "im2[bw3==False,:] = 0 #Remove Background\n",
    "ax2.imshow(im2)\n",
    "ax2.set_title(\"Segmented Image\")"
   ]
  },
  {
   "cell_type": "markdown",
   "metadata": {},
   "source": [
    "----\n",
    "<a name=\"Over_the_sholder_example\"></a>\n",
    "# 4. Over the shoulder example\n",
    "\n",
    "This is a LONG example video (~26 minutes) of using image morphology in a real world programming problem (this is more scientific visualization rather than scientific image analysis). This is \"over the solder\" instruction where you can see everything I did including my debugging technique and troubleshooting.  Some students find this kind of instruction very helpful, others find it tedious and annoying.  \n",
    "\n",
    "I will not ask any question in this notebook so feel free to at double speed or skip though based on your interest and time. The important part is my introduction to \"object labeling\" which I start talking about approximately 11 minutes and 45 seconds into the video.  We will use this concept/function in class."
   ]
  },
  {
   "cell_type": "code",
   "execution_count": null,
   "metadata": {
    "scrolled": false
   },
   "outputs": [],
   "source": [
    "from IPython.display import YouTubeVideo\n",
    "YouTubeVideo(\"3KRZtVZfn-Q\",width=640,height=360)"
   ]
  },
  {
   "cell_type": "markdown",
   "metadata": {},
   "source": [
    "Here is most of the code from the video for your reference. Make sure you download the image which can be found here:\n",
    "\n",
    "http://www.yourchildlearns.com/online-atlas/images/map-of-united-states-2.gif"
   ]
  },
  {
   "cell_type": "code",
   "execution_count": null,
   "metadata": {},
   "outputs": [],
   "source": [
    "#The following code snip-it downloads a file from internet and saves it to your local directory.\n",
    "from urllib.request import urlopen, urlretrieve\n",
    "\n",
    "url='http://www.yourchildlearns.com/online-atlas/images/map-of-united-states-2.gif'\n",
    "file = './map-of-united-states.gif'\n",
    "urlretrieve(url, file);"
   ]
  },
  {
   "cell_type": "code",
   "execution_count": null,
   "metadata": {
    "scrolled": true
   },
   "outputs": [],
   "source": [
    "%matplotlib inline\n",
    "import numpy as np\n",
    "from scipy import misc, ndimage\n",
    "import matplotlib.pylab as plt\n",
    "from PIL import Image\n",
    "\n",
    "img = Image.open(file)"
   ]
  },
  {
   "cell_type": "code",
   "execution_count": null,
   "metadata": {},
   "outputs": [],
   "source": [
    "np_img = np.asarray(img)\n",
    "plt.figure(figsize = (10,5))\n",
    "plt.imshow(np_img)"
   ]
  },
  {
   "cell_type": "code",
   "execution_count": null,
   "metadata": {},
   "outputs": [],
   "source": [
    "bw = np_img > 12 \n",
    "bw = ndimage.binary_erosion(bw, iterations=1)\n",
    "bw = ndimage.binary_dilation(bw)\n",
    "plt.imshow(bw)"
   ]
  },
  {
   "cell_type": "code",
   "execution_count": null,
   "metadata": {},
   "outputs": [],
   "source": [
    "lab, num_features = ndimage.measurements.label(bw)\n",
    "lab[lab == 0] = np.max(lab)\n",
    "plt.imshow(lab)"
   ]
  },
  {
   "cell_type": "markdown",
   "metadata": {},
   "source": [
    "&#9989; **<font color=red>Do This:</font>** Using the color based segmentation from the pre-class assignemnt, clean up the following binary image using binary morfology."
   ]
  },
  {
   "cell_type": "code",
   "execution_count": null,
   "metadata": {},
   "outputs": [],
   "source": [
    "url = 'https://goo.gl/cebwc1'\n",
    "file1 = 'Petri_dish1.jpg'\n",
    "urlretrieve(url, file1);\n",
    "\n",
    "im=imread(file1)\n",
    "plt.imshow(im)\n",
    "\n",
    "rmax=255\n",
    "rmin = 180\n",
    "max_mask = im[:,:,0] < rmax \n",
    "min_mask = rmin < im[:,:,0] \n",
    "\n",
    "background_mask = np.logical_and(max_mask,min_mask)\n",
    "\n",
    "# Remove the background_mask from the original image\n",
    "forground_im = im.copy()\n",
    "forground_im[background_mask,:] = 0\n",
    "\n",
    "#Plot the results side-by-side with the original image\n",
    "f, (ax1, ax2) = plt.subplots(1, 2,figsize=(20,10))\n",
    "ax1.imshow(background_mask, cmap='gray')\n",
    "ax1.set_title('Background Mask')\n",
    "ax1.axis('off')\n",
    "ax2.imshow(forground_im)\n",
    "ax1.set_title('Masked Image')"
   ]
  },
  {
   "cell_type": "markdown",
   "metadata": {},
   "source": [
    "----\n",
    "<a name=\"Assignment_wrap-up\"></a>\n",
    "# 5. Assignment wrap-up\n",
    "\n",
    "Please fill out the form that appears when you run the code below.  **You must completely fill this out in order to receive credit for the assignment!**\n",
    "\n",
    "[Direct Link to Google Form](https://cmse.msu.edu/cmse802-pc-survey)\n",
    "\n",
    "\n",
    "If you have trouble with the embedded form, please make sure you log on with your MSU google account at [googleapps.msu.edu](https://googleapps.msu.edu) and then click on the direct link above."
   ]
  },
  {
   "cell_type": "markdown",
   "metadata": {},
   "source": [
    "&#9989; **<font color=red>Assignment-Specific QUESTION:</font>** Where you able to figure out how binary image morphology works?  If not, what was confusing and where did you get stuck. "
   ]
  },
  {
   "cell_type": "markdown",
   "metadata": {},
   "source": [
    "Put your answer to the above question here"
   ]
  },
  {
   "cell_type": "markdown",
   "metadata": {},
   "source": [
    "&#9989; **<font color=red>QUESTION:</font>**  Summarize what you did in this assignment."
   ]
  },
  {
   "cell_type": "markdown",
   "metadata": {},
   "source": [
    "Put your answer to the above question here"
   ]
  },
  {
   "cell_type": "markdown",
   "metadata": {},
   "source": [
    "&#9989; **<font color=red>QUESTION:</font>**  What questions do you have, if any, about any of the topics discussed in this assignment after working through the jupyter notebook?"
   ]
  },
  {
   "cell_type": "markdown",
   "metadata": {},
   "source": [
    "Put your answer to the above question here"
   ]
  },
  {
   "cell_type": "markdown",
   "metadata": {},
   "source": [
    "&#9989; **<font color=red>QUESTION:</font>**  How well do you feel this assignment helped you to achieve a better understanding of the above mentioned topic(s)?"
   ]
  },
  {
   "cell_type": "markdown",
   "metadata": {},
   "source": [
    "Put your answer to the above question here"
   ]
  },
  {
   "cell_type": "markdown",
   "metadata": {},
   "source": [
    "&#9989; **<font color=red>QUESTION:</font>** What was the **most** challenging part of this assignment for you? "
   ]
  },
  {
   "cell_type": "markdown",
   "metadata": {},
   "source": [
    "Put your answer to the above question here"
   ]
  },
  {
   "cell_type": "markdown",
   "metadata": {},
   "source": [
    "&#9989; **<font color=red>QUESTION:</font>** What was the **least** challenging part of this assignment for you? "
   ]
  },
  {
   "cell_type": "markdown",
   "metadata": {},
   "source": [
    "Put your answer to the above question here"
   ]
  },
  {
   "cell_type": "markdown",
   "metadata": {},
   "source": [
    "&#9989; **<font color=red>QUESTION:</font>**  What kind of additional questions or support, if any, do you feel you need to have a better understanding of the content in this assignment?"
   ]
  },
  {
   "cell_type": "markdown",
   "metadata": {},
   "source": [
    "Put your answer to the above question here"
   ]
  },
  {
   "cell_type": "markdown",
   "metadata": {},
   "source": [
    "&#9989; **<font color=red>QUESTION:</font>**  Do you have any further questions or comments about this material, or anything else that's going on in class?"
   ]
  },
  {
   "cell_type": "markdown",
   "metadata": {},
   "source": [
    "Put your answer to the above question here"
   ]
  },
  {
   "cell_type": "markdown",
   "metadata": {},
   "source": [
    "&#9989; **<font color=red>QUESTION:</font>** Approximately how long did this pre-class assignment take?"
   ]
  },
  {
   "cell_type": "markdown",
   "metadata": {},
   "source": [
    "Put your answer to the above question here"
   ]
  },
  {
   "cell_type": "code",
   "execution_count": null,
   "metadata": {},
   "outputs": [],
   "source": [
    "from IPython.display import HTML\n",
    "HTML(\n",
    "\"\"\"\n",
    "<iframe \n",
    "\tsrc=\"https://cmse.msu.edu/cmse802-pc-survey?embedded=true\" \n",
    "\twidth=\"100%\" \n",
    "\theight=\"1200px\" \n",
    "\tframeborder=\"0\" \n",
    "\tmarginheight=\"0\" \n",
    "\tmarginwidth=\"0\">\n",
    "\tLoading...\n",
    "</iframe>\n",
    "\"\"\"\n",
    ")"
   ]
  },
  {
   "cell_type": "markdown",
   "metadata": {},
   "source": [
    "---------\n",
    "### Congratulations, we're done!\n",
    "\n",
    "To get credit for this assignment you must fill out and submit the above Google From on or before the assignment due date."
   ]
  },
  {
   "cell_type": "markdown",
   "metadata": {},
   "source": [
    "### Course Resources:\n",
    "\n",
    "- [Syllabus](https://docs.google.com/document/d/e/2PACX-1vTW4OzeUNhsuG_zvh06MT4r1tguxLFXGFCiMVN49XJJRYfekb7E6LyfGLP5tyLcHqcUNJjH2Vk-Isd8/pub)\n",
    "- [Preliminary Schedule](https://docs.google.com/spreadsheets/d/e/2PACX-1vRsQcyH1nlbSD4x7zvHWAbAcLrGWRo_RqeFyt2loQPgt3MxirrI5ADVFW9IoeLGSBSu_Uo6e8BE4IQc/pubhtml?gid=2142090757&single=true)\n",
    "- [Course D2L Page](https://d2l.msu.edu/d2l/home/912152)"
   ]
  },
  {
   "cell_type": "markdown",
   "metadata": {},
   "source": [
    "&#169; Copyright 2020,  Michigan State University Board of Trustees"
   ]
  }
 ],
 "metadata": {
  "anaconda-cloud": {},
  "kernelspec": {
   "display_name": "Python 3",
   "language": "python",
   "name": "python3"
  },
  "language_info": {
   "codemirror_mode": {
    "name": "ipython",
    "version": 3
   },
   "file_extension": ".py",
   "mimetype": "text/x-python",
   "name": "python",
   "nbconvert_exporter": "python",
   "pygments_lexer": "ipython3",
   "version": "3.7.3"
  }
 },
 "nbformat": 4,
 "nbformat_minor": 1
}
