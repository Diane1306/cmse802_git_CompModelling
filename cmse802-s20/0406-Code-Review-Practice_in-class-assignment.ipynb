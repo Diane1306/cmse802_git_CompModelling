{
 "cells": [
  {
   "cell_type": "markdown",
   "metadata": {},
   "source": [
    "In order to successfully complete this assignment you need to participate both individually and in groups during class on **Monday April 6**."
   ]
  },
  {
   "cell_type": "markdown",
   "metadata": {},
   "source": [
    "# In-Class Assignment: Code Review\n",
    "\n",
    "\n",
    "<img alt=\"Code Review\" src=\"https://www.codeproject.com/KB/cs/1156196/Basic-Code-Reviewer-Code-Review-Checklist.png\" width=75%></a>\n",
    "\n",
    "Image From: https://www.codeproject.com/Articles/1156196/Code-Review-Checklist"
   ]
  },
  {
   "cell_type": "markdown",
   "metadata": {},
   "source": [
    "### Agenda for today's class (80 minutes)\n",
    "\n",
    "</p>\n",
    "\n",
    "\n",
    "\n",
    "1. [(20 minutes) Review Pre-class](#Review-pre-class)\n",
    "1. [(40 minutes) Code Review Practice](#Code_review_practice)\n",
    "1. [(20 minutes) Individual Review](#Individual_Review)"
   ]
  },
  {
   "cell_type": "markdown",
   "metadata": {},
   "source": [
    "----\n",
    "<a nmae=\"Review-pre-class\"></a>\n",
    "\n",
    "\n",
    "# 1. Review Pre-class\n",
    "\n",
    "* [0405--Code_review-pre-class-assignment](0405--Code_review-pre-class-assignment.ipynb)"
   ]
  },
  {
   "cell_type": "markdown",
   "metadata": {},
   "source": [
    "-----\n",
    "<a name=\"Code_review_practice\"></a>\n",
    "\n",
    "# 2. Code Review Practice"
   ]
  },
  {
   "cell_type": "markdown",
   "metadata": {},
   "source": [
    "&#9989; **<font color=red>DO THIS:</font>** Please clone (or fork) one or more of the following repositories and do a code review using the guildlines below. Make notes of things you think should be changed.  Be prepaird to share what you leard with the class.  \n",
    "\n",
    "* https://github.com/colbrydi/jupytercheck\n",
    "* https://github.com/colbrydi/Lithophane\n",
    "* https://github.com/colbrydi/simple_us_states\n"
   ]
  },
  {
   "cell_type": "markdown",
   "metadata": {},
   "source": [
    "I have selected the following items from the [Code-Review-Checklist](https://www.codeproject.com/Articles/1156196/Code-Review-Checklist) that I think would be particularly useful for your projects.  Each of you can review the JupyterCheck code and put your comments here. We will discuss this in class. \n",
    "1. **_Objective based [Purposeful]_** The code achieves its purpose. In simple terms, it does what it is supposed to."
   ]
  },
  {
   "cell_type": "markdown",
   "metadata": {},
   "source": [
    "Put your comments here."
   ]
  },
  {
   "cell_type": "markdown",
   "metadata": {},
   "source": [
    "2. **_Unbreakable [Validated]_** Validations are used wherever necessary. The code never breaks under any circumstances. Especially under invalid inputs that come from the user end. Regardless of it being a negative, over-sized, invalid format, etc., every input passed should be processed, sanitized before taking it further. Every object is checked for its actual data existence before accessing its properties."
   ]
  },
  {
   "cell_type": "markdown",
   "metadata": {},
   "source": [
    "Put your comments here."
   ]
  },
  {
   "cell_type": "markdown",
   "metadata": {},
   "source": [
    "3. **_Responses are handled [Error handling and Data formatting]_** Not just the error messages, every response that is returned by the server must be properly handled. It should have necessary headers, response messages, error codes and any other necessary details attached with it in required format. All possible scenarios are tested to avoid deadlocks, timeouts, etc."
   ]
  },
  {
   "cell_type": "markdown",
   "metadata": {},
   "source": [
    "Put your comments here."
   ]
  },
  {
   "cell_type": "markdown",
   "metadata": {},
   "source": [
    "4. **_Unit tested [Reliable]_** Every core method has a unit test which passes."
   ]
  },
  {
   "cell_type": "markdown",
   "metadata": {},
   "source": [
    "Put your comments here."
   ]
  },
  {
   "cell_type": "markdown",
   "metadata": {},
   "source": [
    "5. **_Reusable [No repetition]_** All methods serve a limited and clear purpose ([follows DRY principle](https://en.wikipedia.org/wiki/Don%27t_repeat_yourself)). Functions are reused wherever applicable and written in such a way that they can be re-used in the future implementations. There is no duplication of code. Logics make use of general functions without ambiguity."
   ]
  },
  {
   "cell_type": "markdown",
   "metadata": {},
   "source": [
    "Put your comments here."
   ]
  },
  {
   "cell_type": "markdown",
   "metadata": {},
   "source": [
    "6. **_Meets coding conventions and standards [Standardized approach]_** The code follows the coding conventions, standards and is consistent with the existing application code. There are no commented code and hard coded values."
   ]
  },
  {
   "cell_type": "markdown",
   "metadata": {},
   "source": [
    "Put your comments here."
   ]
  },
  {
   "cell_type": "markdown",
   "metadata": {},
   "source": [
    "7. **_Legal usage of third-party tools/libraries[Licencing]_**External libraries are used only if proven necessary for the application. If there are third-party tools or libraries used, then the licenses and legal usages are verified and complaint."
   ]
  },
  {
   "cell_type": "markdown",
   "metadata": {},
   "source": [
    "Put your comments here."
   ]
  },
  {
   "cell_type": "markdown",
   "metadata": {},
   "source": [
    "&#9989; **<font color=red>DO THIS:</font>** If you have found a fix or imporvement and you have a github account, try submitting your change as a pull request.  I have found that the pull request process is not hard but has a lot of steps. Doing it once can help it make sense. As a reminder here are the basic steps from the video:\n",
    "\n",
    "1. Log into github and fork the repository into your github account (this gives you onership of a copy of the code and is why it requires an account)\n",
    "2. clone the repository on your local machine or jupyterhub\n",
    "3. Make a branh were you will put all of your changes. (ex. git branch mychanges)\n",
    "4. Change to the branch (ex. git checkout mychanges)\n",
    "5. Change the code and add/commit them\n",
    "6. Push your branch back to github (git push origin mychanges)\n",
    "7. Log back into github. There will be a button asking if you want to submit a pull request."
   ]
  },
  {
   "cell_type": "markdown",
   "metadata": {},
   "source": [
    "----\n",
    "<a name=\"Individual_Review\"></a>\n",
    "\n",
    "# 1. Individual Review \n",
    "\n",
    "Using the magic of python and random number genertion, your instructor will split you up into groups of 2 or 3. Assuming this works, I will send out an email. \n",
    "\n",
    "\n",
    "&#9989; **<font color=red>DO THIS:</font>** Change your zoom username to include your group number.  For example, if I was in group 99 my username would change to 99_Dirk. The instructor will break you up into groups based on your group number.  I picked groups of 3 or 4 in the hopes that you can break up in pairs.  If you are in a group of four go ahead and break up into two groups of two.  \n",
    "\n"
   ]
  },
  {
   "cell_type": "markdown",
   "metadata": {},
   "source": [
    "&#9989; **<font color=red>DO THIS:</font>** Introduce yourselves in the breakout rooms and though email.  Introduce your projects and help each other download and install it sufficient for a code review. "
   ]
  },
  {
   "cell_type": "markdown",
   "metadata": {},
   "source": [
    "-----\n",
    "### Congratulations, we're done!"
   ]
  },
  {
   "cell_type": "markdown",
   "metadata": {},
   "source": [
    "### Course Resources:\n",
    "\n",
    "- [Syllabus](https://docs.google.com/document/d/e/2PACX-1vTW4OzeUNhsuG_zvh06MT4r1tguxLFXGFCiMVN49XJJRYfekb7E6LyfGLP5tyLcHqcUNJjH2Vk-Isd8/pub)\n",
    "- [Preliminary Schedule](https://docs.google.com/spreadsheets/d/e/2PACX-1vRsQcyH1nlbSD4x7zvHWAbAcLrGWRo_RqeFyt2loQPgt3MxirrI5ADVFW9IoeLGSBSu_Uo6e8BE4IQc/pubhtml?gid=2142090757&single=true)\n",
    "- [D2L Page](https://d2l.msu.edu/d2l/home/912152)\n",
    "- [Git Repository](https://gitlab.msu.edu/colbrydi/cmse802-s20)"
   ]
  },
  {
   "cell_type": "markdown",
   "metadata": {},
   "source": [
    "&#169; Copyright 2020,  Michigan State University Board of Trustees"
   ]
  }
 ],
 "metadata": {
  "kernelspec": {
   "display_name": "Python 3",
   "language": "python",
   "name": "python3"
  },
  "language_info": {
   "codemirror_mode": {
    "name": "ipython",
    "version": 3
   },
   "file_extension": ".py",
   "mimetype": "text/x-python",
   "name": "python",
   "nbconvert_exporter": "python",
   "pygments_lexer": "ipython3",
   "version": "3.7.3"
  }
 },
 "nbformat": 4,
 "nbformat_minor": 2
}
