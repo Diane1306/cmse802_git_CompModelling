{
 "cells": [
  {
   "cell_type": "markdown",
   "metadata": {},
   "source": [
    "In order to successfully complete this assignment you need to participate both individually and in groups during class on **Monday April 13**.  "
   ]
  },
  {
   "cell_type": "markdown",
   "metadata": {},
   "source": [
    "# In-Class Assignment: Course Review and Planning\n",
    "\n",
    "<img src=\"https://lh5.googleusercontent.com/Lzz5YzGD1TwL1-39lEeyN54hhV5RLM1fvJb_U2_FCXo1WOriJPLZ3VVzyuo3YICWLR5qyOCKBDAF2IzthnwG92RhEP6wu3nR0ICQCc8dsHWqPXoN_ge4vGf_iT0P=w740\">"
   ]
  },
  {
   "cell_type": "markdown",
   "metadata": {},
   "source": [
    "### Agenda for today's class (80 minutes)\n",
    "\n",
    "</p>\n",
    "\n",
    "\n",
    "\n",
    "1. [(20 minutes) Pre-class questions](#pre-class_questions)\n",
    "1. [(20 minutes) A Semester in Review](#A_Semester_in_Review)\n",
    "3. [(20 minutes) Fall Planning and Brainstorming](#Fall_Planning)\n",
    "3. [(20 minutes) Code Review Assignments](#Code_Review_Assignments)"
   ]
  },
  {
   "cell_type": "markdown",
   "metadata": {},
   "source": [
    "----\n",
    "\n",
    "<a name=\"pre-class_questions\"></a>\n",
    "\n",
    "# 1. Pre-class questions\n",
    "\n",
    "* [0412--Installers-pre-class-assignment](0412--Installers-pre-class-assignment.ipynb)"
   ]
  },
  {
   "cell_type": "markdown",
   "metadata": {},
   "source": [
    "----\n",
    "<a name=\"A_Semester_in_Review\"></a>\n",
    "\n",
    "# 2. A Semester in Review\n",
    "\n",
    "Today we will review topics covered this semester.  Reflect on the following question and be prepaired ot share your thoughts with your group and the entire class. \n",
    "\n",
    "* What did we cover this semester?\n",
    "* What do you remember most?\n",
    "* What was the most impactful to your research?\n",
    "* What stories do we have?\n",
    "\n"
   ]
  },
  {
   "cell_type": "markdown",
   "metadata": {},
   "source": [
    "----\n",
    "<a name=\"Fall_Planning\"></a>\n",
    "\n",
    "# 3. Fall Planning and Brainstorming\n",
    "\n",
    "Last semester was the first time teaching this course in the new format.  It went fine but the instructor tried to make some improviments here are some thigns that were new this semester:\n",
    "\n",
    "- Better mechanisms to provide more frequent project feedback to students\n",
    "- Additional project structure both in the repository and clear list of expectations.\n",
    "- Examples of software projects that students can review\n",
    "- Reorganization of modeling topics to better match the flow of the material.\n",
    "    - Less time on ABMs\n",
    "    - Code review practice \n",
    "    - Optimization earlier in the semester\n",
    "\n",
    "Now we are putting thought in how to reorganize for the Fall.  Some ideas we have include:\n",
    "\n",
    "- Call all of the project parts \"milestones\" \n",
    "- First project milestone should be GIT with some of the project structure incorperated right off the bat. This will give sudents a littel more time to come up with a project proposal.  \n",
    "- Move the Linear Algebra earlier.  This is not that hard of a topic and could be used in areas.\n",
    "- Have students use jupyter notebook as a \"Lab notebook\" to keep track of the progress they are making (maybe use git comments).\n",
    "\n",
    "\n",
    "\n",
    "\n"
   ]
  },
  {
   "cell_type": "markdown",
   "metadata": {},
   "source": [
    "##  Brainstorming\n",
    "\n",
    "What do you want us to stop doing? Start Doing and Continue Doing?  Feel free to repeat or emphasise my ideas and/or generate your own.  Again we will start in your groups and then share our thoughts with the rest of the class. \n",
    "\n"
   ]
  },
  {
   "cell_type": "markdown",
   "metadata": {},
   "source": [
    "-----\n",
    "<a name=\"Code_Review_Assignments\"></a>\n",
    "\n",
    "# 4. Code Review Assignments\n",
    "\n",
    "Lets assign new code review groups for Wednesday.  We Will use breakout rooms to exchange information.  Try to pick someone new this time.  "
   ]
  },
  {
   "cell_type": "markdown",
   "metadata": {},
   "source": [
    "-----\n",
    "### Congratulations, we're done!"
   ]
  },
  {
   "cell_type": "markdown",
   "metadata": {},
   "source": [
    "### Course Resources:\n",
    "\n",
    "- [Syllabus](https://docs.google.com/document/d/e/2PACX-1vTW4OzeUNhsuG_zvh06MT4r1tguxLFXGFCiMVN49XJJRYfekb7E6LyfGLP5tyLcHqcUNJjH2Vk-Isd8/pub)\n",
    "- [Preliminary Schedule](https://docs.google.com/spreadsheets/d/e/2PACX-1vRsQcyH1nlbSD4x7zvHWAbAcLrGWRo_RqeFyt2loQPgt3MxirrI5ADVFW9IoeLGSBSu_Uo6e8BE4IQc/pubhtml?gid=2142090757&single=true)\n",
    "- [D2L Page](https://d2l.msu.edu/d2l/home/912152)\n",
    "- [Git Repository](https://gitlab.msu.edu/colbrydi/cmse802-s20)"
   ]
  },
  {
   "cell_type": "markdown",
   "metadata": {},
   "source": [
    "&#169; Copyright 2019,  Michigan State University Board of Trustees"
   ]
  }
 ],
 "metadata": {
  "kernelspec": {
   "display_name": "Python 3",
   "language": "python",
   "name": "python3"
  },
  "language_info": {
   "codemirror_mode": {
    "name": "ipython",
    "version": 3
   },
   "file_extension": ".py",
   "mimetype": "text/x-python",
   "name": "python",
   "nbconvert_exporter": "python",
   "pygments_lexer": "ipython3",
   "version": "3.7.3"
  }
 },
 "nbformat": 4,
 "nbformat_minor": 2
}
