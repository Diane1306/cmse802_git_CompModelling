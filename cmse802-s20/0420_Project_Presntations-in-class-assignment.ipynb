{
 "cells": [
  {
   "cell_type": "markdown",
   "metadata": {},
   "source": [
    "In order to successfully complete this assignment you need to participate both individually and in groups during class on **Monday April 20**."
   ]
  },
  {
   "cell_type": "markdown",
   "metadata": {},
   "source": [
    "# In-Class Assignment: Project Presentations\n",
    "\n",
    "<img alt=\"Image of video presentations\" src=\"https://cdn.pixabay.com/photo/2018/05/18/03/28/video-3410270_960_720.jpg\" width=\"65%\">\n",
    "\n",
    "Image From: https://pixabay.com/"
   ]
  },
  {
   "cell_type": "markdown",
   "metadata": {},
   "source": [
    "### Agenda for today's class (80 minutes)\n",
    "\n",
    "</p>\n",
    "\n",
    "\n",
    "\n",
    "1. [Video Round Robin](#Video_Round_Robin)\n",
    "1. [Peer Evaluations](#Peer_Evaluations)\n",
    "1. [Classroom Discussions](#Classroom_Discussions)"
   ]
  },
  {
   "cell_type": "markdown",
   "metadata": {},
   "source": [
    "### Quick Links to all videos\n",
    "* [Babak](https://youtu.be/WG4IboEoP6U)\n",
    "* [Cecilie](https://youtu.be/WCORT4HQZpU)\n",
    "* [Chi-En](https://youtu.be/YYOWwxlnMvk)\n",
    "* [Diane](https://youtu.be/ocxiM1hJD7A)\n",
    "* [Ethan](https://www.youtube.com/watch?v=abWtCTJZioA)\n",
    "* [Guangchen](https://youtu.be/Hh0MpdIG0oE)\n",
    "* [Jiyun](https://youtu.be/FhfebwhMdk4)\n",
    "* [Katrina](https://mediaspace.msu.edu/media/t/1_60yjrdjs)\n",
    "* [Keith](https://m.youtube.com/watch?v=asnO85gfLm8)\n",
    "* [Meicheng](https://youtu.be/xVetL1cUY78)\n",
    "* [Meng](https://mediaspace.msu.edu/media/NBHReviewCollector/1_re92h3oc)\n",
    "* [Mingda](https://youtu.be/bODfPc_P2MA)\n",
    "* [Nikolaos](https://mediaspace.msu.edu/media/Frantzeskakis+CMSE+802+final+presentation/1_k3iuytm2)\n",
    "* [Praveen Prabhakar](https://youtu.be/HSqcYMYlERk)\n",
    "* [Qiuqi](https://mediaspace.msu.edu/media/t/1_ar4dee0e)\n",
    "* [Shawk](https://youtu.be/KV5JePH5AAI)\n",
    "* [Shayla](https://youtu.be/oAYIU9Ku-fI)\n",
    "* [Susana](https://youtu.be/kHVT2EsC3AE)\n",
    "* [Thilanka](https://www.youtube.com/watch?v=IAFVFhNh1W4&t=5s)\n",
    "* [Wenyan](https://mediaspace.msu.edu/media/CMSE+802+Final+Presentation+%E2%80%93+Wenyan+Huang/1_1u6y9z9o)"
   ]
  },
  {
   "cell_type": "markdown",
   "metadata": {},
   "source": [
    "----\n",
    "<a name=\"Video_Round_Robin\"></a>\n",
    "# 1. Video Round Robin\n",
    "\n",
    "In class today we will be taking time to review videos for all of the students. If you are not able to attend class today please review your videos on your own.  I will split you up into breakout rooms.  In each room you will review 4 videos and provide feedback for the video. Here are the steps:\n",
    "\n",
    "## Step 1: Split up into breakout rooms\n",
    "\n",
    "Please rename your zoom name with your group number.  "
   ]
  },
  {
   "cell_type": "markdown",
   "metadata": {},
   "source": [
    "* Group 1\n",
    " - Babak\n",
    " - Mingda\n",
    " - Keith\n",
    " - Nikolaos\n",
    "* Group 2\n",
    " - Diane\n",
    " - Shayla\n",
    " - Meng\n",
    " - Praveen Prabhakar\n",
    "* Group 3\n",
    " - Qiuqi\n",
    " - Cecilie\n",
    " - Wenyan\n",
    " - Susana\n",
    "* Group 4\n",
    " - Guangchen\n",
    " - Shawk\n",
    " - Katrina\n",
    " - Meicheng\n",
    "* Group 5\n",
    " - Ethan\n",
    " - Jiyun\n",
    " - Chi-En\n",
    " - Thilanka"
   ]
  },
  {
   "cell_type": "markdown",
   "metadata": {},
   "source": [
    "## Step 2: Review List\n",
    "\n",
    "The following is a link to indivudal presentations.  In your breakout rooms, watch either together or seperatly and discuss what you thought.  Each person will fill out an evaluation for everyone in their breakout room."
   ]
  },
  {
   "cell_type": "markdown",
   "metadata": {},
   "source": [
    "Group 1 ( Babak Mingda Keith Nikolaos ) Watches:\n",
    " - [Praveen Prabhakar](https://youtu.be/HSqcYMYlERk)\n",
    " - [Wenyan](https://mediaspace.msu.edu/media/CMSE+802+Final+Presentation+%E2%80%93+Wenyan+Huang/1_1u6y9z9o)\n",
    " - [Shawk](https://youtu.be/KV5JePH5AAI)\n",
    " - [Ethan](https://www.youtube.com/watch?v=abWtCTJZioA)\n",
    "\n",
    "Group 2 ( Diane Shayla Meng Praveen Prabhakar ) Watches:\n",
    " - [Babak](https://youtu.be/WG4IboEoP6U)\n",
    " - [Susana](https://youtu.be/kHVT2EsC3AE)\n",
    " - [Katrina](https://mediaspace.msu.edu/media/t/1_60yjrdjs)\n",
    " - [Jiyun](https://youtu.be/FhfebwhMdk4)\n",
    "\n",
    "Group 3 ( Qiuqi Cecilie Wenyan Susana ) Watches:\n",
    " - [Mingda](https://youtu.be/bODfPc_P2MA)\n",
    " - [Diane](https://youtu.be/ocxiM1hJD7A)\n",
    " - [Meicheng](https://youtu.be/xVetL1cUY78)\n",
    " - [Chi-En](https://youtu.be/YYOWwxlnMvk)\n",
    "\n",
    "Group 4 ( Guangchen Shawk Katrina Meicheng ) Watches:\n",
    " - [Keith](https://m.youtube.com/watch?v=asnO85gfLm8)\n",
    " - [Shayla](https://youtu.be/oAYIU9Ku-fI)\n",
    " - [Qiuqi](https://mediaspace.msu.edu/media/t/1_ar4dee0e)\n",
    " - [Thilanka](https://www.youtube.com/watch?v=IAFVFhNh1W4&t=5s)\n",
    "\n",
    "Group 5 ( Ethan Jiyun Chi-En Thilanka ) Watches:\n",
    " - [Nikolaos](https://mediaspace.msu.edu/media/Frantzeskakis+CMSE+802+final+presentation/1_k3iuytm2)\n",
    " - [Meng](https://mediaspace.msu.edu/media/NBHReviewCollector/1_re92h3oc)\n",
    " - [Cecilie](https://youtu.be/WCORT4HQZpU)\n",
    " - [Guangchen](https://youtu.be/Hh0MpdIG0oE)"
   ]
  },
  {
   "cell_type": "markdown",
   "metadata": {},
   "source": [
    "----\n",
    "<a name=\"Peer_Evaluations\"></a>\n",
    "# 2. Peer Evaluations\n",
    "\n",
    "[Direct Link](https://docs.google.com/forms/d/e/1FAIpQLSeV5dLgTHQB1Nw2cPYkjL0j9rnXV7Uc-jxdUBVLxHFuTUgglg/viewform)"
   ]
  },
  {
   "cell_type": "code",
   "execution_count": 2,
   "metadata": {},
   "outputs": [
    {
     "data": {
      "text/html": [
       "\n",
       "<iframe \n",
       "\tsrc=\"https://docs.google.com/forms/d/e/1FAIpQLSeV5dLgTHQB1Nw2cPYkjL0j9rnXV7Uc-jxdUBVLxHFuTUgglg/viewform?embedded=true\" \n",
       "\twidth=\"100%\" \n",
       "\theight=\"1200px\" \n",
       "\tframeborder=\"0\" \n",
       "\tmarginheight=\"0\" \n",
       "\tmarginwidth=\"0\">\n",
       "\tLoading...\n",
       "</iframe>\n"
      ],
      "text/plain": [
       "<IPython.core.display.HTML object>"
      ]
     },
     "execution_count": 2,
     "metadata": {},
     "output_type": "execute_result"
    }
   ],
   "source": [
    "from IPython.display import HTML\n",
    "HTML(\n",
    "\"\"\"\n",
    "<iframe \n",
    "\tsrc=\"https://docs.google.com/forms/d/e/1FAIpQLSeV5dLgTHQB1Nw2cPYkjL0j9rnXV7Uc-jxdUBVLxHFuTUgglg/viewform?embedded=true\" \n",
    "\twidth=\"100%\" \n",
    "\theight=\"1200px\" \n",
    "\tframeborder=\"0\" \n",
    "\tmarginheight=\"0\" \n",
    "\tmarginwidth=\"0\">\n",
    "\tLoading...\n",
    "</iframe>\n",
    "\"\"\"\n",
    ")"
   ]
  },
  {
   "cell_type": "markdown",
   "metadata": {},
   "source": [
    "----\n",
    "<a name=\"Classroom_Discussions\"></a>\n",
    "# 3. Classroom Discussions\n",
    "\n",
    "Periodically I will bring everyone back into the main classroom to check on progress, debug technical issues and discuss the videos as a class. "
   ]
  },
  {
   "cell_type": "markdown",
   "metadata": {},
   "source": [
    "### Course Resources:\n",
    "\n",
    "- [Syllabus](https://docs.google.com/document/d/e/2PACX-1vTW4OzeUNhsuG_zvh06MT4r1tguxLFXGFCiMVN49XJJRYfekb7E6LyfGLP5tyLcHqcUNJjH2Vk-Isd8/pub)\n",
    "- [Preliminary Schedule](https://docs.google.com/spreadsheets/d/e/2PACX-1vRsQcyH1nlbSD4x7zvHWAbAcLrGWRo_RqeFyt2loQPgt3MxirrI5ADVFW9IoeLGSBSu_Uo6e8BE4IQc/pubhtml?gid=2142090757&single=true)\n",
    "- [D2L Page](https://d2l.msu.edu/d2l/home/912152)\n",
    "- [Git Repository](https://gitlab.msu.edu/colbrydi/cmse802-s20)"
   ]
  },
  {
   "cell_type": "markdown",
   "metadata": {},
   "source": [
    "&#169; Copyright 2020,  Michigan State University Board of Trustees"
   ]
  }
 ],
 "metadata": {
  "kernelspec": {
   "display_name": "Python 3",
   "language": "python",
   "name": "python3"
  },
  "language_info": {
   "codemirror_mode": {
    "name": "ipython",
    "version": 3
   },
   "file_extension": ".py",
   "mimetype": "text/x-python",
   "name": "python",
   "nbconvert_exporter": "python",
   "pygments_lexer": "ipython3",
   "version": "3.7.6"
  }
 },
 "nbformat": 4,
 "nbformat_minor": 2
}
