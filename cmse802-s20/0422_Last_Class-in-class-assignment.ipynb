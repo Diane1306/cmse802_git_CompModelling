{
 "cells": [
  {
   "cell_type": "markdown",
   "metadata": {},
   "source": [
    "In order to successfully complete this assignment you need to participate both individually and in groups during class on **Wednesday April 22**."
   ]
  },
  {
   "cell_type": "markdown",
   "metadata": {},
   "source": [
    "# In-Class Assignment: We can see the finish line!!!!\n",
    "\n",
    "<img alt=\"Image of video presentations\" src=\"https://freesvg.org/img/Checkered-Racing-Flags.png\" width=\"50%\">\n",
    "\n",
    "Image From: https://freesvg.org/"
   ]
  },
  {
   "cell_type": "markdown",
   "metadata": {},
   "source": [
    "### Agenda for today's class (80 minutes)\n",
    "\n",
    "</p>\n",
    "\n",
    "\n",
    "\n",
    "1. [Thank You](#Thank_You)\n",
    "1. [Sharing with the future](#Share_with_the_future)\n",
    "1. [Nominations for Most Creative_Video](#Creative_Video_Awards)\n",
    "1. [Nominations for Best Project](#Best_Project_Nominations)\n",
    "1. [Concluding Thoughts](#Concluding_Thoughts)"
   ]
  },
  {
   "cell_type": "markdown",
   "metadata": {},
   "source": [
    "----\n",
    "<a name=\"Thank_You\"></a>\n",
    "\n",
    "# 1. Thank You\n",
    "\n",
    "I wanted to thank all of you for an amazing semester.  You have been a wonderful class and I am truly impressed by the variety and creativity of your projects.   In particular, I would like to thank all of you for pressing though to the end even under these amazingly unique circumstances. \n",
    "\n",
    "There are many challenges to working from home but, from what I have seen, all of you stepped up and have done an outstanding job despite the technology difficulties and lack of in-person interactions.  I want to thank you again for working with me to get the most out of this difficult transition. I am very pleased with how everything turned out and I could not have gotten us here without all of your continued support. \n",
    "\n",
    "Please do not hesitate to contact me in the future if you continue to need anything, or, just to say \"Hi.\" I would love to hear from you.\n",
    "\n",
    "- Dirk"
   ]
  },
  {
   "cell_type": "markdown",
   "metadata": {},
   "source": [
    "----\n",
    "<a name=\"Share_with_the_future\"></a>\n",
    "\n",
    "# 2. Sharing with the future\n",
    "\n",
    "In a few weeks (after grades are in) I will be sending everyone an email asking if you would be willing to share your project/video with future students. Even if you provided an inclusive license with your git repository I plan to only use projects from students that have given me written consent.    \n",
    "\n",
    "Please consider sharing your projects with future students as I feel they will help to make this course better."
   ]
  },
  {
   "cell_type": "markdown",
   "metadata": {},
   "source": [
    "----\n",
    "<a name=\"Creative_Video_Awards\"></a>\n",
    "# 3. Nominations for Most Creative Video\n",
    "\n",
    "* [Qiuqi](https://mediaspace.msu.edu/media/t/1_ar4dee0e)\n",
    "* [Cecilie](https://youtu.be/WCORT4HQZpU)\n",
    "* [Chi-En](https://youtu.be/YYOWwxlnMvk)\n",
    "* [Babak](https://youtu.be/WG4IboEoP6U)\n",
    "* [Katrina](https://mediaspace.msu.edu/media/t/1_60yjrdjs)\n",
    "* [Ethan](https://www.youtube.com/watch?v=abWtCTJZioA)\n",
    " "
   ]
  },
  {
   "attachments": {},
   "cell_type": "markdown",
   "metadata": {},
   "source": [
    "----\n",
    "<a name=\"Best_Project_Nominations\"></a>\n",
    "\n",
    "# 4. Nominations for Best Project\n",
    "\n",
    "* Ethan\n",
    "* Katrina\n",
    "* Cecilie\n",
    "* Keith King\n",
    "* Shayla\n",
    "* Susana\n",
    "* Babak Safaei\n",
    "* Diane\n",
    "* Guangchen Shen\n",
    "* Jiyun\n",
    "* Mimi Gong\n",
    "* Mingda Lyu\n",
    "* Qiuqi Cai"
   ]
  },
  {
   "cell_type": "markdown",
   "metadata": {},
   "source": [
    "----\n",
    "<a name=\"Concluding_Thoughts\"></a>\n",
    "\n",
    "# 5. Concluding Thoughts\n",
    "\n",
    "- Peer feedback?\n",
    "- Final projects and final grades\n",
    "- Plans for next semester\n",
    "- Anything else we want to talk about?"
   ]
  },
  {
   "cell_type": "markdown",
   "metadata": {},
   "source": [
    "----\n",
    "<a name=\"Classroom_Discussions\"></a>\n",
    "# 3. Classroom Discussions\n",
    "\n",
    "Periodically I will bring everyone back into the main classroom to check on progress, debug technical issues and discuss the videos as a class. "
   ]
  },
  {
   "cell_type": "markdown",
   "metadata": {},
   "source": [
    "### Course Resources:\n",
    "\n",
    "- [Syllabus](https://docs.google.com/document/d/e/2PACX-1vTW4OzeUNhsuG_zvh06MT4r1tguxLFXGFCiMVN49XJJRYfekb7E6LyfGLP5tyLcHqcUNJjH2Vk-Isd8/pub)\n",
    "- [Preliminary Schedule](https://docs.google.com/spreadsheets/d/e/2PACX-1vRsQcyH1nlbSD4x7zvHWAbAcLrGWRo_RqeFyt2loQPgt3MxirrI5ADVFW9IoeLGSBSu_Uo6e8BE4IQc/pubhtml?gid=2142090757&single=true)\n",
    "- [D2L Page](https://d2l.msu.edu/d2l/home/912152)\n",
    "- [Git Repository](https://gitlab.msu.edu/colbrydi/cmse802-s20)"
   ]
  },
  {
   "cell_type": "markdown",
   "metadata": {},
   "source": [
    "&#169; Copyright 2020,  Michigan State University Board of Trustees"
   ]
  }
 ],
 "metadata": {
  "kernelspec": {
   "display_name": "Python 3",
   "language": "python",
   "name": "python3"
  },
  "language_info": {
   "codemirror_mode": {
    "name": "ipython",
    "version": 3
   },
   "file_extension": ".py",
   "mimetype": "text/x-python",
   "name": "python",
   "nbconvert_exporter": "python",
   "pygments_lexer": "ipython3",
   "version": "3.7.3"
  }
 },
 "nbformat": 4,
 "nbformat_minor": 2
}
